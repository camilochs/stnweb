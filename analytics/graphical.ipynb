{
 "cells": [
  {
   "cell_type": "code",
   "execution_count": 157,
   "metadata": {},
   "outputs": [
    {
     "data": {
      "application/vnd.plotly.v1+json": {
       "config": {
        "plotlyServerURL": "https://plot.ly"
       },
       "data": [
        {
         "legendgroup": "Standard method",
         "line": {
          "color": "red"
         },
         "meanline": {
          "visible": true
         },
         "name": "Standard method",
         "side": "negative",
         "type": "violin",
         "width": 0.2,
         "x": [
          "Exp. 1",
          "Exp. 1",
          "Exp. 1",
          "Exp. 1",
          "Exp. 1",
          "Exp. 1",
          "Exp. 1",
          "Exp. 1",
          "Exp. 1",
          "Exp. 1",
          "Exp. 1",
          "Exp. 1",
          "Exp. 1",
          "Exp. 1",
          "Exp. 1",
          "Exp. 1",
          "Exp. 1",
          "Exp. 1",
          "Exp. 1",
          "Exp. 1",
          "Exp. 1",
          "Exp. 1",
          "Exp. 1",
          "Exp. 1",
          "Exp. 1",
          "Exp. 1",
          "Exp. 1",
          "Exp. 1",
          "Exp. 1",
          "Exp. 1",
          "Exp. 1",
          "Exp. 1",
          "Exp. 1",
          "Exp. 1",
          "Exp. 1",
          "Exp. 1",
          "Exp. 1",
          "Exp. 1",
          "Exp. 1",
          "Exp. 1",
          "Exp. 1",
          "Exp. 1",
          "Exp. 1",
          "Exp. 1",
          "Exp. 1",
          "Exp. 1",
          "Exp. 1",
          "Exp. 1",
          "Exp. 1",
          "Exp. 1",
          "Exp. 1",
          "Exp. 1",
          "Exp. 1",
          "Exp. 1",
          "Exp. 1",
          "Exp. 1",
          "Exp. 1",
          "Exp. 1",
          "Exp. 1",
          "Exp. 1",
          "Exp. 1",
          "Exp. 1",
          "Exp. 1",
          "Exp. 1",
          "Exp. 1",
          "Exp. 1",
          "Exp. 1",
          "Exp. 1",
          "Exp. 1",
          "Exp. 1",
          "Exp. 1",
          "Exp. 1",
          "Exp. 1",
          "Exp. 1",
          "Exp. 1",
          "Exp. 1",
          "Exp. 1",
          "Exp. 1",
          "Exp. 1",
          "Exp. 1",
          "Exp. 1",
          "Exp. 1",
          "Exp. 1",
          "Exp. 1",
          "Exp. 1",
          "Exp. 1",
          "Exp. 1",
          "Exp. 1",
          "Exp. 1",
          "Exp. 1",
          "Exp. 1",
          "Exp. 1",
          "Exp. 1",
          "Exp. 1",
          "Exp. 1",
          "Exp. 1",
          "Exp. 1",
          "Exp. 1",
          "Exp. 1",
          "Exp. 1",
          "Exp. 1",
          "Exp. 1",
          "Exp. 1",
          "Exp. 1",
          "Exp. 1",
          "Exp. 1",
          "Exp. 1",
          "Exp. 1",
          "Exp. 1",
          "Exp. 1",
          "Exp. 1",
          "Exp. 1",
          "Exp. 1",
          "Exp. 1",
          "Exp. 1",
          "Exp. 1",
          "Exp. 1",
          "Exp. 1",
          "Exp. 1",
          "Exp. 1",
          "Exp. 1",
          "Exp. 1",
          "Exp. 1",
          "Exp. 1",
          "Exp. 1",
          "Exp. 1",
          "Exp. 1",
          "Exp. 1",
          "Exp. 1",
          "Exp. 1",
          "Exp. 1",
          "Exp. 1",
          "Exp. 1",
          "Exp. 1",
          "Exp. 1",
          "Exp. 1",
          "Exp. 1",
          "Exp. 1",
          "Exp. 1",
          "Exp. 1",
          "Exp. 1",
          "Exp. 1",
          "Exp. 1",
          "Exp. 1",
          "Exp. 1",
          "Exp. 1",
          "Exp. 1",
          "Exp. 1",
          "Exp. 1",
          "Exp. 1",
          "Exp. 1",
          "Exp. 1",
          "Exp. 1",
          "Exp. 1",
          "Exp. 1",
          "Exp. 1",
          "Exp. 1",
          "Exp. 1",
          "Exp. 1",
          "Exp. 1",
          "Exp. 1",
          "Exp. 1",
          "Exp. 1",
          "Exp. 1",
          "Exp. 1",
          "Exp. 1",
          "Exp. 1",
          "Exp. 1",
          "Exp. 1",
          "Exp. 1",
          "Exp. 1",
          "Exp. 1",
          "Exp. 1",
          "Exp. 1",
          "Exp. 1",
          "Exp. 1",
          "Exp. 1",
          "Exp. 1",
          "Exp. 1",
          "Exp. 1",
          "Exp. 1",
          "Exp. 1",
          "Exp. 1",
          "Exp. 1",
          "Exp. 1",
          "Exp. 1",
          "Exp. 1",
          "Exp. 1",
          "Exp. 1",
          "Exp. 1",
          "Exp. 1",
          "Exp. 1",
          "Exp. 1",
          "Exp. 1",
          "Exp. 1",
          "Exp. 1",
          "Exp. 1",
          "Exp. 1",
          "Exp. 1",
          "Exp. 1",
          "Exp. 1",
          "Exp. 1",
          "Exp. 1",
          "Exp. 1",
          "Exp. 1",
          "Exp. 1",
          "Exp. 1",
          "Exp. 1",
          "Exp. 1",
          "Exp. 1",
          "Exp. 1",
          "Exp. 1",
          "Exp. 1",
          "Exp. 1",
          "Exp. 1",
          "Exp. 1",
          "Exp. 1",
          "Exp. 1",
          "Exp. 1",
          "Exp. 1",
          "Exp. 1",
          "Exp. 1",
          "Exp. 1",
          "Exp. 1",
          "Exp. 1",
          "Exp. 1",
          "Exp. 1",
          "Exp. 1",
          "Exp. 1",
          "Exp. 1",
          "Exp. 1",
          "Exp. 1",
          "Exp. 1",
          "Exp. 1",
          "Exp. 1",
          "Exp. 1",
          "Exp. 1",
          "Exp. 1",
          "Exp. 1",
          "Exp. 1",
          "Exp. 1",
          "Exp. 1",
          "Exp. 1",
          "Exp. 1",
          "Exp. 1",
          "Exp. 1",
          "Exp. 1",
          "Exp. 1",
          "Exp. 1",
          "Exp. 1",
          "Exp. 1",
          "Exp. 1",
          "Exp. 1",
          "Exp. 1",
          "Exp. 1",
          "Exp. 1",
          "Exp. 1",
          "Exp. 1",
          "Exp. 1",
          "Exp. 1",
          "Exp. 1",
          "Exp. 1",
          "Exp. 1",
          "Exp. 1",
          "Exp. 1",
          "Exp. 1",
          "Exp. 1",
          "Exp. 1",
          "Exp. 1"
         ],
         "y": [
          1,
          1,
          1,
          1,
          1,
          1,
          1,
          1,
          1,
          1,
          1,
          1,
          1,
          1,
          1,
          1,
          1,
          1,
          1,
          1,
          1,
          1,
          1,
          1,
          1,
          1,
          1,
          1,
          1,
          1,
          1,
          1,
          1,
          1,
          1,
          1,
          1,
          1,
          1,
          1,
          1,
          1,
          1,
          1,
          1,
          1,
          1,
          1,
          1,
          1,
          1,
          1,
          1,
          1,
          1,
          1,
          1,
          1,
          1,
          1,
          1,
          1,
          1,
          1,
          1,
          1,
          1,
          1,
          1,
          1,
          1,
          1,
          1,
          1,
          1,
          1,
          1,
          1,
          1,
          1,
          1,
          1,
          1,
          1,
          1,
          1,
          1,
          1,
          1,
          1,
          1,
          1,
          1,
          1,
          1,
          1,
          1,
          1,
          1,
          1,
          1,
          1,
          1,
          1,
          1,
          1,
          1,
          1,
          1,
          1,
          1,
          1,
          1,
          1,
          1,
          1,
          1,
          1,
          1,
          1,
          1,
          1,
          1,
          1,
          1,
          1,
          1,
          1,
          1,
          1,
          1,
          1,
          1,
          1,
          1,
          1,
          1,
          1,
          1,
          1,
          1,
          1,
          1,
          1,
          1,
          1,
          1,
          1,
          1,
          1,
          1,
          1,
          1,
          1,
          1,
          1,
          1,
          1,
          1,
          1,
          1,
          1,
          1,
          1,
          1,
          1,
          1,
          1,
          1,
          1,
          1,
          1,
          1,
          1,
          1,
          1,
          1,
          1,
          1,
          1,
          1,
          1,
          1,
          1,
          1,
          1,
          1,
          1,
          1,
          1,
          1,
          1,
          1,
          1,
          1,
          1,
          1,
          1,
          1,
          1,
          1,
          1,
          1,
          1,
          1,
          1,
          1,
          1,
          1,
          1,
          1,
          1,
          1,
          1,
          2,
          2,
          2,
          2,
          2,
          2,
          2,
          2,
          2,
          2,
          2,
          2,
          2,
          2,
          2,
          2,
          2,
          2,
          2,
          2,
          2,
          2,
          2,
          2,
          2,
          2,
          2,
          2,
          2,
          2,
          2,
          2,
          2,
          2,
          2,
          2,
          2,
          2,
          2,
          3,
          3,
          3,
          3,
          3,
          3,
          3,
          3,
          3,
          4,
          5,
          5,
          5,
          6,
          6,
          8
         ]
        },
        {
         "legendgroup": "Agglomerative clustering",
         "line": {
          "color": "green"
         },
         "meanline": {
          "visible": true
         },
         "name": "Agglomerative clustering",
         "side": "positive",
         "type": "violin",
         "width": 0.2,
         "x": [
          "Exp. 1",
          "Exp. 1",
          "Exp. 1",
          "Exp. 1",
          "Exp. 1",
          "Exp. 1",
          "Exp. 1",
          "Exp. 1",
          "Exp. 1",
          "Exp. 1",
          "Exp. 1",
          "Exp. 1",
          "Exp. 1",
          "Exp. 1",
          "Exp. 1",
          "Exp. 1",
          "Exp. 1",
          "Exp. 1",
          "Exp. 1",
          "Exp. 1",
          "Exp. 1",
          "Exp. 1",
          "Exp. 1",
          "Exp. 1",
          "Exp. 1",
          "Exp. 1",
          "Exp. 1",
          "Exp. 1",
          "Exp. 1",
          "Exp. 1",
          "Exp. 1",
          "Exp. 1",
          "Exp. 1",
          "Exp. 1",
          "Exp. 1",
          "Exp. 1",
          "Exp. 1",
          "Exp. 1",
          "Exp. 1",
          "Exp. 1",
          "Exp. 1",
          "Exp. 1",
          "Exp. 1",
          "Exp. 1",
          "Exp. 1",
          "Exp. 1",
          "Exp. 1",
          "Exp. 1",
          "Exp. 1",
          "Exp. 1",
          "Exp. 1",
          "Exp. 1",
          "Exp. 1",
          "Exp. 1",
          "Exp. 1",
          "Exp. 1",
          "Exp. 1",
          "Exp. 1",
          "Exp. 1",
          "Exp. 1",
          "Exp. 1",
          "Exp. 1",
          "Exp. 1",
          "Exp. 1",
          "Exp. 1",
          "Exp. 1",
          "Exp. 1",
          "Exp. 1",
          "Exp. 1",
          "Exp. 1",
          "Exp. 1",
          "Exp. 1",
          "Exp. 1",
          "Exp. 1",
          "Exp. 1",
          "Exp. 1",
          "Exp. 1",
          "Exp. 1",
          "Exp. 1",
          "Exp. 1",
          "Exp. 1",
          "Exp. 1",
          "Exp. 1",
          "Exp. 1",
          "Exp. 1",
          "Exp. 1",
          "Exp. 1",
          "Exp. 1",
          "Exp. 1",
          "Exp. 1",
          "Exp. 1",
          "Exp. 1",
          "Exp. 1",
          "Exp. 1",
          "Exp. 1",
          "Exp. 1",
          "Exp. 1",
          "Exp. 1",
          "Exp. 1",
          "Exp. 1",
          "Exp. 1",
          "Exp. 1",
          "Exp. 1",
          "Exp. 1",
          "Exp. 1",
          "Exp. 1",
          "Exp. 1",
          "Exp. 1",
          "Exp. 1",
          "Exp. 1",
          "Exp. 1",
          "Exp. 1",
          "Exp. 1",
          "Exp. 1",
          "Exp. 1",
          "Exp. 1",
          "Exp. 1",
          "Exp. 1",
          "Exp. 1",
          "Exp. 1",
          "Exp. 1",
          "Exp. 1",
          "Exp. 1",
          "Exp. 1",
          "Exp. 1",
          "Exp. 1",
          "Exp. 1",
          "Exp. 1",
          "Exp. 1",
          "Exp. 1",
          "Exp. 1",
          "Exp. 1",
          "Exp. 1",
          "Exp. 1",
          "Exp. 1",
          "Exp. 1",
          "Exp. 1",
          "Exp. 1",
          "Exp. 1",
          "Exp. 1",
          "Exp. 1",
          "Exp. 1",
          "Exp. 1",
          "Exp. 1",
          "Exp. 1",
          "Exp. 1",
          "Exp. 1",
          "Exp. 1",
          "Exp. 1",
          "Exp. 1",
          "Exp. 1",
          "Exp. 1",
          "Exp. 1",
          "Exp. 1",
          "Exp. 1",
          "Exp. 1",
          "Exp. 1",
          "Exp. 1",
          "Exp. 1",
          "Exp. 1",
          "Exp. 1",
          "Exp. 1",
          "Exp. 1",
          "Exp. 1",
          "Exp. 1",
          "Exp. 1",
          "Exp. 1",
          "Exp. 1",
          "Exp. 1",
          "Exp. 1",
          "Exp. 1",
          "Exp. 1",
          "Exp. 1",
          "Exp. 1",
          "Exp. 1",
          "Exp. 1",
          "Exp. 1",
          "Exp. 1",
          "Exp. 1",
          "Exp. 1",
          "Exp. 1",
          "Exp. 1",
          "Exp. 1",
          "Exp. 1",
          "Exp. 1",
          "Exp. 1",
          "Exp. 1",
          "Exp. 1",
          "Exp. 1",
          "Exp. 1",
          "Exp. 1",
          "Exp. 1",
          "Exp. 1",
          "Exp. 1",
          "Exp. 1",
          "Exp. 1",
          "Exp. 1",
          "Exp. 1",
          "Exp. 1",
          "Exp. 1",
          "Exp. 1",
          "Exp. 1",
          "Exp. 1",
          "Exp. 1",
          "Exp. 1",
          "Exp. 1",
          "Exp. 1",
          "Exp. 1",
          "Exp. 1",
          "Exp. 1",
          "Exp. 1",
          "Exp. 1",
          "Exp. 1",
          "Exp. 1",
          "Exp. 1",
          "Exp. 1",
          "Exp. 1",
          "Exp. 1",
          "Exp. 1",
          "Exp. 1",
          "Exp. 1",
          "Exp. 1",
          "Exp. 1",
          "Exp. 1",
          "Exp. 1",
          "Exp. 1",
          "Exp. 1",
          "Exp. 1",
          "Exp. 1",
          "Exp. 1",
          "Exp. 1",
          "Exp. 1",
          "Exp. 1",
          "Exp. 1",
          "Exp. 1",
          "Exp. 1",
          "Exp. 1"
         ],
         "y": [
          1,
          1,
          1,
          1,
          1,
          1,
          1,
          1,
          1,
          1,
          1,
          1,
          1,
          1,
          1,
          1,
          1,
          1,
          1,
          1,
          1,
          1,
          1,
          1,
          1,
          1,
          1,
          1,
          1,
          1,
          1,
          1,
          1,
          1,
          1,
          1,
          1,
          1,
          1,
          1,
          1,
          1,
          1,
          1,
          1,
          1,
          1,
          1,
          1,
          1,
          1,
          1,
          1,
          1,
          1,
          1,
          1,
          1,
          1,
          1,
          1,
          1,
          1,
          1,
          1,
          1,
          1,
          1,
          1,
          1,
          1,
          1,
          1,
          1,
          1,
          1,
          1,
          1,
          1,
          1,
          1,
          1,
          1,
          1,
          1,
          1,
          1,
          1,
          1,
          1,
          1,
          1,
          1,
          1,
          1,
          1,
          1,
          1,
          1,
          1,
          1,
          1,
          1,
          1,
          1,
          1,
          1,
          1,
          1,
          1,
          1,
          1,
          1,
          1,
          1,
          1,
          1,
          1,
          1,
          1,
          1,
          1,
          1,
          1,
          1,
          1,
          1,
          1,
          1,
          1,
          1,
          1,
          1,
          1,
          1,
          1,
          1,
          1,
          1,
          1,
          1,
          1,
          1,
          1,
          1,
          1,
          1,
          1,
          1,
          1,
          1,
          1,
          1,
          1,
          1,
          1,
          1,
          1,
          1,
          1,
          1,
          1,
          1,
          1,
          1,
          1,
          1,
          1,
          1,
          1,
          1,
          1,
          1,
          1,
          1,
          1,
          1,
          1,
          1,
          1,
          1,
          1,
          1,
          1,
          1,
          1,
          1,
          1,
          1,
          1,
          1,
          1,
          1,
          1,
          1,
          1,
          1,
          1,
          1,
          2,
          2,
          2,
          2,
          2,
          2,
          2,
          2,
          2,
          2,
          2,
          2,
          2,
          2,
          2,
          2,
          2,
          3,
          3,
          3,
          3,
          4,
          4,
          4,
          4,
          4,
          5,
          5,
          6,
          6,
          6,
          8,
          8,
          9,
          9,
          10,
          10,
          11
         ]
        }
       ],
       "layout": {
        "autosize": false,
        "height": 500,
        "paper_bgcolor": "rgba(0,0,0,0)",
        "plot_bgcolor": "rgba(0,0,0,0)",
        "template": {
         "data": {
          "bar": [
           {
            "error_x": {
             "color": "#2a3f5f"
            },
            "error_y": {
             "color": "#2a3f5f"
            },
            "marker": {
             "line": {
              "color": "#E5ECF6",
              "width": 0.5
             },
             "pattern": {
              "fillmode": "overlay",
              "size": 10,
              "solidity": 0.2
             }
            },
            "type": "bar"
           }
          ],
          "barpolar": [
           {
            "marker": {
             "line": {
              "color": "#E5ECF6",
              "width": 0.5
             },
             "pattern": {
              "fillmode": "overlay",
              "size": 10,
              "solidity": 0.2
             }
            },
            "type": "barpolar"
           }
          ],
          "carpet": [
           {
            "aaxis": {
             "endlinecolor": "#2a3f5f",
             "gridcolor": "white",
             "linecolor": "white",
             "minorgridcolor": "white",
             "startlinecolor": "#2a3f5f"
            },
            "baxis": {
             "endlinecolor": "#2a3f5f",
             "gridcolor": "white",
             "linecolor": "white",
             "minorgridcolor": "white",
             "startlinecolor": "#2a3f5f"
            },
            "type": "carpet"
           }
          ],
          "choropleth": [
           {
            "colorbar": {
             "outlinewidth": 0,
             "ticks": ""
            },
            "type": "choropleth"
           }
          ],
          "contour": [
           {
            "colorbar": {
             "outlinewidth": 0,
             "ticks": ""
            },
            "colorscale": [
             [
              0,
              "#0d0887"
             ],
             [
              0.1111111111111111,
              "#46039f"
             ],
             [
              0.2222222222222222,
              "#7201a8"
             ],
             [
              0.3333333333333333,
              "#9c179e"
             ],
             [
              0.4444444444444444,
              "#bd3786"
             ],
             [
              0.5555555555555556,
              "#d8576b"
             ],
             [
              0.6666666666666666,
              "#ed7953"
             ],
             [
              0.7777777777777778,
              "#fb9f3a"
             ],
             [
              0.8888888888888888,
              "#fdca26"
             ],
             [
              1,
              "#f0f921"
             ]
            ],
            "type": "contour"
           }
          ],
          "contourcarpet": [
           {
            "colorbar": {
             "outlinewidth": 0,
             "ticks": ""
            },
            "type": "contourcarpet"
           }
          ],
          "heatmap": [
           {
            "colorbar": {
             "outlinewidth": 0,
             "ticks": ""
            },
            "colorscale": [
             [
              0,
              "#0d0887"
             ],
             [
              0.1111111111111111,
              "#46039f"
             ],
             [
              0.2222222222222222,
              "#7201a8"
             ],
             [
              0.3333333333333333,
              "#9c179e"
             ],
             [
              0.4444444444444444,
              "#bd3786"
             ],
             [
              0.5555555555555556,
              "#d8576b"
             ],
             [
              0.6666666666666666,
              "#ed7953"
             ],
             [
              0.7777777777777778,
              "#fb9f3a"
             ],
             [
              0.8888888888888888,
              "#fdca26"
             ],
             [
              1,
              "#f0f921"
             ]
            ],
            "type": "heatmap"
           }
          ],
          "heatmapgl": [
           {
            "colorbar": {
             "outlinewidth": 0,
             "ticks": ""
            },
            "colorscale": [
             [
              0,
              "#0d0887"
             ],
             [
              0.1111111111111111,
              "#46039f"
             ],
             [
              0.2222222222222222,
              "#7201a8"
             ],
             [
              0.3333333333333333,
              "#9c179e"
             ],
             [
              0.4444444444444444,
              "#bd3786"
             ],
             [
              0.5555555555555556,
              "#d8576b"
             ],
             [
              0.6666666666666666,
              "#ed7953"
             ],
             [
              0.7777777777777778,
              "#fb9f3a"
             ],
             [
              0.8888888888888888,
              "#fdca26"
             ],
             [
              1,
              "#f0f921"
             ]
            ],
            "type": "heatmapgl"
           }
          ],
          "histogram": [
           {
            "marker": {
             "pattern": {
              "fillmode": "overlay",
              "size": 10,
              "solidity": 0.2
             }
            },
            "type": "histogram"
           }
          ],
          "histogram2d": [
           {
            "colorbar": {
             "outlinewidth": 0,
             "ticks": ""
            },
            "colorscale": [
             [
              0,
              "#0d0887"
             ],
             [
              0.1111111111111111,
              "#46039f"
             ],
             [
              0.2222222222222222,
              "#7201a8"
             ],
             [
              0.3333333333333333,
              "#9c179e"
             ],
             [
              0.4444444444444444,
              "#bd3786"
             ],
             [
              0.5555555555555556,
              "#d8576b"
             ],
             [
              0.6666666666666666,
              "#ed7953"
             ],
             [
              0.7777777777777778,
              "#fb9f3a"
             ],
             [
              0.8888888888888888,
              "#fdca26"
             ],
             [
              1,
              "#f0f921"
             ]
            ],
            "type": "histogram2d"
           }
          ],
          "histogram2dcontour": [
           {
            "colorbar": {
             "outlinewidth": 0,
             "ticks": ""
            },
            "colorscale": [
             [
              0,
              "#0d0887"
             ],
             [
              0.1111111111111111,
              "#46039f"
             ],
             [
              0.2222222222222222,
              "#7201a8"
             ],
             [
              0.3333333333333333,
              "#9c179e"
             ],
             [
              0.4444444444444444,
              "#bd3786"
             ],
             [
              0.5555555555555556,
              "#d8576b"
             ],
             [
              0.6666666666666666,
              "#ed7953"
             ],
             [
              0.7777777777777778,
              "#fb9f3a"
             ],
             [
              0.8888888888888888,
              "#fdca26"
             ],
             [
              1,
              "#f0f921"
             ]
            ],
            "type": "histogram2dcontour"
           }
          ],
          "mesh3d": [
           {
            "colorbar": {
             "outlinewidth": 0,
             "ticks": ""
            },
            "type": "mesh3d"
           }
          ],
          "parcoords": [
           {
            "line": {
             "colorbar": {
              "outlinewidth": 0,
              "ticks": ""
             }
            },
            "type": "parcoords"
           }
          ],
          "pie": [
           {
            "automargin": true,
            "type": "pie"
           }
          ],
          "scatter": [
           {
            "fillpattern": {
             "fillmode": "overlay",
             "size": 10,
             "solidity": 0.2
            },
            "type": "scatter"
           }
          ],
          "scatter3d": [
           {
            "line": {
             "colorbar": {
              "outlinewidth": 0,
              "ticks": ""
             }
            },
            "marker": {
             "colorbar": {
              "outlinewidth": 0,
              "ticks": ""
             }
            },
            "type": "scatter3d"
           }
          ],
          "scattercarpet": [
           {
            "marker": {
             "colorbar": {
              "outlinewidth": 0,
              "ticks": ""
             }
            },
            "type": "scattercarpet"
           }
          ],
          "scattergeo": [
           {
            "marker": {
             "colorbar": {
              "outlinewidth": 0,
              "ticks": ""
             }
            },
            "type": "scattergeo"
           }
          ],
          "scattergl": [
           {
            "marker": {
             "colorbar": {
              "outlinewidth": 0,
              "ticks": ""
             }
            },
            "type": "scattergl"
           }
          ],
          "scattermapbox": [
           {
            "marker": {
             "colorbar": {
              "outlinewidth": 0,
              "ticks": ""
             }
            },
            "type": "scattermapbox"
           }
          ],
          "scatterpolar": [
           {
            "marker": {
             "colorbar": {
              "outlinewidth": 0,
              "ticks": ""
             }
            },
            "type": "scatterpolar"
           }
          ],
          "scatterpolargl": [
           {
            "marker": {
             "colorbar": {
              "outlinewidth": 0,
              "ticks": ""
             }
            },
            "type": "scatterpolargl"
           }
          ],
          "scatterternary": [
           {
            "marker": {
             "colorbar": {
              "outlinewidth": 0,
              "ticks": ""
             }
            },
            "type": "scatterternary"
           }
          ],
          "surface": [
           {
            "colorbar": {
             "outlinewidth": 0,
             "ticks": ""
            },
            "colorscale": [
             [
              0,
              "#0d0887"
             ],
             [
              0.1111111111111111,
              "#46039f"
             ],
             [
              0.2222222222222222,
              "#7201a8"
             ],
             [
              0.3333333333333333,
              "#9c179e"
             ],
             [
              0.4444444444444444,
              "#bd3786"
             ],
             [
              0.5555555555555556,
              "#d8576b"
             ],
             [
              0.6666666666666666,
              "#ed7953"
             ],
             [
              0.7777777777777778,
              "#fb9f3a"
             ],
             [
              0.8888888888888888,
              "#fdca26"
             ],
             [
              1,
              "#f0f921"
             ]
            ],
            "type": "surface"
           }
          ],
          "table": [
           {
            "cells": {
             "fill": {
              "color": "#EBF0F8"
             },
             "line": {
              "color": "white"
             }
            },
            "header": {
             "fill": {
              "color": "#C8D4E3"
             },
             "line": {
              "color": "white"
             }
            },
            "type": "table"
           }
          ]
         },
         "layout": {
          "annotationdefaults": {
           "arrowcolor": "#2a3f5f",
           "arrowhead": 0,
           "arrowwidth": 1
          },
          "autotypenumbers": "strict",
          "coloraxis": {
           "colorbar": {
            "outlinewidth": 0,
            "ticks": ""
           }
          },
          "colorscale": {
           "diverging": [
            [
             0,
             "#8e0152"
            ],
            [
             0.1,
             "#c51b7d"
            ],
            [
             0.2,
             "#de77ae"
            ],
            [
             0.3,
             "#f1b6da"
            ],
            [
             0.4,
             "#fde0ef"
            ],
            [
             0.5,
             "#f7f7f7"
            ],
            [
             0.6,
             "#e6f5d0"
            ],
            [
             0.7,
             "#b8e186"
            ],
            [
             0.8,
             "#7fbc41"
            ],
            [
             0.9,
             "#4d9221"
            ],
            [
             1,
             "#276419"
            ]
           ],
           "sequential": [
            [
             0,
             "#0d0887"
            ],
            [
             0.1111111111111111,
             "#46039f"
            ],
            [
             0.2222222222222222,
             "#7201a8"
            ],
            [
             0.3333333333333333,
             "#9c179e"
            ],
            [
             0.4444444444444444,
             "#bd3786"
            ],
            [
             0.5555555555555556,
             "#d8576b"
            ],
            [
             0.6666666666666666,
             "#ed7953"
            ],
            [
             0.7777777777777778,
             "#fb9f3a"
            ],
            [
             0.8888888888888888,
             "#fdca26"
            ],
            [
             1,
             "#f0f921"
            ]
           ],
           "sequentialminus": [
            [
             0,
             "#0d0887"
            ],
            [
             0.1111111111111111,
             "#46039f"
            ],
            [
             0.2222222222222222,
             "#7201a8"
            ],
            [
             0.3333333333333333,
             "#9c179e"
            ],
            [
             0.4444444444444444,
             "#bd3786"
            ],
            [
             0.5555555555555556,
             "#d8576b"
            ],
            [
             0.6666666666666666,
             "#ed7953"
            ],
            [
             0.7777777777777778,
             "#fb9f3a"
            ],
            [
             0.8888888888888888,
             "#fdca26"
            ],
            [
             1,
             "#f0f921"
            ]
           ]
          },
          "colorway": [
           "#636efa",
           "#EF553B",
           "#00cc96",
           "#ab63fa",
           "#FFA15A",
           "#19d3f3",
           "#FF6692",
           "#B6E880",
           "#FF97FF",
           "#FECB52"
          ],
          "font": {
           "color": "#2a3f5f"
          },
          "geo": {
           "bgcolor": "white",
           "lakecolor": "white",
           "landcolor": "#E5ECF6",
           "showlakes": true,
           "showland": true,
           "subunitcolor": "white"
          },
          "hoverlabel": {
           "align": "left"
          },
          "hovermode": "closest",
          "mapbox": {
           "style": "light"
          },
          "paper_bgcolor": "white",
          "plot_bgcolor": "#E5ECF6",
          "polar": {
           "angularaxis": {
            "gridcolor": "white",
            "linecolor": "white",
            "ticks": ""
           },
           "bgcolor": "#E5ECF6",
           "radialaxis": {
            "gridcolor": "white",
            "linecolor": "white",
            "ticks": ""
           }
          },
          "scene": {
           "xaxis": {
            "backgroundcolor": "#E5ECF6",
            "gridcolor": "white",
            "gridwidth": 2,
            "linecolor": "white",
            "showbackground": true,
            "ticks": "",
            "zerolinecolor": "white"
           },
           "yaxis": {
            "backgroundcolor": "#E5ECF6",
            "gridcolor": "white",
            "gridwidth": 2,
            "linecolor": "white",
            "showbackground": true,
            "ticks": "",
            "zerolinecolor": "white"
           },
           "zaxis": {
            "backgroundcolor": "#E5ECF6",
            "gridcolor": "white",
            "gridwidth": 2,
            "linecolor": "white",
            "showbackground": true,
            "ticks": "",
            "zerolinecolor": "white"
           }
          },
          "shapedefaults": {
           "line": {
            "color": "#2a3f5f"
           }
          },
          "ternary": {
           "aaxis": {
            "gridcolor": "white",
            "linecolor": "white",
            "ticks": ""
           },
           "baxis": {
            "gridcolor": "white",
            "linecolor": "white",
            "ticks": ""
           },
           "bgcolor": "#E5ECF6",
           "caxis": {
            "gridcolor": "white",
            "linecolor": "white",
            "ticks": ""
           }
          },
          "title": {
           "x": 0.05
          },
          "xaxis": {
           "automargin": true,
           "gridcolor": "white",
           "linecolor": "white",
           "ticks": "",
           "title": {
            "standoff": 15
           },
           "zerolinecolor": "white",
           "zerolinewidth": 2
          },
          "yaxis": {
           "automargin": true,
           "gridcolor": "white",
           "linecolor": "white",
           "ticks": "",
           "title": {
            "standoff": 15
           },
           "zerolinecolor": "white",
           "zerolinewidth": 2
          }
         }
        },
        "violingap": 0,
        "violinmode": "overlay",
        "width": 450,
        "xaxis": {
         "showgrid": false,
         "zeroline": false
        }
       }
      },
      "text/html": [
       "<div>                            <div id=\"f10aa8e2-d0e2-4314-b56e-9c2a04ca5bfb\" class=\"plotly-graph-div\" style=\"height:500px; width:450px;\"></div>            <script type=\"text/javascript\">                require([\"plotly\"], function(Plotly) {                    window.PLOTLYENV=window.PLOTLYENV || {};                                    if (document.getElementById(\"f10aa8e2-d0e2-4314-b56e-9c2a04ca5bfb\")) {                    Plotly.newPlot(                        \"f10aa8e2-d0e2-4314-b56e-9c2a04ca5bfb\",                        [{\"legendgroup\":\"Standard method\",\"line\":{\"color\":\"red\"},\"name\":\"Standard method\",\"side\":\"negative\",\"width\":0.2,\"x\":[\"Exp. 1\",\"Exp. 1\",\"Exp. 1\",\"Exp. 1\",\"Exp. 1\",\"Exp. 1\",\"Exp. 1\",\"Exp. 1\",\"Exp. 1\",\"Exp. 1\",\"Exp. 1\",\"Exp. 1\",\"Exp. 1\",\"Exp. 1\",\"Exp. 1\",\"Exp. 1\",\"Exp. 1\",\"Exp. 1\",\"Exp. 1\",\"Exp. 1\",\"Exp. 1\",\"Exp. 1\",\"Exp. 1\",\"Exp. 1\",\"Exp. 1\",\"Exp. 1\",\"Exp. 1\",\"Exp. 1\",\"Exp. 1\",\"Exp. 1\",\"Exp. 1\",\"Exp. 1\",\"Exp. 1\",\"Exp. 1\",\"Exp. 1\",\"Exp. 1\",\"Exp. 1\",\"Exp. 1\",\"Exp. 1\",\"Exp. 1\",\"Exp. 1\",\"Exp. 1\",\"Exp. 1\",\"Exp. 1\",\"Exp. 1\",\"Exp. 1\",\"Exp. 1\",\"Exp. 1\",\"Exp. 1\",\"Exp. 1\",\"Exp. 1\",\"Exp. 1\",\"Exp. 1\",\"Exp. 1\",\"Exp. 1\",\"Exp. 1\",\"Exp. 1\",\"Exp. 1\",\"Exp. 1\",\"Exp. 1\",\"Exp. 1\",\"Exp. 1\",\"Exp. 1\",\"Exp. 1\",\"Exp. 1\",\"Exp. 1\",\"Exp. 1\",\"Exp. 1\",\"Exp. 1\",\"Exp. 1\",\"Exp. 1\",\"Exp. 1\",\"Exp. 1\",\"Exp. 1\",\"Exp. 1\",\"Exp. 1\",\"Exp. 1\",\"Exp. 1\",\"Exp. 1\",\"Exp. 1\",\"Exp. 1\",\"Exp. 1\",\"Exp. 1\",\"Exp. 1\",\"Exp. 1\",\"Exp. 1\",\"Exp. 1\",\"Exp. 1\",\"Exp. 1\",\"Exp. 1\",\"Exp. 1\",\"Exp. 1\",\"Exp. 1\",\"Exp. 1\",\"Exp. 1\",\"Exp. 1\",\"Exp. 1\",\"Exp. 1\",\"Exp. 1\",\"Exp. 1\",\"Exp. 1\",\"Exp. 1\",\"Exp. 1\",\"Exp. 1\",\"Exp. 1\",\"Exp. 1\",\"Exp. 1\",\"Exp. 1\",\"Exp. 1\",\"Exp. 1\",\"Exp. 1\",\"Exp. 1\",\"Exp. 1\",\"Exp. 1\",\"Exp. 1\",\"Exp. 1\",\"Exp. 1\",\"Exp. 1\",\"Exp. 1\",\"Exp. 1\",\"Exp. 1\",\"Exp. 1\",\"Exp. 1\",\"Exp. 1\",\"Exp. 1\",\"Exp. 1\",\"Exp. 1\",\"Exp. 1\",\"Exp. 1\",\"Exp. 1\",\"Exp. 1\",\"Exp. 1\",\"Exp. 1\",\"Exp. 1\",\"Exp. 1\",\"Exp. 1\",\"Exp. 1\",\"Exp. 1\",\"Exp. 1\",\"Exp. 1\",\"Exp. 1\",\"Exp. 1\",\"Exp. 1\",\"Exp. 1\",\"Exp. 1\",\"Exp. 1\",\"Exp. 1\",\"Exp. 1\",\"Exp. 1\",\"Exp. 1\",\"Exp. 1\",\"Exp. 1\",\"Exp. 1\",\"Exp. 1\",\"Exp. 1\",\"Exp. 1\",\"Exp. 1\",\"Exp. 1\",\"Exp. 1\",\"Exp. 1\",\"Exp. 1\",\"Exp. 1\",\"Exp. 1\",\"Exp. 1\",\"Exp. 1\",\"Exp. 1\",\"Exp. 1\",\"Exp. 1\",\"Exp. 1\",\"Exp. 1\",\"Exp. 1\",\"Exp. 1\",\"Exp. 1\",\"Exp. 1\",\"Exp. 1\",\"Exp. 1\",\"Exp. 1\",\"Exp. 1\",\"Exp. 1\",\"Exp. 1\",\"Exp. 1\",\"Exp. 1\",\"Exp. 1\",\"Exp. 1\",\"Exp. 1\",\"Exp. 1\",\"Exp. 1\",\"Exp. 1\",\"Exp. 1\",\"Exp. 1\",\"Exp. 1\",\"Exp. 1\",\"Exp. 1\",\"Exp. 1\",\"Exp. 1\",\"Exp. 1\",\"Exp. 1\",\"Exp. 1\",\"Exp. 1\",\"Exp. 1\",\"Exp. 1\",\"Exp. 1\",\"Exp. 1\",\"Exp. 1\",\"Exp. 1\",\"Exp. 1\",\"Exp. 1\",\"Exp. 1\",\"Exp. 1\",\"Exp. 1\",\"Exp. 1\",\"Exp. 1\",\"Exp. 1\",\"Exp. 1\",\"Exp. 1\",\"Exp. 1\",\"Exp. 1\",\"Exp. 1\",\"Exp. 1\",\"Exp. 1\",\"Exp. 1\",\"Exp. 1\",\"Exp. 1\",\"Exp. 1\",\"Exp. 1\",\"Exp. 1\",\"Exp. 1\",\"Exp. 1\",\"Exp. 1\",\"Exp. 1\",\"Exp. 1\",\"Exp. 1\",\"Exp. 1\",\"Exp. 1\",\"Exp. 1\",\"Exp. 1\",\"Exp. 1\",\"Exp. 1\",\"Exp. 1\",\"Exp. 1\",\"Exp. 1\",\"Exp. 1\",\"Exp. 1\",\"Exp. 1\",\"Exp. 1\",\"Exp. 1\",\"Exp. 1\",\"Exp. 1\",\"Exp. 1\",\"Exp. 1\",\"Exp. 1\",\"Exp. 1\",\"Exp. 1\",\"Exp. 1\",\"Exp. 1\",\"Exp. 1\",\"Exp. 1\",\"Exp. 1\",\"Exp. 1\",\"Exp. 1\",\"Exp. 1\",\"Exp. 1\",\"Exp. 1\",\"Exp. 1\",\"Exp. 1\",\"Exp. 1\",\"Exp. 1\",\"Exp. 1\",\"Exp. 1\"],\"y\":[1,1,1,1,1,1,1,1,1,1,1,1,1,1,1,1,1,1,1,1,1,1,1,1,1,1,1,1,1,1,1,1,1,1,1,1,1,1,1,1,1,1,1,1,1,1,1,1,1,1,1,1,1,1,1,1,1,1,1,1,1,1,1,1,1,1,1,1,1,1,1,1,1,1,1,1,1,1,1,1,1,1,1,1,1,1,1,1,1,1,1,1,1,1,1,1,1,1,1,1,1,1,1,1,1,1,1,1,1,1,1,1,1,1,1,1,1,1,1,1,1,1,1,1,1,1,1,1,1,1,1,1,1,1,1,1,1,1,1,1,1,1,1,1,1,1,1,1,1,1,1,1,1,1,1,1,1,1,1,1,1,1,1,1,1,1,1,1,1,1,1,1,1,1,1,1,1,1,1,1,1,1,1,1,1,1,1,1,1,1,1,1,1,1,1,1,1,1,1,1,1,1,1,1,1,1,1,1,1,1,1,1,1,1,2,2,2,2,2,2,2,2,2,2,2,2,2,2,2,2,2,2,2,2,2,2,2,2,2,2,2,2,2,2,2,2,2,2,2,2,2,2,2,3,3,3,3,3,3,3,3,3,4,5,5,5,6,6,8],\"type\":\"violin\",\"meanline\":{\"visible\":true}},{\"legendgroup\":\"Agglomerative clustering\",\"line\":{\"color\":\"green\"},\"name\":\"Agglomerative clustering\",\"side\":\"positive\",\"width\":0.2,\"x\":[\"Exp. 1\",\"Exp. 1\",\"Exp. 1\",\"Exp. 1\",\"Exp. 1\",\"Exp. 1\",\"Exp. 1\",\"Exp. 1\",\"Exp. 1\",\"Exp. 1\",\"Exp. 1\",\"Exp. 1\",\"Exp. 1\",\"Exp. 1\",\"Exp. 1\",\"Exp. 1\",\"Exp. 1\",\"Exp. 1\",\"Exp. 1\",\"Exp. 1\",\"Exp. 1\",\"Exp. 1\",\"Exp. 1\",\"Exp. 1\",\"Exp. 1\",\"Exp. 1\",\"Exp. 1\",\"Exp. 1\",\"Exp. 1\",\"Exp. 1\",\"Exp. 1\",\"Exp. 1\",\"Exp. 1\",\"Exp. 1\",\"Exp. 1\",\"Exp. 1\",\"Exp. 1\",\"Exp. 1\",\"Exp. 1\",\"Exp. 1\",\"Exp. 1\",\"Exp. 1\",\"Exp. 1\",\"Exp. 1\",\"Exp. 1\",\"Exp. 1\",\"Exp. 1\",\"Exp. 1\",\"Exp. 1\",\"Exp. 1\",\"Exp. 1\",\"Exp. 1\",\"Exp. 1\",\"Exp. 1\",\"Exp. 1\",\"Exp. 1\",\"Exp. 1\",\"Exp. 1\",\"Exp. 1\",\"Exp. 1\",\"Exp. 1\",\"Exp. 1\",\"Exp. 1\",\"Exp. 1\",\"Exp. 1\",\"Exp. 1\",\"Exp. 1\",\"Exp. 1\",\"Exp. 1\",\"Exp. 1\",\"Exp. 1\",\"Exp. 1\",\"Exp. 1\",\"Exp. 1\",\"Exp. 1\",\"Exp. 1\",\"Exp. 1\",\"Exp. 1\",\"Exp. 1\",\"Exp. 1\",\"Exp. 1\",\"Exp. 1\",\"Exp. 1\",\"Exp. 1\",\"Exp. 1\",\"Exp. 1\",\"Exp. 1\",\"Exp. 1\",\"Exp. 1\",\"Exp. 1\",\"Exp. 1\",\"Exp. 1\",\"Exp. 1\",\"Exp. 1\",\"Exp. 1\",\"Exp. 1\",\"Exp. 1\",\"Exp. 1\",\"Exp. 1\",\"Exp. 1\",\"Exp. 1\",\"Exp. 1\",\"Exp. 1\",\"Exp. 1\",\"Exp. 1\",\"Exp. 1\",\"Exp. 1\",\"Exp. 1\",\"Exp. 1\",\"Exp. 1\",\"Exp. 1\",\"Exp. 1\",\"Exp. 1\",\"Exp. 1\",\"Exp. 1\",\"Exp. 1\",\"Exp. 1\",\"Exp. 1\",\"Exp. 1\",\"Exp. 1\",\"Exp. 1\",\"Exp. 1\",\"Exp. 1\",\"Exp. 1\",\"Exp. 1\",\"Exp. 1\",\"Exp. 1\",\"Exp. 1\",\"Exp. 1\",\"Exp. 1\",\"Exp. 1\",\"Exp. 1\",\"Exp. 1\",\"Exp. 1\",\"Exp. 1\",\"Exp. 1\",\"Exp. 1\",\"Exp. 1\",\"Exp. 1\",\"Exp. 1\",\"Exp. 1\",\"Exp. 1\",\"Exp. 1\",\"Exp. 1\",\"Exp. 1\",\"Exp. 1\",\"Exp. 1\",\"Exp. 1\",\"Exp. 1\",\"Exp. 1\",\"Exp. 1\",\"Exp. 1\",\"Exp. 1\",\"Exp. 1\",\"Exp. 1\",\"Exp. 1\",\"Exp. 1\",\"Exp. 1\",\"Exp. 1\",\"Exp. 1\",\"Exp. 1\",\"Exp. 1\",\"Exp. 1\",\"Exp. 1\",\"Exp. 1\",\"Exp. 1\",\"Exp. 1\",\"Exp. 1\",\"Exp. 1\",\"Exp. 1\",\"Exp. 1\",\"Exp. 1\",\"Exp. 1\",\"Exp. 1\",\"Exp. 1\",\"Exp. 1\",\"Exp. 1\",\"Exp. 1\",\"Exp. 1\",\"Exp. 1\",\"Exp. 1\",\"Exp. 1\",\"Exp. 1\",\"Exp. 1\",\"Exp. 1\",\"Exp. 1\",\"Exp. 1\",\"Exp. 1\",\"Exp. 1\",\"Exp. 1\",\"Exp. 1\",\"Exp. 1\",\"Exp. 1\",\"Exp. 1\",\"Exp. 1\",\"Exp. 1\",\"Exp. 1\",\"Exp. 1\",\"Exp. 1\",\"Exp. 1\",\"Exp. 1\",\"Exp. 1\",\"Exp. 1\",\"Exp. 1\",\"Exp. 1\",\"Exp. 1\",\"Exp. 1\",\"Exp. 1\",\"Exp. 1\",\"Exp. 1\",\"Exp. 1\",\"Exp. 1\",\"Exp. 1\",\"Exp. 1\",\"Exp. 1\",\"Exp. 1\",\"Exp. 1\",\"Exp. 1\",\"Exp. 1\",\"Exp. 1\",\"Exp. 1\",\"Exp. 1\",\"Exp. 1\",\"Exp. 1\",\"Exp. 1\",\"Exp. 1\",\"Exp. 1\",\"Exp. 1\",\"Exp. 1\",\"Exp. 1\",\"Exp. 1\",\"Exp. 1\",\"Exp. 1\",\"Exp. 1\",\"Exp. 1\",\"Exp. 1\",\"Exp. 1\"],\"y\":[1,1,1,1,1,1,1,1,1,1,1,1,1,1,1,1,1,1,1,1,1,1,1,1,1,1,1,1,1,1,1,1,1,1,1,1,1,1,1,1,1,1,1,1,1,1,1,1,1,1,1,1,1,1,1,1,1,1,1,1,1,1,1,1,1,1,1,1,1,1,1,1,1,1,1,1,1,1,1,1,1,1,1,1,1,1,1,1,1,1,1,1,1,1,1,1,1,1,1,1,1,1,1,1,1,1,1,1,1,1,1,1,1,1,1,1,1,1,1,1,1,1,1,1,1,1,1,1,1,1,1,1,1,1,1,1,1,1,1,1,1,1,1,1,1,1,1,1,1,1,1,1,1,1,1,1,1,1,1,1,1,1,1,1,1,1,1,1,1,1,1,1,1,1,1,1,1,1,1,1,1,1,1,1,1,1,1,1,1,1,1,1,1,1,1,1,1,1,1,2,2,2,2,2,2,2,2,2,2,2,2,2,2,2,2,2,3,3,3,3,4,4,4,4,4,5,5,6,6,6,8,8,9,9,10,10,11],\"type\":\"violin\",\"meanline\":{\"visible\":true}}],                        {\"paper_bgcolor\":\"rgba(0,0,0,0)\",\"plot_bgcolor\":\"rgba(0,0,0,0)\",\"template\":{\"data\":{\"histogram2dcontour\":[{\"type\":\"histogram2dcontour\",\"colorbar\":{\"outlinewidth\":0,\"ticks\":\"\"},\"colorscale\":[[0.0,\"#0d0887\"],[0.1111111111111111,\"#46039f\"],[0.2222222222222222,\"#7201a8\"],[0.3333333333333333,\"#9c179e\"],[0.4444444444444444,\"#bd3786\"],[0.5555555555555556,\"#d8576b\"],[0.6666666666666666,\"#ed7953\"],[0.7777777777777778,\"#fb9f3a\"],[0.8888888888888888,\"#fdca26\"],[1.0,\"#f0f921\"]]}],\"choropleth\":[{\"type\":\"choropleth\",\"colorbar\":{\"outlinewidth\":0,\"ticks\":\"\"}}],\"histogram2d\":[{\"type\":\"histogram2d\",\"colorbar\":{\"outlinewidth\":0,\"ticks\":\"\"},\"colorscale\":[[0.0,\"#0d0887\"],[0.1111111111111111,\"#46039f\"],[0.2222222222222222,\"#7201a8\"],[0.3333333333333333,\"#9c179e\"],[0.4444444444444444,\"#bd3786\"],[0.5555555555555556,\"#d8576b\"],[0.6666666666666666,\"#ed7953\"],[0.7777777777777778,\"#fb9f3a\"],[0.8888888888888888,\"#fdca26\"],[1.0,\"#f0f921\"]]}],\"heatmap\":[{\"type\":\"heatmap\",\"colorbar\":{\"outlinewidth\":0,\"ticks\":\"\"},\"colorscale\":[[0.0,\"#0d0887\"],[0.1111111111111111,\"#46039f\"],[0.2222222222222222,\"#7201a8\"],[0.3333333333333333,\"#9c179e\"],[0.4444444444444444,\"#bd3786\"],[0.5555555555555556,\"#d8576b\"],[0.6666666666666666,\"#ed7953\"],[0.7777777777777778,\"#fb9f3a\"],[0.8888888888888888,\"#fdca26\"],[1.0,\"#f0f921\"]]}],\"heatmapgl\":[{\"type\":\"heatmapgl\",\"colorbar\":{\"outlinewidth\":0,\"ticks\":\"\"},\"colorscale\":[[0.0,\"#0d0887\"],[0.1111111111111111,\"#46039f\"],[0.2222222222222222,\"#7201a8\"],[0.3333333333333333,\"#9c179e\"],[0.4444444444444444,\"#bd3786\"],[0.5555555555555556,\"#d8576b\"],[0.6666666666666666,\"#ed7953\"],[0.7777777777777778,\"#fb9f3a\"],[0.8888888888888888,\"#fdca26\"],[1.0,\"#f0f921\"]]}],\"contourcarpet\":[{\"type\":\"contourcarpet\",\"colorbar\":{\"outlinewidth\":0,\"ticks\":\"\"}}],\"contour\":[{\"type\":\"contour\",\"colorbar\":{\"outlinewidth\":0,\"ticks\":\"\"},\"colorscale\":[[0.0,\"#0d0887\"],[0.1111111111111111,\"#46039f\"],[0.2222222222222222,\"#7201a8\"],[0.3333333333333333,\"#9c179e\"],[0.4444444444444444,\"#bd3786\"],[0.5555555555555556,\"#d8576b\"],[0.6666666666666666,\"#ed7953\"],[0.7777777777777778,\"#fb9f3a\"],[0.8888888888888888,\"#fdca26\"],[1.0,\"#f0f921\"]]}],\"surface\":[{\"type\":\"surface\",\"colorbar\":{\"outlinewidth\":0,\"ticks\":\"\"},\"colorscale\":[[0.0,\"#0d0887\"],[0.1111111111111111,\"#46039f\"],[0.2222222222222222,\"#7201a8\"],[0.3333333333333333,\"#9c179e\"],[0.4444444444444444,\"#bd3786\"],[0.5555555555555556,\"#d8576b\"],[0.6666666666666666,\"#ed7953\"],[0.7777777777777778,\"#fb9f3a\"],[0.8888888888888888,\"#fdca26\"],[1.0,\"#f0f921\"]]}],\"mesh3d\":[{\"type\":\"mesh3d\",\"colorbar\":{\"outlinewidth\":0,\"ticks\":\"\"}}],\"scatter\":[{\"fillpattern\":{\"fillmode\":\"overlay\",\"size\":10,\"solidity\":0.2},\"type\":\"scatter\"}],\"parcoords\":[{\"type\":\"parcoords\",\"line\":{\"colorbar\":{\"outlinewidth\":0,\"ticks\":\"\"}}}],\"scatterpolargl\":[{\"type\":\"scatterpolargl\",\"marker\":{\"colorbar\":{\"outlinewidth\":0,\"ticks\":\"\"}}}],\"bar\":[{\"error_x\":{\"color\":\"#2a3f5f\"},\"error_y\":{\"color\":\"#2a3f5f\"},\"marker\":{\"line\":{\"color\":\"#E5ECF6\",\"width\":0.5},\"pattern\":{\"fillmode\":\"overlay\",\"size\":10,\"solidity\":0.2}},\"type\":\"bar\"}],\"scattergeo\":[{\"type\":\"scattergeo\",\"marker\":{\"colorbar\":{\"outlinewidth\":0,\"ticks\":\"\"}}}],\"scatterpolar\":[{\"type\":\"scatterpolar\",\"marker\":{\"colorbar\":{\"outlinewidth\":0,\"ticks\":\"\"}}}],\"histogram\":[{\"marker\":{\"pattern\":{\"fillmode\":\"overlay\",\"size\":10,\"solidity\":0.2}},\"type\":\"histogram\"}],\"scattergl\":[{\"type\":\"scattergl\",\"marker\":{\"colorbar\":{\"outlinewidth\":0,\"ticks\":\"\"}}}],\"scatter3d\":[{\"type\":\"scatter3d\",\"line\":{\"colorbar\":{\"outlinewidth\":0,\"ticks\":\"\"}},\"marker\":{\"colorbar\":{\"outlinewidth\":0,\"ticks\":\"\"}}}],\"scattermapbox\":[{\"type\":\"scattermapbox\",\"marker\":{\"colorbar\":{\"outlinewidth\":0,\"ticks\":\"\"}}}],\"scatterternary\":[{\"type\":\"scatterternary\",\"marker\":{\"colorbar\":{\"outlinewidth\":0,\"ticks\":\"\"}}}],\"scattercarpet\":[{\"type\":\"scattercarpet\",\"marker\":{\"colorbar\":{\"outlinewidth\":0,\"ticks\":\"\"}}}],\"carpet\":[{\"aaxis\":{\"endlinecolor\":\"#2a3f5f\",\"gridcolor\":\"white\",\"linecolor\":\"white\",\"minorgridcolor\":\"white\",\"startlinecolor\":\"#2a3f5f\"},\"baxis\":{\"endlinecolor\":\"#2a3f5f\",\"gridcolor\":\"white\",\"linecolor\":\"white\",\"minorgridcolor\":\"white\",\"startlinecolor\":\"#2a3f5f\"},\"type\":\"carpet\"}],\"table\":[{\"cells\":{\"fill\":{\"color\":\"#EBF0F8\"},\"line\":{\"color\":\"white\"}},\"header\":{\"fill\":{\"color\":\"#C8D4E3\"},\"line\":{\"color\":\"white\"}},\"type\":\"table\"}],\"barpolar\":[{\"marker\":{\"line\":{\"color\":\"#E5ECF6\",\"width\":0.5},\"pattern\":{\"fillmode\":\"overlay\",\"size\":10,\"solidity\":0.2}},\"type\":\"barpolar\"}],\"pie\":[{\"automargin\":true,\"type\":\"pie\"}]},\"layout\":{\"autotypenumbers\":\"strict\",\"colorway\":[\"#636efa\",\"#EF553B\",\"#00cc96\",\"#ab63fa\",\"#FFA15A\",\"#19d3f3\",\"#FF6692\",\"#B6E880\",\"#FF97FF\",\"#FECB52\"],\"font\":{\"color\":\"#2a3f5f\"},\"hovermode\":\"closest\",\"hoverlabel\":{\"align\":\"left\"},\"paper_bgcolor\":\"white\",\"plot_bgcolor\":\"#E5ECF6\",\"polar\":{\"bgcolor\":\"#E5ECF6\",\"angularaxis\":{\"gridcolor\":\"white\",\"linecolor\":\"white\",\"ticks\":\"\"},\"radialaxis\":{\"gridcolor\":\"white\",\"linecolor\":\"white\",\"ticks\":\"\"}},\"ternary\":{\"bgcolor\":\"#E5ECF6\",\"aaxis\":{\"gridcolor\":\"white\",\"linecolor\":\"white\",\"ticks\":\"\"},\"baxis\":{\"gridcolor\":\"white\",\"linecolor\":\"white\",\"ticks\":\"\"},\"caxis\":{\"gridcolor\":\"white\",\"linecolor\":\"white\",\"ticks\":\"\"}},\"coloraxis\":{\"colorbar\":{\"outlinewidth\":0,\"ticks\":\"\"}},\"colorscale\":{\"sequential\":[[0.0,\"#0d0887\"],[0.1111111111111111,\"#46039f\"],[0.2222222222222222,\"#7201a8\"],[0.3333333333333333,\"#9c179e\"],[0.4444444444444444,\"#bd3786\"],[0.5555555555555556,\"#d8576b\"],[0.6666666666666666,\"#ed7953\"],[0.7777777777777778,\"#fb9f3a\"],[0.8888888888888888,\"#fdca26\"],[1.0,\"#f0f921\"]],\"sequentialminus\":[[0.0,\"#0d0887\"],[0.1111111111111111,\"#46039f\"],[0.2222222222222222,\"#7201a8\"],[0.3333333333333333,\"#9c179e\"],[0.4444444444444444,\"#bd3786\"],[0.5555555555555556,\"#d8576b\"],[0.6666666666666666,\"#ed7953\"],[0.7777777777777778,\"#fb9f3a\"],[0.8888888888888888,\"#fdca26\"],[1.0,\"#f0f921\"]],\"diverging\":[[0,\"#8e0152\"],[0.1,\"#c51b7d\"],[0.2,\"#de77ae\"],[0.3,\"#f1b6da\"],[0.4,\"#fde0ef\"],[0.5,\"#f7f7f7\"],[0.6,\"#e6f5d0\"],[0.7,\"#b8e186\"],[0.8,\"#7fbc41\"],[0.9,\"#4d9221\"],[1,\"#276419\"]]},\"xaxis\":{\"gridcolor\":\"white\",\"linecolor\":\"white\",\"ticks\":\"\",\"title\":{\"standoff\":15},\"zerolinecolor\":\"white\",\"automargin\":true,\"zerolinewidth\":2},\"yaxis\":{\"gridcolor\":\"white\",\"linecolor\":\"white\",\"ticks\":\"\",\"title\":{\"standoff\":15},\"zerolinecolor\":\"white\",\"automargin\":true,\"zerolinewidth\":2},\"scene\":{\"xaxis\":{\"backgroundcolor\":\"#E5ECF6\",\"gridcolor\":\"white\",\"linecolor\":\"white\",\"showbackground\":true,\"ticks\":\"\",\"zerolinecolor\":\"white\",\"gridwidth\":2},\"yaxis\":{\"backgroundcolor\":\"#E5ECF6\",\"gridcolor\":\"white\",\"linecolor\":\"white\",\"showbackground\":true,\"ticks\":\"\",\"zerolinecolor\":\"white\",\"gridwidth\":2},\"zaxis\":{\"backgroundcolor\":\"#E5ECF6\",\"gridcolor\":\"white\",\"linecolor\":\"white\",\"showbackground\":true,\"ticks\":\"\",\"zerolinecolor\":\"white\",\"gridwidth\":2}},\"shapedefaults\":{\"line\":{\"color\":\"#2a3f5f\"}},\"annotationdefaults\":{\"arrowcolor\":\"#2a3f5f\",\"arrowhead\":0,\"arrowwidth\":1},\"geo\":{\"bgcolor\":\"white\",\"landcolor\":\"#E5ECF6\",\"subunitcolor\":\"white\",\"showland\":true,\"showlakes\":true,\"lakecolor\":\"white\"},\"title\":{\"x\":0.05},\"mapbox\":{\"style\":\"light\"}}},\"violingap\":0,\"violinmode\":\"overlay\",\"xaxis\":{\"showgrid\":false,\"zeroline\":false},\"autosize\":false,\"width\":450,\"height\":500},                        {\"responsive\": true}                    ).then(function(){\n",
       "                            \n",
       "var gd = document.getElementById('f10aa8e2-d0e2-4314-b56e-9c2a04ca5bfb');\n",
       "var x = new MutationObserver(function (mutations, observer) {{\n",
       "        var display = window.getComputedStyle(gd).display;\n",
       "        if (!display || display === 'none') {{\n",
       "            console.log([gd, 'removed!']);\n",
       "            Plotly.purge(gd);\n",
       "            observer.disconnect();\n",
       "        }}\n",
       "}});\n",
       "\n",
       "// Listen for the removal of the full notebook cells\n",
       "var notebookContainer = gd.closest('#notebook-container');\n",
       "if (notebookContainer) {{\n",
       "    x.observe(notebookContainer, {childList: true});\n",
       "}}\n",
       "\n",
       "// Listen for the clearing of the current output cell\n",
       "var outputEl = gd.closest('.output');\n",
       "if (outputEl) {{\n",
       "    x.observe(outputEl, {childList: true});\n",
       "}}\n",
       "\n",
       "                        })                };                });            </script>        </div>"
      ]
     },
     "metadata": {},
     "output_type": "display_data"
    }
   ],
   "source": [
    "import plotly.graph_objects as go\n",
    "from plotly.graph_objs import Layout\n",
    "import pandas as pd\n",
    "\n",
    "layout = Layout(\n",
    "    paper_bgcolor='rgba(0,0,0,0)',\n",
    "    plot_bgcolor='rgba(0,0,0,0)'\n",
    ")\n",
    "fig = go.Figure(layout=layout)\n",
    "#[110, 30, 1, 2, 7, 10, 12, 40]\n",
    "\n",
    "y1 = [1,1,1,1,1,1,1,1,1,1,1,1,1,1,1,1,1,1,1,1,1,1,1,1,1,1,1,1,1,1,1,1,1,1,1,1,1,1,1,1,1,1,1,1,1,1,1,1,1,1,1,1,1,1,1,1,1,1,1,1,1,1,1,1,1,1,1,1,1,1,1,1,1,1,1,1,1,1,1,1,1,1,1,1,1,1,1,1,1,1,1,1,1,1,1,1,1,1,1,1,1,1,1,1,1,1,1,1,1,1,1,1,1,1,1,1,1,1,1,1,1,1,1,1,1,1,1,1,1,1,1,1,1,1,1,1,1,1,1,1,1,1,1,1,1,1,1,1,1,1,1,1,1,1,1,1,1,1,1,1,1,1,1,1,1,1,1,1,1,1,1,1,1,1,1,1,1,1,1,1,1,1,1,1,1,1,1,1,1,1,1,1,1,1,1,1,1,1,1,1,1,1,1,1,1,1,1,1,1,1,1,1,1,1,2,2,2,2,2,2,2,2,2,2,2,2,2,2,2,2,2,2,2,2,2,2,2,2,2,2,2,2,2,2,2,2,2,2,2,2,2,2,2,3,3,3,3,3,3,3,3,3,4,5,5,5,6,6,8,]\n",
    "\n",
    "fig.add_trace(go.Violin(x= np.repeat(\"Exp. 1\", len(y1)),\n",
    "                        y=y1,\n",
    "                        width=0.2,\n",
    "                        legendgroup='Standard method',  name='Standard method',\n",
    "                        side='negative',\n",
    "                        line_color='red')\n",
    "             )\n",
    "\n",
    "y2 = [1,1,1,1,1,1,1,1,1,1,1,1,1,1,1,1,1,1,1,1,1,1,1,1,1,1,1,1,1,1,1,1,1,1,1,1,1,1,1,1,1,1,1,1,1,1,1,1,1,1,1,1,1,1,1,1,1,1,1,1,1,1,1,1,1,1,1,1,1,1,1,1,1,1,1,1,1,1,1,1,1,1,1,1,1,1,1,1,1,1,1,1,1,1,1,1,1,1,1,1,1,1,1,1,1,1,1,1,1,1,1,1,1,1,1,1,1,1,1,1,1,1,1,1,1,1,1,1,1,1,1,1,1,1,1,1,1,1,1,1,1,1,1,1,1,1,1,1,1,1,1,1,1,1,1,1,1,1,1,1,1,1,1,1,1,1,1,1,1,1,1,1,1,1,1,1,1,1,1,1,1,1,1,1,1,1,1,1,1,1,1,1,1,1,1,1,1,1,1,2,2,2,2,2,2,2,2,2,2,2,2,2,2,2,2,2,3,3,3,3,4,4,4,4,4,5,5,6,6,6,8,8,9,9,10,10,11,]\n",
    "\n",
    "fig.add_trace(go.Violin(x= np.repeat(\"Exp. 1\", len(y2)),\n",
    "                        y=y2,\n",
    "                        width=0.2,\n",
    "                        legendgroup='Agglomerative clustering',  name='Agglomerative clustering',\n",
    "                        side='positive',\n",
    "                        line_color='green')\n",
    "             )\n",
    "fig.update_traces(meanline_visible=True)\n",
    "fig.update_layout(violingap=0, violinmode='overlay')\n",
    "fig.update_layout(xaxis_showgrid=False, xaxis_zeroline=False)\n",
    "fig.update_layout(\n",
    "    autosize=False,\n",
    "    width=450,\n",
    "    height=500,\n",
    ")\n",
    "fig.show()"
   ]
  },
  {
   "cell_type": "code",
   "execution_count": 132,
   "metadata": {},
   "outputs": [
    {
     "data": {
      "text/plain": [
       "[1.0,\n",
       " 1.0,\n",
       " 1.0,\n",
       " 1.0,\n",
       " 1.0,\n",
       " 1.0,\n",
       " 1.0,\n",
       " 1.0,\n",
       " 1.0,\n",
       " 1.0,\n",
       " 1.0,\n",
       " 1.0,\n",
       " 1.0,\n",
       " 1.0,\n",
       " 1.0,\n",
       " 1.0,\n",
       " 1.0,\n",
       " 1.0008210180623973,\n",
       " 1.0024057738572574,\n",
       " 1.0047021943573669,\n",
       " 1.0076628352490422,\n",
       " 1.0112443778110944,\n",
       " 1.016874541452678,\n",
       " 1.0251436781609196,\n",
       " 1.0401125967628433,\n",
       " 1.063335679099226,\n",
       " 1.0942997888810697,\n",
       " 1.135116115411682,\n",
       " 1.186488388458832,\n",
       " 1.2484166080225194,\n",
       " 1.3209007741027448,\n",
       " 1.4039408866995073,\n",
       " 1.498240675580577,\n",
       " 1.6038001407459535,\n",
       " 1.7206192821956365,\n",
       " 1.8486980999296267,\n",
       " 1.988036593947924,\n",
       " 2.138634764250528,\n",
       " 2.300492610837438,\n",
       " 2.473610133708656,\n",
       " 2.65798733286418,\n",
       " 2.853624208304011,\n",
       " 3.05624811500955,\n",
       " 3.266376610852332,\n",
       " 3.4845869719198355,\n",
       " 3.7115257474300396,\n",
       " 3.947069965117114,\n",
       " 4.191967924300788,\n",
       " 4.447069965117114,\n",
       " 4.713347904864442,\n",
       " 4.99191933343587,\n",
       " 5.281930074574431,\n",
       " 5.5835173761617325,\n",
       " 5.890840305333401,\n",
       " 6.203340305333403,\n",
       " 6.521707652272179,\n",
       " 6.6367432283611825,\n",
       " 6.756673935347591,\n",
       " 6.881819020898625,\n",
       " 7.012526110251928,\n",
       " 7.149174430939471,\n",
       " 7.292178487472947,\n",
       " 7.441992260984208,\n",
       " 7.599114023447238,\n",
       " 7.764091874033419,\n",
       " 7.937530127213763,\n",
       " 8.119189268492528,\n",
       " 8.30973585636418,\n",
       " 8.509910511378129,\n",
       " 8.720538496432281,\n",
       " 8.942542164177246,\n",
       " 9.174865803426085,\n",
       " 9.417399325300392,\n",
       " 9.664456700643786,\n",
       " 9.915340889515821,\n",
       " 10.170447769178079,\n",
       " 10.426535189505868,\n",
       " 10.68243496025385,\n",
       " 10.938125429547433,\n",
       " 11.19358148121209]"
      ]
     },
     "execution_count": 132,
     "metadata": {},
     "output_type": "execute_result"
    }
   ],
   "source": [
    "smooth_data(y2, 25)"
   ]
  },
  {
   "cell_type": "code",
   "execution_count": 158,
   "metadata": {},
   "outputs": [
    {
     "data": {
      "application/vnd.plotly.v1+json": {
       "config": {
        "plotlyServerURL": "https://plot.ly"
       },
       "data": [
        {
         "autobinx": false,
         "histnorm": "probability density",
         "legendgroup": "Standard",
         "marker": {
          "color": "slategray"
         },
         "name": "Standard",
         "opacity": 0.7,
         "type": "histogram",
         "x": [
          1,
          1,
          1,
          1,
          1,
          1,
          1,
          1,
          1,
          1,
          1,
          1,
          1,
          1,
          1,
          1,
          1,
          1,
          1,
          1,
          1,
          1,
          1,
          1,
          1,
          1,
          1,
          1,
          1,
          1,
          1,
          1,
          1,
          1,
          1,
          1,
          1,
          1,
          1,
          1,
          1,
          2,
          2,
          2,
          2,
          2,
          2,
          2,
          2,
          2,
          2,
          2,
          2,
          2,
          2,
          2,
          2,
          2,
          2,
          2,
          2,
          2,
          2,
          2,
          2,
          2,
          2,
          2,
          2,
          2,
          2,
          2,
          2,
          2,
          2,
          2,
          2,
          2,
          2,
          2,
          3,
          3,
          3,
          3,
          3,
          3,
          3,
          3,
          3,
          4,
          5,
          5,
          5,
          6,
          6,
          8
         ],
         "xaxis": "x",
         "xbins": {
          "end": 8,
          "size": 1,
          "start": 1
         },
         "yaxis": "y"
        },
        {
         "autobinx": false,
         "histnorm": "probability density",
         "legendgroup": "Agglomerative Clustering",
         "marker": {
          "color": "magenta"
         },
         "name": "Agglomerative Clustering",
         "opacity": 0.7,
         "type": "histogram",
         "x": [
          1,
          1,
          1,
          1,
          1,
          1,
          1,
          1,
          1,
          1,
          1,
          1,
          1,
          1,
          1,
          1,
          1,
          1,
          1,
          1,
          1,
          1,
          1,
          1,
          1,
          1,
          1,
          1,
          1,
          1,
          1,
          1,
          1,
          1,
          1,
          1,
          1,
          1,
          1,
          1,
          1,
          1,
          1,
          1,
          1,
          1,
          1,
          1,
          1,
          1,
          1,
          1,
          1,
          1,
          1,
          1,
          1,
          1,
          1,
          1,
          1,
          1,
          1,
          1,
          1,
          1,
          1,
          1,
          1,
          1,
          1,
          1,
          1,
          1,
          1,
          1,
          1,
          1,
          1,
          1,
          1,
          1,
          1,
          1,
          1,
          1,
          1,
          1,
          1,
          1,
          1,
          1,
          1,
          1,
          1,
          1,
          1,
          1,
          1,
          1,
          1,
          1,
          1,
          1,
          1,
          1,
          1,
          1,
          1,
          1,
          1,
          1,
          1,
          1,
          1,
          1,
          1,
          1,
          1,
          1,
          1,
          1,
          1,
          1,
          1,
          1,
          1,
          1,
          1,
          1,
          1,
          1,
          1,
          1,
          1,
          1,
          1,
          1,
          1,
          1,
          1,
          1,
          1,
          1,
          1,
          1,
          1,
          1,
          1,
          1,
          1,
          1,
          1,
          1,
          1,
          1,
          1,
          1,
          1,
          1,
          1,
          1,
          1,
          1,
          1,
          1,
          1,
          1,
          1,
          1,
          1,
          1,
          1,
          1,
          1,
          1,
          1,
          1,
          1,
          1,
          1,
          1,
          1,
          1,
          1,
          1,
          1,
          1,
          1,
          1,
          1,
          1,
          1,
          1,
          1,
          1,
          1,
          1,
          1,
          2,
          2,
          2,
          2,
          2,
          2,
          2,
          2,
          2,
          2,
          2,
          2,
          2,
          2,
          2,
          2,
          2,
          3,
          3,
          3,
          3,
          4,
          4,
          4,
          4,
          4,
          5,
          5,
          6,
          6,
          6,
          8,
          8,
          9,
          9,
          10,
          10,
          11
         ],
         "xaxis": "x",
         "xbins": {
          "end": 11,
          "size": 1,
          "start": 1
         },
         "yaxis": "y"
        },
        {
         "legendgroup": "Standard",
         "marker": {
          "color": "slategray"
         },
         "mode": "lines",
         "name": "Standard",
         "showlegend": false,
         "type": "scatter",
         "x": [
          1,
          1.014,
          1.028,
          1.042,
          1.056,
          1.07,
          1.084,
          1.098,
          1.112,
          1.126,
          1.1400000000000001,
          1.154,
          1.168,
          1.182,
          1.196,
          1.21,
          1.224,
          1.238,
          1.252,
          1.266,
          1.28,
          1.294,
          1.308,
          1.322,
          1.336,
          1.35,
          1.3639999999999999,
          1.3780000000000001,
          1.392,
          1.4060000000000001,
          1.42,
          1.434,
          1.448,
          1.462,
          1.476,
          1.49,
          1.504,
          1.518,
          1.532,
          1.546,
          1.56,
          1.5739999999999998,
          1.588,
          1.6019999999999999,
          1.616,
          1.63,
          1.6440000000000001,
          1.658,
          1.6720000000000002,
          1.686,
          1.7,
          1.714,
          1.728,
          1.742,
          1.756,
          1.77,
          1.784,
          1.798,
          1.812,
          1.826,
          1.8399999999999999,
          1.854,
          1.8679999999999999,
          1.8820000000000001,
          1.896,
          1.9100000000000001,
          1.924,
          1.938,
          1.952,
          1.966,
          1.98,
          1.994,
          2.008,
          2.0220000000000002,
          2.036,
          2.05,
          2.064,
          2.0780000000000003,
          2.092,
          2.106,
          2.12,
          2.134,
          2.1479999999999997,
          2.162,
          2.176,
          2.19,
          2.2039999999999997,
          2.218,
          2.232,
          2.246,
          2.26,
          2.274,
          2.2880000000000003,
          2.302,
          2.316,
          2.33,
          2.3440000000000003,
          2.358,
          2.372,
          2.386,
          2.4,
          2.4139999999999997,
          2.428,
          2.442,
          2.456,
          2.4699999999999998,
          2.484,
          2.498,
          2.512,
          2.526,
          2.54,
          2.5540000000000003,
          2.568,
          2.582,
          2.596,
          2.6100000000000003,
          2.624,
          2.638,
          2.652,
          2.666,
          2.6799999999999997,
          2.694,
          2.708,
          2.722,
          2.7359999999999998,
          2.75,
          2.7640000000000002,
          2.778,
          2.792,
          2.806,
          2.8200000000000003,
          2.834,
          2.848,
          2.862,
          2.876,
          2.8899999999999997,
          2.904,
          2.918,
          2.932,
          2.9459999999999997,
          2.96,
          2.974,
          2.988,
          3.002,
          3.016,
          3.03,
          3.044,
          3.058,
          3.072,
          3.086,
          3.1,
          3.114,
          3.128,
          3.142,
          3.156,
          3.17,
          3.184,
          3.198,
          3.212,
          3.226,
          3.24,
          3.254,
          3.268,
          3.282,
          3.296,
          3.31,
          3.324,
          3.338,
          3.352,
          3.366,
          3.38,
          3.394,
          3.408,
          3.422,
          3.436,
          3.45,
          3.464,
          3.478,
          3.492,
          3.506,
          3.52,
          3.534,
          3.548,
          3.562,
          3.576,
          3.59,
          3.604,
          3.618,
          3.632,
          3.646,
          3.66,
          3.674,
          3.688,
          3.702,
          3.716,
          3.73,
          3.744,
          3.758,
          3.772,
          3.786,
          3.8,
          3.814,
          3.828,
          3.842,
          3.856,
          3.87,
          3.884,
          3.898,
          3.912,
          3.926,
          3.94,
          3.954,
          3.968,
          3.982,
          3.996,
          4.01,
          4.024,
          4.038,
          4.052,
          4.066,
          4.08,
          4.093999999999999,
          4.1080000000000005,
          4.122,
          4.136,
          4.15,
          4.164,
          4.178,
          4.192,
          4.2059999999999995,
          4.220000000000001,
          4.234,
          4.248,
          4.2620000000000005,
          4.276,
          4.29,
          4.304,
          4.318,
          4.332,
          4.346,
          4.359999999999999,
          4.3740000000000006,
          4.388,
          4.402,
          4.416,
          4.43,
          4.444,
          4.458,
          4.4719999999999995,
          4.486000000000001,
          4.5,
          4.513999999999999,
          4.5280000000000005,
          4.542,
          4.556,
          4.57,
          4.584,
          4.598,
          4.612,
          4.6259999999999994,
          4.640000000000001,
          4.654,
          4.668,
          4.682,
          4.696,
          4.71,
          4.724,
          4.7379999999999995,
          4.752,
          4.766,
          4.779999999999999,
          4.7940000000000005,
          4.808,
          4.822,
          4.836,
          4.85,
          4.864,
          4.878,
          4.8919999999999995,
          4.906000000000001,
          4.92,
          4.934,
          4.948,
          4.962,
          4.976,
          4.99,
          5.004,
          5.018,
          5.032,
          5.046,
          5.06,
          5.074,
          5.088,
          5.102,
          5.116,
          5.13,
          5.144,
          5.158,
          5.172,
          5.186,
          5.2,
          5.214,
          5.228,
          5.242,
          5.256,
          5.27,
          5.284,
          5.298,
          5.312,
          5.326,
          5.34,
          5.354,
          5.368,
          5.382,
          5.396,
          5.41,
          5.424,
          5.438,
          5.452,
          5.466,
          5.48,
          5.494,
          5.508,
          5.522,
          5.536,
          5.55,
          5.564,
          5.578,
          5.592,
          5.606,
          5.62,
          5.634,
          5.648,
          5.662,
          5.676,
          5.69,
          5.704,
          5.718,
          5.732,
          5.746,
          5.76,
          5.774,
          5.788,
          5.802,
          5.816,
          5.83,
          5.844,
          5.858,
          5.872,
          5.886,
          5.9,
          5.914,
          5.928,
          5.942,
          5.956,
          5.97,
          5.984,
          5.998,
          6.012,
          6.026,
          6.04,
          6.054,
          6.068,
          6.082,
          6.096,
          6.11,
          6.124,
          6.138,
          6.152,
          6.166,
          6.18,
          6.194,
          6.208,
          6.222,
          6.236,
          6.25,
          6.264,
          6.278,
          6.292,
          6.306,
          6.32,
          6.334,
          6.348,
          6.362,
          6.376,
          6.39,
          6.404,
          6.418,
          6.432,
          6.446,
          6.46,
          6.474,
          6.488,
          6.502,
          6.516,
          6.53,
          6.544,
          6.558,
          6.572,
          6.586,
          6.6,
          6.614,
          6.628,
          6.642,
          6.656,
          6.67,
          6.684,
          6.698,
          6.712,
          6.726,
          6.74,
          6.754,
          6.768,
          6.782,
          6.796,
          6.81,
          6.824,
          6.838,
          6.852,
          6.866,
          6.88,
          6.894,
          6.908,
          6.922,
          6.936,
          6.95,
          6.964,
          6.978,
          6.992,
          7.006,
          7.02,
          7.034,
          7.048,
          7.062,
          7.076,
          7.09,
          7.104,
          7.118,
          7.132,
          7.146,
          7.16,
          7.174,
          7.188,
          7.202,
          7.216,
          7.23,
          7.244,
          7.258,
          7.272,
          7.286,
          7.3,
          7.314,
          7.328,
          7.342,
          7.356,
          7.37,
          7.384,
          7.398,
          7.412,
          7.426,
          7.44,
          7.454,
          7.468,
          7.482,
          7.496,
          7.51,
          7.524,
          7.538,
          7.552,
          7.566,
          7.58,
          7.594,
          7.608,
          7.622,
          7.636,
          7.65,
          7.664,
          7.678,
          7.692,
          7.706,
          7.72,
          7.734,
          7.748,
          7.762,
          7.776,
          7.79,
          7.804,
          7.818,
          7.832,
          7.846,
          7.86,
          7.874,
          7.888,
          7.902,
          7.916,
          7.93,
          7.944,
          7.958,
          7.972,
          7.986
         ],
         "xaxis": "x",
         "y": [
          0.38390756692167133,
          0.38629544423315276,
          0.3885240628764948,
          0.3905960237564102,
          0.3925143797920834,
          0.3942826164662022,
          0.39590463000214404,
          0.3973847032781671,
          0.398727479603069,
          0.3999379344926917,
          0.4010213456008499,
          0.4019832609715842,
          0.4028294657918288,
          0.4035659478349424,
          0.4041988617954122,
          0.40473449272390005,
          0.40517921877912444,
          0.4055394735190858,
          0.40582170795860195,
          0.40603235262318554,
          0.4061777798306092,
          0.4062642664314925,
          0.4062979572383816,
          0.4062848293695841,
          0.4062306577290653,
          0.4061409818372834,
          0.4060210742199214,
          0.4058759105520411,
          0.4057101417443632,
          0.405528068146301,
          0.4053336160269058,
          0.4051303164804347,
          0.4049212868876064,
          0.4047092150470942,
          0.4044963460744621,
          0.40428447214768076,
          0.4040749251597243,
          0.4038685723196913,
          0.4036658147245285,
          0.4034665889038761,
          0.4032703713210375,
          0.40307618579364346,
          0.4028826137783913,
          0.40268780744551075,
          0.4024895054503837,
          0.40228505129215,
          0.4020714141324502,
          0.4018452119315405,
          0.40160273674425245,
          0.4013399820045711,
          0.40105267161518726,
          0.4007362906471935,
          0.4003861174454261,
          0.3999972569266403,
          0.39956467485091895,
          0.3990832328415625,
          0.3985477239250287,
          0.39795290836049285,
          0.39729354952818496,
          0.39656444964682896,
          0.3957604850933155,
          0.3948766411020323,
          0.3939080456271321,
          0.39285000215830307,
          0.39169802128930853,
          0.39044785084855577,
          0.3890955044122055,
          0.38763728803273034,
          0.38606982502924664,
          0.3843900787003184,
          0.38259537283512346,
          0.3806834099147734,
          0.3786522869120268,
          0.3765005086145955,
          0.3742269984144779,
          0.37183110652321066,
          0.36931261559045364,
          0.3666717437207649,
          0.363909144900723,
          0.36102590686547475,
          0.3580235464503435,
          0.3549040024891065,
          0.35166962633588084,
          0.3483231701021049,
          0.3448677727138754,
          0.3413069439076103,
          0.33764454629382473,
          0.33388477562943597,
          0.33003213944857024,
          0.32609143421012027,
          0.32206772112743526,
          0.3179663008512734,
          0.31379268718170755,
          0.3095525799878603,
          0.30525183751626017,
          0.30089644826921846,
          0.2964925026339838,
          0.29204616444150744,
          0.2875636426305666,
          0.2830511631886974,
          0.2785149415360437,
          0.2739611555117896,
          0.2693959191154564,
          0.26482525714706473,
          0.2602550808810306,
          0.25569116489883037,
          0.25113912519497283,
          0.24660439865976044,
          0.2420922240308139,
          0.23760762439345356,
          0.23315539129787594,
          0.22874007054874043,
          0.224365949710369,
          0.2200370473583604,
          0.21575710409613216,
          0.21152957534278996,
          0.20735762588688697,
          0.20324412618915985,
          0.19919165040627523,
          0.19520247609705518,
          0.19127858556265817,
          0.18742166876282246,
          0.18363312774155782,
          0.17991408248769633,
          0.17626537814846013,
          0.172687593507776,
          0.16918105063539968,
          0.16574582560812473,
          0.16238176020035805,
          0.15908847443822866,
          0.15586537990909657,
          0.1527116937168724,
          0.1496264529729197,
          0.14660852971246008,
          0.1436566461273321,
          0.14076939000761118,
          0.1379452302869642,
          0.13518253258964044,
          0.13247957468064578,
          0.1298345617248599,
          0.12724564126559856,
          0.124710917838323,
          0.12222846714082124,
          0.11979634968716095,
          0.11741262387899495,
          0.11507535843432122,
          0.1127826441205109,
          0.11053260474526425,
          0.10832340736606327,
          0.1061532716856407,
          0.10402047860788252,
          0.10192337793541867,
          0.09986039519684502,
          0.09783003759805488,
          0.09583089909845392,
          0.09386166461889457,
          0.09192111339392049,
          0.09000812148635158,
          0.08812166348732572,
          0.08626081342962297,
          0.08442474494640868,
          0.08261273071143328,
          0.08082414120019482,
          0.07905844281460579,
          0.0773151954162989,
          0.07559404931585328,
          0.0738947417669301,
          0.07221709301557297,
          0.07056100195576935,
          0.06892644144278866,
          0.06731345331582948,
          0.06572214318113702,
          0.06415267500601285,
          0.06260526557304959,
          0.06108017884251298,
          0.059577720269079516,
          0.05809823111715245,
          0.056642082816743614,
          0.05520967139945668,
          0.0538014120514607,
          0.05241773381753889,
          0.051059074487356325,
          0.04972587569204443,
          0.04841857823608384,
          0.04713761768629291,
          0.04588342023654402,
          0.04465639886364153,
          0.04345694978664277,
          0.042285449238798976,
          0.04114225055827266,
          0.040027681600854494,
          0.03894204247509567,
          0.037885603597590585,
          0.03685860406361815,
          0.03586125032598389,
          0.03489371517271663,
          0.03395613699226943,
          0.03304861931306534,
          0.03217123060261945,
          0.03132400431006536,
          0.03050693913471812,
          0.02971999950231877,
          0.028963116229827817,
          0.028236187359060964,
          0.027539079139091798,
          0.026871627137170707,
          0.026233637457927176,
          0.025624888050820107,
          0.025045130086174077,
          0.024494089380672292,
          0.023971467853865978,
          0.023476944998085048,
          0.02301017934509057,
          0.02257080991387773,
          0.022158457625209026,
          0.021772726669712826,
          0.02141320581771415,
          0.021079469660352124,
          0.020771079772972174,
          0.020487585793244945,
          0.020228526407944324,
          0.01999343024380009,
          0.019781816659314097,
          0.019593196435879506,
          0.019427072367957387,
          0.019282939753434408,
          0.019160286786596516,
          0.01905859485739749,
          0.018977338761868946,
          0.018915986829600454,
          0.018874000975208145,
          0.018850836681600962,
          0.01884594292363886,
          0.018858762041454247,
          0.01888872957327007,
          0.01893527405799562,
          0.01899781681821018,
          0.019075771734355616,
          0.01916854502105202,
          0.019275535016425593,
          0.01939613199519933,
          0.019529718016045024,
          0.01967566681333558,
          0.01983334374297376,
          0.020002105791410835,
          0.020181301656315976,
          0.020370271906617027,
          0.020568349228816448,
          0.020774858765598515,
          0.020989118551794986,
          0.02121044005177298,
          0.021438128801264705,
          0.02167148515557567,
          0.021909805145004586,
          0.02215238143718689,
          0.022398504404948064,
          0.022647463297132114,
          0.022898547508763693,
          0.023151047945818903,
          0.023404258478830507,
          0.023657477478544908,
          0.023910009425891266,
          0.0241611665876258,
          0.02441027074818144,
          0.024656654987497223,
          0.0248996654939232,
          0.025138663400706678,
          0.025373026634066126,
          0.025602151760455476,
          0.025825455820317995,
          0.026042378135427945,
          0.02625238207682148,
          0.026454956780327304,
          0.026649618796823923,
          0.0268359136645704,
          0.02701341739128432,
          0.027181737834067705,
          0.027340515965809383,
          0.027489427017314546,
          0.027628181485126423,
          0.027756525995803517,
          0.02787424401829585,
          0.02798115641701461,
          0.028077121839208675,
          0.02816203693133689,
          0.028235836380251074,
          0.028298492776172586,
          0.028350016295644275,
          0.028390454203863064,
          0.028419890177034505,
          0.028438443446631656,
          0.028446267768675697,
          0.028443550222376088,
          0.028430509843664124,
          0.028407396100315774,
          0.028374487216479838,
          0.028332088355495486,
          0.028280529670892424,
          0.028220164236408853,
          0.028151365866729058,
          0.02807452684142914,
          0.02799005554531789,
          0.02789837403896642,
          0.027799915573729368,
          0.02769512206596909,
          0.027584441545498592,
          0.027468325593457403,
          0.02734722678492524,
          0.027221596151561327,
          0.027091880679431444,
          0.026958520856953997,
          0.02682194828755899,
          0.026682583381215697,
          0.026540833138448114,
          0.026397089039825832,
          0.0262517250531981,
          0.026105095770134874,
          0.02595753468215797,
          0.025809352606393884,
          0.025660836269265505,
          0.025512247055770345,
          0.025363819930775834,
          0.025215762537607125,
          0.02506825447801708,
          0.024921446776421836,
          0.02477546153006651,
          0.024630391745564376,
          0.024486301361036297,
          0.02434322545187671,
          0.02420117061699416,
          0.024060115541228746,
          0.023920011728541805,
          0.02378078439951535,
          0.023642333545693704,
          0.02350453513235807,
          0.023367242440449354,
          0.02323028753755347,
          0.023093482867140178,
          0.02295662294460637,
          0.02281948614812067,
          0.02268183659180194,
          0.022543426068391534,
          0.02240399604829974,
          0.022263279721720958,
          0.02212100407042112,
          0.021976891955802724,
          0.021830664209946782,
          0.021682041716515315,
          0.021530747468669263,
          0.02137650859151255,
          0.021219058317008002,
          0.021058137899822922,
          0.02089349846314317,
          0.020724902764142614,
          0.020552126869500722,
          0.0203749617321213,
          0.020193214661011684,
          0.020006710677128482,
          0.019815293748874946,
          0.01961882790184122,
          0.01941719819830282,
          0.01921031158292881,
          0.01899809759209219,
          0.018780508925113498,
          0.018557521876698013,
          0.01832913663074051,
          0.018095377416563516,
          0.017856292529517946,
          0.01761195421870534,
          0.017362458445370647,
          0.01710792451626162,
          0.016848494596948562,
          0.016584333110743987,
          0.016315626029450924,
          0.016042580062699905,
          0.015765421753103897,
          0.01548439648486678,
          0.015199767413822627,
          0.0149118143271595,
          0.014620832441292413,
          0.014327131146494766,
          0.01403103270697878,
          0.013732870925131913,
          0.013432989778571955,
          0.013131742038578302,
          0.012829487878295708,
          0.01252659347889007,
          0.012223429641569458,
          0.011920370413067448,
          0.011617791731828427,
          0.01131607010173552,
          0.011015581299788331,
          0.010716699123672263,
          0.010419794184670171,
          0.010125232750852987,
          0.00983337564495546,
          0.00954457720079852,
          0.009259184281568168,
          0.008977535362704781,
          0.008699959681601007,
          0.008426776455756095,
          0.0081582941704928,
          0.007894809936814347,
          0.007636608919465851,
          0.007383963834772682,
          0.007137134517357987,
          0.006896367554398364,
          0.006661895985660562,
          0.00643393906717811,
          0.006212702096074226,
          0.005998376293719981,
          0.005791138744134472,
          0.005591152384288174,
          0.005398566042763154,
          0.005213514523052745,
          0.005036118727651489,
          0.004866485818990754,
          0.004704709413218123,
          0.004550869802796747,
          0.004405034203915186,
          0.0042672570247459145,
          0.004137580150671483,
          0.004016033242708281,
          0.0039026340454987743,
          0.0037973887014097836,
          0.0037002920674669474,
          0.0036113280320694495,
          0.0035304698286637392,
          0.00345768034380661,
          0.0033929124173146447,
          0.0033361091324757308,
          0.003287204094586679,
          0.0032461216963760773,
          0.003212777369170659,
          0.003187077818964319,
          0.0031689212468484843,
          0.0031581975535586375,
          0.0031547885281817036,
          0.0031585680213505425,
          0.0031694021035226293,
          0.003187149209197979,
          0.0032116602681745723,
          0.003242778825166043,
          0.003280341149314529,
          0.0033241763353197835,
          0.003374106398072698,
          0.003429946362825795,
          0.0034915043530544705,
          0.003558581678259373,
          0.003630972924032569,
          0.003708466046756583,
          0.003790842475326639,
          0.003877877222282204,
          0.003969339006704089,
          0.004064990391178788,
          0.0041645879350525015,
          0.004267882366094666,
          0.004374618772565065,
          0.004484536817531466,
          0.004597370977116977,
          0.004712850804169727,
          0.00483070121864339,
          0.004950642825757136,
          0.005072392262769829,
          0.005195662574957632,
          0.005320163621128265,
          0.005445602508741608,
          0.005571684058436855,
          0.005698111297493796,
          0.005824585981481426,
          0.00595080914307406,
          0.006076481666745435,
          0.006201304887786631,
          0.00632498121383747,
          0.006447214766873804,
          0.006567712043358812,
          0.006686182590045245,
          0.006802339692710739,
          0.006915901074920815,
          0.007026589603746235,
          0.007134133999213813,
          0.007238269544144647,
          0.007338738790931454,
          0.007435292261729217,
          0.007527689138480093,
          0.007615697939166629,
          0.00769909717668601,
          0.007777675996762904,
          0.00785123479136976,
          0.007919585784200201,
          0.007982553584843873,
          0.008039975708438224,
          0.008091703057724078,
          0.008137600364606002,
          0.008177546588514507,
          0.008211435269083205,
          0.008239174830889099,
          0.008260688838256152,
          0.008275916198389476,
          0.008284811311387813
         ],
         "yaxis": "y"
        },
        {
         "legendgroup": "Agglomerative Clustering",
         "marker": {
          "color": "magenta"
         },
         "mode": "lines",
         "name": "Agglomerative Clustering",
         "showlegend": false,
         "type": "scatter",
         "x": [
          1,
          1.02,
          1.04,
          1.06,
          1.08,
          1.1,
          1.12,
          1.1400000000000001,
          1.16,
          1.18,
          1.2,
          1.22,
          1.24,
          1.26,
          1.28,
          1.3,
          1.32,
          1.34,
          1.3599999999999999,
          1.38,
          1.4,
          1.42,
          1.44,
          1.46,
          1.48,
          1.5,
          1.52,
          1.54,
          1.56,
          1.58,
          1.6,
          1.62,
          1.6400000000000001,
          1.6600000000000001,
          1.6800000000000002,
          1.7,
          1.72,
          1.74,
          1.76,
          1.78,
          1.8,
          1.8199999999999998,
          1.8399999999999999,
          1.8599999999999999,
          1.88,
          1.9,
          1.92,
          1.94,
          1.96,
          1.98,
          2,
          2.02,
          2.04,
          2.06,
          2.08,
          2.1,
          2.12,
          2.1399999999999997,
          2.16,
          2.1799999999999997,
          2.2,
          2.2199999999999998,
          2.24,
          2.26,
          2.2800000000000002,
          2.3,
          2.3200000000000003,
          2.34,
          2.3600000000000003,
          2.38,
          2.4,
          2.42,
          2.44,
          2.46,
          2.48,
          2.5,
          2.52,
          2.54,
          2.56,
          2.58,
          2.6,
          2.62,
          2.6399999999999997,
          2.66,
          2.6799999999999997,
          2.7,
          2.7199999999999998,
          2.74,
          2.76,
          2.7800000000000002,
          2.8,
          2.8200000000000003,
          2.84,
          2.8600000000000003,
          2.88,
          2.9,
          2.92,
          2.94,
          2.96,
          2.98,
          3,
          3.02,
          3.04,
          3.06,
          3.08,
          3.1,
          3.12,
          3.14,
          3.16,
          3.18,
          3.2,
          3.22,
          3.24,
          3.26,
          3.28,
          3.3,
          3.32,
          3.34,
          3.36,
          3.38,
          3.4,
          3.42,
          3.44,
          3.46,
          3.48,
          3.5,
          3.52,
          3.54,
          3.56,
          3.58,
          3.6,
          3.62,
          3.64,
          3.66,
          3.68,
          3.7,
          3.72,
          3.74,
          3.76,
          3.78,
          3.8,
          3.82,
          3.84,
          3.86,
          3.88,
          3.9,
          3.92,
          3.94,
          3.96,
          3.98,
          4,
          4.02,
          4.04,
          4.0600000000000005,
          4.08,
          4.1,
          4.12,
          4.140000000000001,
          4.16,
          4.18,
          4.2,
          4.220000000000001,
          4.24,
          4.26,
          4.279999999999999,
          4.3,
          4.32,
          4.34,
          4.359999999999999,
          4.38,
          4.4,
          4.42,
          4.4399999999999995,
          4.46,
          4.48,
          4.5,
          4.52,
          4.54,
          4.5600000000000005,
          4.58,
          4.6,
          4.62,
          4.640000000000001,
          4.66,
          4.68,
          4.7,
          4.720000000000001,
          4.74,
          4.76,
          4.779999999999999,
          4.8,
          4.82,
          4.84,
          4.859999999999999,
          4.88,
          4.9,
          4.92,
          4.9399999999999995,
          4.96,
          4.98,
          5,
          5.02,
          5.04,
          5.06,
          5.08,
          5.1,
          5.12,
          5.14,
          5.16,
          5.18,
          5.2,
          5.22,
          5.24,
          5.26,
          5.28,
          5.3,
          5.32,
          5.34,
          5.36,
          5.38,
          5.4,
          5.42,
          5.44,
          5.46,
          5.48,
          5.5,
          5.52,
          5.54,
          5.56,
          5.58,
          5.6,
          5.62,
          5.64,
          5.66,
          5.68,
          5.7,
          5.72,
          5.74,
          5.76,
          5.78,
          5.8,
          5.82,
          5.84,
          5.86,
          5.88,
          5.9,
          5.92,
          5.94,
          5.96,
          5.98,
          6,
          6.02,
          6.04,
          6.06,
          6.08,
          6.1,
          6.12,
          6.14,
          6.16,
          6.18,
          6.2,
          6.22,
          6.24,
          6.26,
          6.28,
          6.3,
          6.32,
          6.34,
          6.36,
          6.38,
          6.4,
          6.42,
          6.44,
          6.46,
          6.48,
          6.5,
          6.52,
          6.54,
          6.56,
          6.58,
          6.6,
          6.62,
          6.64,
          6.66,
          6.68,
          6.7,
          6.72,
          6.74,
          6.76,
          6.78,
          6.8,
          6.82,
          6.84,
          6.86,
          6.88,
          6.9,
          6.92,
          6.94,
          6.96,
          6.98,
          7,
          7.02,
          7.04,
          7.06,
          7.08,
          7.1,
          7.12,
          7.14,
          7.16,
          7.18,
          7.2,
          7.22,
          7.24,
          7.26,
          7.28,
          7.3,
          7.32,
          7.34,
          7.36,
          7.38,
          7.4,
          7.42,
          7.44,
          7.46,
          7.48,
          7.5,
          7.52,
          7.54,
          7.56,
          7.58,
          7.6,
          7.62,
          7.64,
          7.66,
          7.68,
          7.7,
          7.72,
          7.74,
          7.76,
          7.78,
          7.8,
          7.82,
          7.84,
          7.86,
          7.88,
          7.9,
          7.92,
          7.94,
          7.96,
          7.98,
          8,
          8.02,
          8.04,
          8.059999999999999,
          8.08,
          8.1,
          8.120000000000001,
          8.14,
          8.16,
          8.18,
          8.2,
          8.219999999999999,
          8.24,
          8.26,
          8.280000000000001,
          8.3,
          8.32,
          8.34,
          8.36,
          8.379999999999999,
          8.4,
          8.42,
          8.440000000000001,
          8.46,
          8.48,
          8.5,
          8.52,
          8.54,
          8.559999999999999,
          8.58,
          8.6,
          8.620000000000001,
          8.64,
          8.66,
          8.68,
          8.7,
          8.719999999999999,
          8.74,
          8.76,
          8.780000000000001,
          8.8,
          8.82,
          8.84,
          8.86,
          8.879999999999999,
          8.9,
          8.92,
          8.940000000000001,
          8.96,
          8.98,
          9,
          9.02,
          9.04,
          9.06,
          9.08,
          9.1,
          9.12,
          9.14,
          9.16,
          9.18,
          9.2,
          9.22,
          9.24,
          9.26,
          9.28,
          9.3,
          9.32,
          9.34,
          9.36,
          9.38,
          9.4,
          9.42,
          9.44,
          9.46,
          9.48,
          9.5,
          9.52,
          9.54,
          9.56,
          9.58,
          9.6,
          9.62,
          9.64,
          9.66,
          9.68,
          9.7,
          9.72,
          9.74,
          9.76,
          9.78,
          9.8,
          9.82,
          9.84,
          9.86,
          9.88,
          9.9,
          9.92,
          9.94,
          9.96,
          9.98,
          10,
          10.02,
          10.04,
          10.06,
          10.08,
          10.1,
          10.12,
          10.14,
          10.16,
          10.18,
          10.2,
          10.22,
          10.24,
          10.26,
          10.28,
          10.3,
          10.32,
          10.34,
          10.36,
          10.38,
          10.4,
          10.42,
          10.44,
          10.46,
          10.48,
          10.5,
          10.52,
          10.54,
          10.56,
          10.58,
          10.6,
          10.62,
          10.64,
          10.66,
          10.68,
          10.7,
          10.72,
          10.74,
          10.76,
          10.78,
          10.8,
          10.82,
          10.84,
          10.86,
          10.88,
          10.9,
          10.92,
          10.94,
          10.96,
          10.98
         ],
         "xaxis": "x",
         "y": [
          0.6308426042621708,
          0.6310869810747497,
          0.6305108645711467,
          0.629119790086251,
          0.626922650860524,
          0.6239316294002092,
          0.6201621059991793,
          0.6156325453127041,
          0.6103643620855174,
          0.6043817673353413,
          0.5977115964760229,
          0.590383121029663,
          0.5824278457221103,
          0.573879292880079,
          0.5647727761487712,
          0.5551451656259779,
          0.5450346465607541,
          0.5344804737924823,
          0.5235227241085822,
          0.5122020486773128,
          0.5005594276664829,
          0.48863592909040093,
          0.4764724738374597,
          0.46410960872094575,
          0.45158728926787145,
          0.43894467381643015,
          0.4262199303351455,
          0.4134500572072831,
          0.4006707190457277,
          0.3879160984185187,
          0.37521876417624267,
          0.36260955688161634,
          0.35011749165204525,
          0.3377696785391639,
          0.3255912603883189,
          0.3136053679473126,
          0.3018330918295825,
          0.29029347078391027,
          0.2790034955824432,
          0.26797812771216295,
          0.25723033194353434,
          0.24677112175394852,
          0.236609616504042,
          0.226753109201682,
          0.2172071436416979,
          0.20797559967915644,
          0.1990607853795047,
          0.19046353478982914,
          0.18218331009091787,
          0.17421830691882315,
          0.16656556168613923,
          0.15922105978600792,
          0.15217984362462167,
          0.14543611949940385,
          0.13898336241857712,
          0.13281441804221486,
          0.12692160101346078,
          0.12129678904019386,
          0.11593151218045059,
          0.1108170368782385,
          0.10594444438859137,
          0.10130470332084357,
          0.09688873611593254,
          0.09268747935625476,
          0.08869193788433317,
          0.084893232778612,
          0.08128264330051044,
          0.07785164298603178,
          0.0745919301073498,
          0.07149545277477794,
          0.06855442898720002,
          0.06576136196951471,
          0.06310905115900228,
          0.06059059921900925,
          0.05819941546828905,
          0.05592921611810064,
          0.05377402170721516,
          0.051728152117812086,
          0.04978621954339946,
          0.04794311976394424,
          0.04619402206393051,
          0.044534358106682506,
          0.042959810053582625,
          0.0414662981903733,
          0.04004996829512602,
          0.03870717895421388,
          0.03743448900427292,
          0.03622864525011399,
          0.035086570581315944,
          0.034005352584133466,
          0.03298223272075465,
          0.03201459612509288,
          0.031099962043445027,
          0.030235974929654106,
          0.029420396188014664,
          0.028651096543120206,
          0.027926049004213242,
          0.02724332238233384,
          0.02660107531162822,
          0.025997550721472463,
          0.025431070703470598,
          0.024900031716742644,
          0.024402900076053766,
          0.023938207670048946,
          0.02350454786094443,
          0.02310057152225744,
          0.022724983177312925,
          0.022376537208111644,
          0.022054034111460362,
          0.021756316786827858,
          0.021482266847993346,
          0.021230800957997013,
          0.021000867194008496,
          0.020791441455330368,
          0.02060152393371066,
          0.020430135670325256,
          0.020276315228109732,
          0.02013911551149259,
          0.020017600767953055,
          0.019910843807167976,
          0.019817923473810773,
          0.01973792240933909,
          0.019669925136385723,
          0.01961301649670409,
          0.019566280470085073,
          0.01952879939734021,
          0.019499653625436895,
          0.019477921587283252,
          0.019462680322612846,
          0.01945300644003631,
          0.019447977513739195,
          0.019446673901639865,
          0.019448180965212423,
          0.01945159166474995,
          0.019456009497716975,
          0.019460551742130888,
          0.019464352961724198,
          0.019466568725070483,
          0.019466379486985673,
          0.019462994577416314,
          0.019455656240749436,
          0.01944364366706782,
          0.019426276956352274,
          0.019402920957011117,
          0.01937298892138793,
          0.01933594592304339,
          0.01929131198358795,
          0.01923866486061169,
          0.019177642452753572,
          0.019107944783100815,
          0.019029335527827818,
          0.018941643063180053,
          0.018844761010483255,
          0.018738648265707987,
          0.018623328507136362,
          0.018498889181751535,
          0.018365479977994648,
          0.018223310799397357,
          0.018072649260200625,
          0.017913817730311993,
          0.017747189962743267,
          0.01757318734192356,
          0.017392274795927812,
          0.01720495641963089,
          0.017011770859043682,
          0.016813286509566993,
          0.01661009658258562,
          0.016402814095703353,
          0.0161920668419871,
          0.015978492392856716,
          0.01576273318774759,
          0.015545431761422096,
          0.015327226156858484,
          0.015108745568057332,
          0.014890606252942648,
          0.014673407751868548,
          0.014457729442155051,
          0.014244127453650854,
          0.014033131964647878,
          0.013825244891642514,
          0.013620937980544591,
          0.013420651301069786,
          0.013224792140303105,
          0.013033734285879046,
          0.012847817683968338,
          0.012667348452369626,
          0.012492599224544971,
          0.012323809796473462,
          0.012161188044779121,
          0.012004911081761507,
          0.011855126610752359,
          0.011711954443663197,
          0.011575488141688203,
          0.011445796739886278,
          0.011322926516777016,
          0.011206902771128256,
          0.011097731569759661,
          0.010995401432399491,
          0.010899884922364409,
          0.01081114011503083,
          0.0107291119196714,
          0.01065373323417534,
          0.010584925916386732,
          0.01052260156020685,
          0.010466662069139595,
          0.010417000024537283,
          0.010373498850349785,
          0.010336032780621333,
          0.01030446664024115,
          0.010278655453471248,
          0.010258443898481785,
          0.010243665629464854,
          0.010234142490819595,
          0.010229683650361743,
          0.010230084680473053,
          0.010235126617542242,
          0.010244575030940993,
          0.010258179133115292,
          0.010275670962153075,
          0.010296764667421165,
          0.010321155927564383,
          0.010348521528351294,
          0.010378519125567757,
          0.010410787215439319,
          0.010444945331954059,
          0.010480594487009278,
          0.010517317865576059,
          0.010554681784124949,
          0.01059223691644805,
          0.010629519786812485,
          0.010666054526154232,
          0.010701354882835787,
          0.010734926475410262,
          0.010766269270922701,
          0.010794880268593526,
          0.010820256365327678,
          0.010841897376423985,
          0.01085930918216922,
          0.01087200696872831,
          0.010879518529918263,
          0.010881387595102602,
          0.010877177147583815,
          0.010866472697511608,
          0.010848885473467164,
          0.010824055497521905,
          0.010791654509689606,
          0.010751388709273085,
          0.010703001282623206,
          0.01064627468924492,
          0.010581032680963796,
          0.010507142031962246,
          0.010424513960859336,
          0.010333105229590389,
          0.01023291890758795,
          0.01012400479361883,
          0.010006459491536637,
          0.009880426140108894,
          0.00974609380091828,
          0.009603696512064885,
          0.009453512018961285,
          0.009295860196866533,
          0.009131101182908087,
          0.008959633238151767,
          0.008781890362768946,
          0.008598339689487578,
          0.008409478682280602,
          0.008215832168623831,
          0.008017949234639575,
          0.007816400013026572,
          0.007611772393866453,
          0.0074046686882,
          0.00719570227369866,
          0.006985494250836594,
          0.006774670136722997,
          0.006563856622209789,
          0.0063536784160813245,
          0.006144755198094084,
          0.005937698700405213,
          0.0057331099345478585,
          0.005531576578620108,
          0.005333670536794656,
          0.005139945680667955,
          0.004950935779392194,
          0.004767152623008255,
          0.004589084340960762,
          0.00441719391545953,
          0.004251917887188472,
          0.004093665248877724,
          0.003942816520474148,
          0.0037997229980858004,
          0.003664706167555541,
          0.003538057272445744,
          0.0034200370253989506,
          0.0033108754512777916,
          0.0032107718501811263,
          0.003119894868373817,
          0.003038382665345298,
          0.0029663431656118833,
          0.0029038543844823544,
          0.0028509648177941493,
          0.0028076938865756714,
          0.002774032428672185,
          0.0027499432305616326,
          0.0027353615938531185,
          0.0027301959322753,
          0.002734328396294602,
          0.002747615523824043,
          0.002769888916763643,
          0.0028009559443247147,
          0.002840600475206638,
          0.0028885836416914115,
          0.002944644639576539,
          0.0030085015685614013,
          0.0030798523182198187,
          0.0031583755050195545,
          0.00324373146597813,
          0.0033355633144685304,
          0.003433498063405584,
          0.0035371478205566275,
          0.0036461110600336305,
          0.003759973973148395,
          0.0038783119007602244,
          0.004000690848033849,
          0.004126669081173275,
          0.004255798804228308,
          0.004387627912508715,
          0.004521701817515114,
          0.0046575653366334215,
          0.004794764639172736,
          0.004932849238685278,
          0.005071374019923198,
          0.0052099012872924705,
          0.0053480028202884085,
          0.0054852619201710435,
          0.005621275431088051,
          0.005755655718004673,
          0.005888032583175328,
          0.006018055102511404,
          0.006145393363078258,
          0.006269740083105221,
          0.006390812096322091,
          0.006508351683148605,
          0.006622127732257696,
          0.006731936717304278,
          0.006837603475147486,
          0.006938981773681929,
          0.007035954659411964,
          0.007128434577130547,
          0.007216363256471239,
          0.007299711362659679,
          0.007378477911463443,
          0.007452689451091113,
          0.007522399016582958,
          0.007587684865027271,
          0.007648649002686026,
          0.007705415517780479,
          0.0077581287352298176,
          0.007806951212014272,
          0.007852061594010053,
          0.007893652357080718,
          0.007931927456875472,
          0.007967099913150144,
          0.00799938935546529,
          0.008029019557808138,
          0.008056215990014201,
          0.008081203413820603,
          0.008104203550960828,
          0.008125432849910894,
          0.008145100376725983,
          0.008163405853876593,
          0.008180537869122147,
          0.008196672274270709,
          0.008211970791194652,
          0.008226579839736212,
          0.008240629599181927,
          0.008254233311851256,
          0.008267486834076928,
          0.0082804684364989,
          0.00829323885219911,
          0.008305841567819326,
          0.008318303349479528,
          0.008330634992098228,
          0.008342832277656802,
          0.008354877125093672,
          0.008366738911903213,
          0.008378375945189196,
          0.008389737057918446,
          0.008400763304467915,
          0.008411389728284046,
          0.008421547173596397,
          0.008431164112662634,
          0.008440168459977297,
          0.008448489345253336,
          0.008456058817778953,
          0.008462813455951589,
          0.008468695857378292,
          0.008473655986884295,
          0.008477652362060306,
          0.008480653058569468,
          0.008482636520288817,
          0.008483592162434002,
          0.008483520759063947,
          0.008482434609735114,
          0.008480357483521555,
          0.008477324342085544,
          0.008473380846921051,
          0.00846858265924684,
          0.008462994544246715,
          0.008456689294392377,
          0.008449746489393617,
          0.00844225111285845,
          0.008434292047974272,
          0.008425960476406057,
          0.008417348206121365,
          0.008408545954971236,
          0.00839964161756497,
          0.008390718543264638,
          0.008381853852988504,
          0.00837311682195405,
          0.00836456735451998,
          0.008356254575918409,
          0.008348215563924519,
          0.008340474241418904,
          0.008333040448390037,
          0.008325909209238013,
          0.008319060208317687,
          0.008312457483543936,
          0.008306049344622531,
          0.008299768519116072,
          0.008293532526157119,
          0.008287244274231432,
          0.008280792876124318,
          0.008274054670902416,
          0.008266894439740354,
          0.008259166799541555,
          0.008250717755687934,
          0.008241386392922065,
          0.008231006681351478,
          0.008219409372896986,
          0.008206423962208286,
          0.008191880685158219,
          0.008175612527513533,
          0.008157457216269967,
          0.008137259166432396,
          0.008114871356709564,
          0.008090157108664762,
          0.008062991745300027,
          0.008033264106828367,
          0.00800087790347672,
          0.007965752887528975,
          0.007927825829425748,
          0.007887051285545352,
          0.007843402148255088,
          0.007796869971898606,
          0.007747465071527212,
          0.007695216394343629,
          0.007640171166959317,
          0.007582394324625316,
          0.00752196773153757,
          0.0074589892040989834,
          0.007393571351603684,
          0.007325840251157977,
          0.007255933975736752,
          0.007184000996065922,
          0.007110198478499418,
          0.0070346905022051764,
          0.006957646219777578,
          0.0068792379858461615,
          0.00679963947835205,
          0.006719023836917045,
          0.0066375618421461256,
          0.006555420158795039,
          0.00647275966452037,
          0.006389733884431729,
          0.0063064875499120035,
          0.006223155298191223,
          0.006139860526985839,
          0.006056714416182329,
          0.005973815126089351,
          0.005891247179243475,
          0.00580908103016776,
          0.005727372824889075,
          0.005646164349454632,
          0.0055654831641890196,
          0.005485342918032021,
          0.0054057438350287035,
          0.005326673362934194,
          0.005248106971973814,
          0.005170009090086518,
          0.005092334159495949,
          0.005015027798213074,
          0.004938028049089618,
          0.004861266698318597,
          0.00478467064482115,
          0.004708163301765928,
          0.00463166601153441,
          0.004555099455763797,
          0.004478385042657292,
          0.004401446254533809,
          0.004324209939578479
         ],
         "yaxis": "y"
        }
       ],
       "layout": {
        "barmode": "overlay",
        "hovermode": "closest",
        "legend": {
         "traceorder": "reversed"
        },
        "template": {
         "data": {
          "bar": [
           {
            "error_x": {
             "color": "#2a3f5f"
            },
            "error_y": {
             "color": "#2a3f5f"
            },
            "marker": {
             "line": {
              "color": "#E5ECF6",
              "width": 0.5
             },
             "pattern": {
              "fillmode": "overlay",
              "size": 10,
              "solidity": 0.2
             }
            },
            "type": "bar"
           }
          ],
          "barpolar": [
           {
            "marker": {
             "line": {
              "color": "#E5ECF6",
              "width": 0.5
             },
             "pattern": {
              "fillmode": "overlay",
              "size": 10,
              "solidity": 0.2
             }
            },
            "type": "barpolar"
           }
          ],
          "carpet": [
           {
            "aaxis": {
             "endlinecolor": "#2a3f5f",
             "gridcolor": "white",
             "linecolor": "white",
             "minorgridcolor": "white",
             "startlinecolor": "#2a3f5f"
            },
            "baxis": {
             "endlinecolor": "#2a3f5f",
             "gridcolor": "white",
             "linecolor": "white",
             "minorgridcolor": "white",
             "startlinecolor": "#2a3f5f"
            },
            "type": "carpet"
           }
          ],
          "choropleth": [
           {
            "colorbar": {
             "outlinewidth": 0,
             "ticks": ""
            },
            "type": "choropleth"
           }
          ],
          "contour": [
           {
            "colorbar": {
             "outlinewidth": 0,
             "ticks": ""
            },
            "colorscale": [
             [
              0,
              "#0d0887"
             ],
             [
              0.1111111111111111,
              "#46039f"
             ],
             [
              0.2222222222222222,
              "#7201a8"
             ],
             [
              0.3333333333333333,
              "#9c179e"
             ],
             [
              0.4444444444444444,
              "#bd3786"
             ],
             [
              0.5555555555555556,
              "#d8576b"
             ],
             [
              0.6666666666666666,
              "#ed7953"
             ],
             [
              0.7777777777777778,
              "#fb9f3a"
             ],
             [
              0.8888888888888888,
              "#fdca26"
             ],
             [
              1,
              "#f0f921"
             ]
            ],
            "type": "contour"
           }
          ],
          "contourcarpet": [
           {
            "colorbar": {
             "outlinewidth": 0,
             "ticks": ""
            },
            "type": "contourcarpet"
           }
          ],
          "heatmap": [
           {
            "colorbar": {
             "outlinewidth": 0,
             "ticks": ""
            },
            "colorscale": [
             [
              0,
              "#0d0887"
             ],
             [
              0.1111111111111111,
              "#46039f"
             ],
             [
              0.2222222222222222,
              "#7201a8"
             ],
             [
              0.3333333333333333,
              "#9c179e"
             ],
             [
              0.4444444444444444,
              "#bd3786"
             ],
             [
              0.5555555555555556,
              "#d8576b"
             ],
             [
              0.6666666666666666,
              "#ed7953"
             ],
             [
              0.7777777777777778,
              "#fb9f3a"
             ],
             [
              0.8888888888888888,
              "#fdca26"
             ],
             [
              1,
              "#f0f921"
             ]
            ],
            "type": "heatmap"
           }
          ],
          "heatmapgl": [
           {
            "colorbar": {
             "outlinewidth": 0,
             "ticks": ""
            },
            "colorscale": [
             [
              0,
              "#0d0887"
             ],
             [
              0.1111111111111111,
              "#46039f"
             ],
             [
              0.2222222222222222,
              "#7201a8"
             ],
             [
              0.3333333333333333,
              "#9c179e"
             ],
             [
              0.4444444444444444,
              "#bd3786"
             ],
             [
              0.5555555555555556,
              "#d8576b"
             ],
             [
              0.6666666666666666,
              "#ed7953"
             ],
             [
              0.7777777777777778,
              "#fb9f3a"
             ],
             [
              0.8888888888888888,
              "#fdca26"
             ],
             [
              1,
              "#f0f921"
             ]
            ],
            "type": "heatmapgl"
           }
          ],
          "histogram": [
           {
            "marker": {
             "pattern": {
              "fillmode": "overlay",
              "size": 10,
              "solidity": 0.2
             }
            },
            "type": "histogram"
           }
          ],
          "histogram2d": [
           {
            "colorbar": {
             "outlinewidth": 0,
             "ticks": ""
            },
            "colorscale": [
             [
              0,
              "#0d0887"
             ],
             [
              0.1111111111111111,
              "#46039f"
             ],
             [
              0.2222222222222222,
              "#7201a8"
             ],
             [
              0.3333333333333333,
              "#9c179e"
             ],
             [
              0.4444444444444444,
              "#bd3786"
             ],
             [
              0.5555555555555556,
              "#d8576b"
             ],
             [
              0.6666666666666666,
              "#ed7953"
             ],
             [
              0.7777777777777778,
              "#fb9f3a"
             ],
             [
              0.8888888888888888,
              "#fdca26"
             ],
             [
              1,
              "#f0f921"
             ]
            ],
            "type": "histogram2d"
           }
          ],
          "histogram2dcontour": [
           {
            "colorbar": {
             "outlinewidth": 0,
             "ticks": ""
            },
            "colorscale": [
             [
              0,
              "#0d0887"
             ],
             [
              0.1111111111111111,
              "#46039f"
             ],
             [
              0.2222222222222222,
              "#7201a8"
             ],
             [
              0.3333333333333333,
              "#9c179e"
             ],
             [
              0.4444444444444444,
              "#bd3786"
             ],
             [
              0.5555555555555556,
              "#d8576b"
             ],
             [
              0.6666666666666666,
              "#ed7953"
             ],
             [
              0.7777777777777778,
              "#fb9f3a"
             ],
             [
              0.8888888888888888,
              "#fdca26"
             ],
             [
              1,
              "#f0f921"
             ]
            ],
            "type": "histogram2dcontour"
           }
          ],
          "mesh3d": [
           {
            "colorbar": {
             "outlinewidth": 0,
             "ticks": ""
            },
            "type": "mesh3d"
           }
          ],
          "parcoords": [
           {
            "line": {
             "colorbar": {
              "outlinewidth": 0,
              "ticks": ""
             }
            },
            "type": "parcoords"
           }
          ],
          "pie": [
           {
            "automargin": true,
            "type": "pie"
           }
          ],
          "scatter": [
           {
            "fillpattern": {
             "fillmode": "overlay",
             "size": 10,
             "solidity": 0.2
            },
            "type": "scatter"
           }
          ],
          "scatter3d": [
           {
            "line": {
             "colorbar": {
              "outlinewidth": 0,
              "ticks": ""
             }
            },
            "marker": {
             "colorbar": {
              "outlinewidth": 0,
              "ticks": ""
             }
            },
            "type": "scatter3d"
           }
          ],
          "scattercarpet": [
           {
            "marker": {
             "colorbar": {
              "outlinewidth": 0,
              "ticks": ""
             }
            },
            "type": "scattercarpet"
           }
          ],
          "scattergeo": [
           {
            "marker": {
             "colorbar": {
              "outlinewidth": 0,
              "ticks": ""
             }
            },
            "type": "scattergeo"
           }
          ],
          "scattergl": [
           {
            "marker": {
             "colorbar": {
              "outlinewidth": 0,
              "ticks": ""
             }
            },
            "type": "scattergl"
           }
          ],
          "scattermapbox": [
           {
            "marker": {
             "colorbar": {
              "outlinewidth": 0,
              "ticks": ""
             }
            },
            "type": "scattermapbox"
           }
          ],
          "scatterpolar": [
           {
            "marker": {
             "colorbar": {
              "outlinewidth": 0,
              "ticks": ""
             }
            },
            "type": "scatterpolar"
           }
          ],
          "scatterpolargl": [
           {
            "marker": {
             "colorbar": {
              "outlinewidth": 0,
              "ticks": ""
             }
            },
            "type": "scatterpolargl"
           }
          ],
          "scatterternary": [
           {
            "marker": {
             "colorbar": {
              "outlinewidth": 0,
              "ticks": ""
             }
            },
            "type": "scatterternary"
           }
          ],
          "surface": [
           {
            "colorbar": {
             "outlinewidth": 0,
             "ticks": ""
            },
            "colorscale": [
             [
              0,
              "#0d0887"
             ],
             [
              0.1111111111111111,
              "#46039f"
             ],
             [
              0.2222222222222222,
              "#7201a8"
             ],
             [
              0.3333333333333333,
              "#9c179e"
             ],
             [
              0.4444444444444444,
              "#bd3786"
             ],
             [
              0.5555555555555556,
              "#d8576b"
             ],
             [
              0.6666666666666666,
              "#ed7953"
             ],
             [
              0.7777777777777778,
              "#fb9f3a"
             ],
             [
              0.8888888888888888,
              "#fdca26"
             ],
             [
              1,
              "#f0f921"
             ]
            ],
            "type": "surface"
           }
          ],
          "table": [
           {
            "cells": {
             "fill": {
              "color": "#EBF0F8"
             },
             "line": {
              "color": "white"
             }
            },
            "header": {
             "fill": {
              "color": "#C8D4E3"
             },
             "line": {
              "color": "white"
             }
            },
            "type": "table"
           }
          ]
         },
         "layout": {
          "annotationdefaults": {
           "arrowcolor": "#2a3f5f",
           "arrowhead": 0,
           "arrowwidth": 1
          },
          "autotypenumbers": "strict",
          "coloraxis": {
           "colorbar": {
            "outlinewidth": 0,
            "ticks": ""
           }
          },
          "colorscale": {
           "diverging": [
            [
             0,
             "#8e0152"
            ],
            [
             0.1,
             "#c51b7d"
            ],
            [
             0.2,
             "#de77ae"
            ],
            [
             0.3,
             "#f1b6da"
            ],
            [
             0.4,
             "#fde0ef"
            ],
            [
             0.5,
             "#f7f7f7"
            ],
            [
             0.6,
             "#e6f5d0"
            ],
            [
             0.7,
             "#b8e186"
            ],
            [
             0.8,
             "#7fbc41"
            ],
            [
             0.9,
             "#4d9221"
            ],
            [
             1,
             "#276419"
            ]
           ],
           "sequential": [
            [
             0,
             "#0d0887"
            ],
            [
             0.1111111111111111,
             "#46039f"
            ],
            [
             0.2222222222222222,
             "#7201a8"
            ],
            [
             0.3333333333333333,
             "#9c179e"
            ],
            [
             0.4444444444444444,
             "#bd3786"
            ],
            [
             0.5555555555555556,
             "#d8576b"
            ],
            [
             0.6666666666666666,
             "#ed7953"
            ],
            [
             0.7777777777777778,
             "#fb9f3a"
            ],
            [
             0.8888888888888888,
             "#fdca26"
            ],
            [
             1,
             "#f0f921"
            ]
           ],
           "sequentialminus": [
            [
             0,
             "#0d0887"
            ],
            [
             0.1111111111111111,
             "#46039f"
            ],
            [
             0.2222222222222222,
             "#7201a8"
            ],
            [
             0.3333333333333333,
             "#9c179e"
            ],
            [
             0.4444444444444444,
             "#bd3786"
            ],
            [
             0.5555555555555556,
             "#d8576b"
            ],
            [
             0.6666666666666666,
             "#ed7953"
            ],
            [
             0.7777777777777778,
             "#fb9f3a"
            ],
            [
             0.8888888888888888,
             "#fdca26"
            ],
            [
             1,
             "#f0f921"
            ]
           ]
          },
          "colorway": [
           "#636efa",
           "#EF553B",
           "#00cc96",
           "#ab63fa",
           "#FFA15A",
           "#19d3f3",
           "#FF6692",
           "#B6E880",
           "#FF97FF",
           "#FECB52"
          ],
          "font": {
           "color": "#2a3f5f"
          },
          "geo": {
           "bgcolor": "white",
           "lakecolor": "white",
           "landcolor": "#E5ECF6",
           "showlakes": true,
           "showland": true,
           "subunitcolor": "white"
          },
          "hoverlabel": {
           "align": "left"
          },
          "hovermode": "closest",
          "mapbox": {
           "style": "light"
          },
          "paper_bgcolor": "white",
          "plot_bgcolor": "#E5ECF6",
          "polar": {
           "angularaxis": {
            "gridcolor": "white",
            "linecolor": "white",
            "ticks": ""
           },
           "bgcolor": "#E5ECF6",
           "radialaxis": {
            "gridcolor": "white",
            "linecolor": "white",
            "ticks": ""
           }
          },
          "scene": {
           "xaxis": {
            "backgroundcolor": "#E5ECF6",
            "gridcolor": "white",
            "gridwidth": 2,
            "linecolor": "white",
            "showbackground": true,
            "ticks": "",
            "zerolinecolor": "white"
           },
           "yaxis": {
            "backgroundcolor": "#E5ECF6",
            "gridcolor": "white",
            "gridwidth": 2,
            "linecolor": "white",
            "showbackground": true,
            "ticks": "",
            "zerolinecolor": "white"
           },
           "zaxis": {
            "backgroundcolor": "#E5ECF6",
            "gridcolor": "white",
            "gridwidth": 2,
            "linecolor": "white",
            "showbackground": true,
            "ticks": "",
            "zerolinecolor": "white"
           }
          },
          "shapedefaults": {
           "line": {
            "color": "#2a3f5f"
           }
          },
          "ternary": {
           "aaxis": {
            "gridcolor": "white",
            "linecolor": "white",
            "ticks": ""
           },
           "baxis": {
            "gridcolor": "white",
            "linecolor": "white",
            "ticks": ""
           },
           "bgcolor": "#E5ECF6",
           "caxis": {
            "gridcolor": "white",
            "linecolor": "white",
            "ticks": ""
           }
          },
          "title": {
           "x": 0.05
          },
          "xaxis": {
           "automargin": true,
           "gridcolor": "white",
           "linecolor": "white",
           "ticks": "",
           "title": {
            "standoff": 15
           },
           "zerolinecolor": "white",
           "zerolinewidth": 2
          },
          "yaxis": {
           "automargin": true,
           "gridcolor": "white",
           "linecolor": "white",
           "ticks": "",
           "title": {
            "standoff": 15
           },
           "zerolinecolor": "white",
           "zerolinewidth": 2
          }
         }
        },
        "title": {
         "text": ""
        },
        "xaxis": {
         "anchor": "y2",
         "domain": [
          0,
          1
         ],
         "zeroline": false
        },
        "yaxis": {
         "anchor": "free",
         "domain": [
          0,
          1
         ],
         "position": 0
        }
       }
      },
      "text/html": [
       "<div>                            <div id=\"3d6605af-b7c9-4c89-853b-452634c445c1\" class=\"plotly-graph-div\" style=\"height:525px; width:100%;\"></div>            <script type=\"text/javascript\">                require([\"plotly\"], function(Plotly) {                    window.PLOTLYENV=window.PLOTLYENV || {};                                    if (document.getElementById(\"3d6605af-b7c9-4c89-853b-452634c445c1\")) {                    Plotly.newPlot(                        \"3d6605af-b7c9-4c89-853b-452634c445c1\",                        [{\"autobinx\":false,\"histnorm\":\"probability density\",\"legendgroup\":\"Standard\",\"marker\":{\"color\":\"slategray\"},\"name\":\"Standard\",\"opacity\":0.7,\"x\":[1,1,1,1,1,1,1,1,1,1,1,1,1,1,1,1,1,1,1,1,1,1,1,1,1,1,1,1,1,1,1,1,1,1,1,1,1,1,1,1,1,2,2,2,2,2,2,2,2,2,2,2,2,2,2,2,2,2,2,2,2,2,2,2,2,2,2,2,2,2,2,2,2,2,2,2,2,2,2,2,3,3,3,3,3,3,3,3,3,4,5,5,5,6,6,8],\"xaxis\":\"x\",\"xbins\":{\"end\":8.0,\"size\":1,\"start\":1.0},\"yaxis\":\"y\",\"type\":\"histogram\"},{\"autobinx\":false,\"histnorm\":\"probability density\",\"legendgroup\":\"Agglomerative Clustering\",\"marker\":{\"color\":\"magenta\"},\"name\":\"Agglomerative Clustering\",\"opacity\":0.7,\"x\":[1,1,1,1,1,1,1,1,1,1,1,1,1,1,1,1,1,1,1,1,1,1,1,1,1,1,1,1,1,1,1,1,1,1,1,1,1,1,1,1,1,1,1,1,1,1,1,1,1,1,1,1,1,1,1,1,1,1,1,1,1,1,1,1,1,1,1,1,1,1,1,1,1,1,1,1,1,1,1,1,1,1,1,1,1,1,1,1,1,1,1,1,1,1,1,1,1,1,1,1,1,1,1,1,1,1,1,1,1,1,1,1,1,1,1,1,1,1,1,1,1,1,1,1,1,1,1,1,1,1,1,1,1,1,1,1,1,1,1,1,1,1,1,1,1,1,1,1,1,1,1,1,1,1,1,1,1,1,1,1,1,1,1,1,1,1,1,1,1,1,1,1,1,1,1,1,1,1,1,1,1,1,1,1,1,1,1,1,1,1,1,1,1,1,1,1,1,1,1,2,2,2,2,2,2,2,2,2,2,2,2,2,2,2,2,2,3,3,3,3,4,4,4,4,4,5,5,6,6,6,8,8,9,9,10,10,11],\"xaxis\":\"x\",\"xbins\":{\"end\":11.0,\"size\":1,\"start\":1.0},\"yaxis\":\"y\",\"type\":\"histogram\"},{\"legendgroup\":\"Standard\",\"marker\":{\"color\":\"slategray\"},\"mode\":\"lines\",\"name\":\"Standard\",\"showlegend\":false,\"x\":[1.0,1.014,1.028,1.042,1.056,1.07,1.084,1.098,1.112,1.126,1.1400000000000001,1.154,1.168,1.182,1.196,1.21,1.224,1.238,1.252,1.266,1.28,1.294,1.308,1.322,1.336,1.35,1.3639999999999999,1.3780000000000001,1.392,1.4060000000000001,1.42,1.434,1.448,1.462,1.476,1.49,1.504,1.518,1.532,1.546,1.56,1.5739999999999998,1.588,1.6019999999999999,1.616,1.63,1.6440000000000001,1.658,1.6720000000000002,1.686,1.7,1.714,1.728,1.742,1.756,1.77,1.784,1.798,1.812,1.826,1.8399999999999999,1.854,1.8679999999999999,1.8820000000000001,1.896,1.9100000000000001,1.924,1.938,1.952,1.966,1.98,1.994,2.008,2.0220000000000002,2.036,2.05,2.064,2.0780000000000003,2.092,2.106,2.12,2.134,2.1479999999999997,2.162,2.176,2.19,2.2039999999999997,2.218,2.232,2.246,2.26,2.274,2.2880000000000003,2.302,2.316,2.33,2.3440000000000003,2.358,2.372,2.386,2.4,2.4139999999999997,2.428,2.442,2.456,2.4699999999999998,2.484,2.498,2.512,2.526,2.54,2.5540000000000003,2.568,2.582,2.596,2.6100000000000003,2.624,2.638,2.652,2.666,2.6799999999999997,2.694,2.708,2.722,2.7359999999999998,2.75,2.7640000000000002,2.778,2.792,2.806,2.8200000000000003,2.834,2.848,2.862,2.876,2.8899999999999997,2.904,2.918,2.932,2.9459999999999997,2.96,2.974,2.988,3.002,3.016,3.03,3.044,3.058,3.072,3.086,3.1,3.114,3.128,3.142,3.156,3.17,3.184,3.198,3.212,3.226,3.24,3.254,3.268,3.282,3.296,3.31,3.324,3.338,3.352,3.366,3.38,3.394,3.408,3.422,3.436,3.45,3.464,3.478,3.492,3.506,3.52,3.534,3.548,3.562,3.576,3.59,3.604,3.618,3.632,3.646,3.66,3.674,3.688,3.702,3.716,3.73,3.744,3.758,3.772,3.786,3.8,3.814,3.828,3.842,3.856,3.87,3.884,3.898,3.912,3.926,3.94,3.954,3.968,3.982,3.996,4.01,4.024,4.038,4.052,4.066,4.08,4.093999999999999,4.1080000000000005,4.122,4.136,4.15,4.164,4.178,4.192,4.2059999999999995,4.220000000000001,4.234,4.248,4.2620000000000005,4.276,4.29,4.304,4.318,4.332,4.346,4.359999999999999,4.3740000000000006,4.388,4.402,4.416,4.43,4.444,4.458,4.4719999999999995,4.486000000000001,4.5,4.513999999999999,4.5280000000000005,4.542,4.556,4.57,4.584,4.598,4.612,4.6259999999999994,4.640000000000001,4.654,4.668,4.682,4.696,4.71,4.724,4.7379999999999995,4.752,4.766,4.779999999999999,4.7940000000000005,4.808,4.822,4.836,4.85,4.864,4.878,4.8919999999999995,4.906000000000001,4.92,4.934,4.948,4.962,4.976,4.99,5.004,5.018,5.032,5.046,5.06,5.074,5.088,5.102,5.116,5.13,5.144,5.158,5.172,5.186,5.2,5.214,5.228,5.242,5.256,5.27,5.284,5.298,5.312,5.326,5.34,5.354,5.368,5.382,5.396,5.41,5.424,5.438,5.452,5.466,5.48,5.494,5.508,5.522,5.536,5.55,5.564,5.578,5.592,5.606,5.62,5.634,5.648,5.662,5.676,5.69,5.704,5.718,5.732,5.746,5.76,5.774,5.788,5.802,5.816,5.83,5.844,5.858,5.872,5.886,5.9,5.914,5.928,5.942,5.956,5.97,5.984,5.998,6.012,6.026,6.04,6.054,6.068,6.082,6.096,6.11,6.124,6.138,6.152,6.166,6.18,6.194,6.208,6.222,6.236,6.25,6.264,6.278,6.292,6.306,6.32,6.334,6.348,6.362,6.376,6.39,6.404,6.418,6.432,6.446,6.46,6.474,6.488,6.502,6.516,6.53,6.544,6.558,6.572,6.586,6.6,6.614,6.628,6.642,6.656,6.67,6.684,6.698,6.712,6.726,6.74,6.754,6.768,6.782,6.796,6.81,6.824,6.838,6.852,6.866,6.88,6.894,6.908,6.922,6.936,6.95,6.964,6.978,6.992,7.006,7.02,7.034,7.048,7.062,7.076,7.09,7.104,7.118,7.132,7.146,7.16,7.174,7.188,7.202,7.216,7.23,7.244,7.258,7.272,7.286,7.3,7.314,7.328,7.342,7.356,7.37,7.384,7.398,7.412,7.426,7.44,7.454,7.468,7.482,7.496,7.51,7.524,7.538,7.552,7.566,7.58,7.594,7.608,7.622,7.636,7.65,7.664,7.678,7.692,7.706,7.72,7.734,7.748,7.762,7.776,7.79,7.804,7.818,7.832,7.846,7.86,7.874,7.888,7.902,7.916,7.93,7.944,7.958,7.972,7.986],\"xaxis\":\"x\",\"y\":[0.38390756692167133,0.38629544423315276,0.3885240628764948,0.3905960237564102,0.3925143797920834,0.3942826164662022,0.39590463000214404,0.3973847032781671,0.398727479603069,0.3999379344926917,0.4010213456008499,0.4019832609715842,0.4028294657918288,0.4035659478349424,0.4041988617954122,0.40473449272390005,0.40517921877912444,0.4055394735190858,0.40582170795860195,0.40603235262318554,0.4061777798306092,0.4062642664314925,0.4062979572383816,0.4062848293695841,0.4062306577290653,0.4061409818372834,0.4060210742199214,0.4058759105520411,0.4057101417443632,0.405528068146301,0.4053336160269058,0.4051303164804347,0.4049212868876064,0.4047092150470942,0.4044963460744621,0.40428447214768076,0.4040749251597243,0.4038685723196913,0.4036658147245285,0.4034665889038761,0.4032703713210375,0.40307618579364346,0.4028826137783913,0.40268780744551075,0.4024895054503837,0.40228505129215,0.4020714141324502,0.4018452119315405,0.40160273674425245,0.4013399820045711,0.40105267161518726,0.4007362906471935,0.4003861174454261,0.3999972569266403,0.39956467485091895,0.3990832328415625,0.3985477239250287,0.39795290836049285,0.39729354952818496,0.39656444964682896,0.3957604850933155,0.3948766411020323,0.3939080456271321,0.39285000215830307,0.39169802128930853,0.39044785084855577,0.3890955044122055,0.38763728803273034,0.38606982502924664,0.3843900787003184,0.38259537283512346,0.3806834099147734,0.3786522869120268,0.3765005086145955,0.3742269984144779,0.37183110652321066,0.36931261559045364,0.3666717437207649,0.363909144900723,0.36102590686547475,0.3580235464503435,0.3549040024891065,0.35166962633588084,0.3483231701021049,0.3448677727138754,0.3413069439076103,0.33764454629382473,0.33388477562943597,0.33003213944857024,0.32609143421012027,0.32206772112743526,0.3179663008512734,0.31379268718170755,0.3095525799878603,0.30525183751626017,0.30089644826921846,0.2964925026339838,0.29204616444150744,0.2875636426305666,0.2830511631886974,0.2785149415360437,0.2739611555117896,0.2693959191154564,0.26482525714706473,0.2602550808810306,0.25569116489883037,0.25113912519497283,0.24660439865976044,0.2420922240308139,0.23760762439345356,0.23315539129787594,0.22874007054874043,0.224365949710369,0.2200370473583604,0.21575710409613216,0.21152957534278996,0.20735762588688697,0.20324412618915985,0.19919165040627523,0.19520247609705518,0.19127858556265817,0.18742166876282246,0.18363312774155782,0.17991408248769633,0.17626537814846013,0.172687593507776,0.16918105063539968,0.16574582560812473,0.16238176020035805,0.15908847443822866,0.15586537990909657,0.1527116937168724,0.1496264529729197,0.14660852971246008,0.1436566461273321,0.14076939000761118,0.1379452302869642,0.13518253258964044,0.13247957468064578,0.1298345617248599,0.12724564126559856,0.124710917838323,0.12222846714082124,0.11979634968716095,0.11741262387899495,0.11507535843432122,0.1127826441205109,0.11053260474526425,0.10832340736606327,0.1061532716856407,0.10402047860788252,0.10192337793541867,0.09986039519684502,0.09783003759805488,0.09583089909845392,0.09386166461889457,0.09192111339392049,0.09000812148635158,0.08812166348732572,0.08626081342962297,0.08442474494640868,0.08261273071143328,0.08082414120019482,0.07905844281460579,0.0773151954162989,0.07559404931585328,0.0738947417669301,0.07221709301557297,0.07056100195576935,0.06892644144278866,0.06731345331582948,0.06572214318113702,0.06415267500601285,0.06260526557304959,0.06108017884251298,0.059577720269079516,0.05809823111715245,0.056642082816743614,0.05520967139945668,0.0538014120514607,0.05241773381753889,0.051059074487356325,0.04972587569204443,0.04841857823608384,0.04713761768629291,0.04588342023654402,0.04465639886364153,0.04345694978664277,0.042285449238798976,0.04114225055827266,0.040027681600854494,0.03894204247509567,0.037885603597590585,0.03685860406361815,0.03586125032598389,0.03489371517271663,0.03395613699226943,0.03304861931306534,0.03217123060261945,0.03132400431006536,0.03050693913471812,0.02971999950231877,0.028963116229827817,0.028236187359060964,0.027539079139091798,0.026871627137170707,0.026233637457927176,0.025624888050820107,0.025045130086174077,0.024494089380672292,0.023971467853865978,0.023476944998085048,0.02301017934509057,0.02257080991387773,0.022158457625209026,0.021772726669712826,0.02141320581771415,0.021079469660352124,0.020771079772972174,0.020487585793244945,0.020228526407944324,0.01999343024380009,0.019781816659314097,0.019593196435879506,0.019427072367957387,0.019282939753434408,0.019160286786596516,0.01905859485739749,0.018977338761868946,0.018915986829600454,0.018874000975208145,0.018850836681600962,0.01884594292363886,0.018858762041454247,0.01888872957327007,0.01893527405799562,0.01899781681821018,0.019075771734355616,0.01916854502105202,0.019275535016425593,0.01939613199519933,0.019529718016045024,0.01967566681333558,0.01983334374297376,0.020002105791410835,0.020181301656315976,0.020370271906617027,0.020568349228816448,0.020774858765598515,0.020989118551794986,0.02121044005177298,0.021438128801264705,0.02167148515557567,0.021909805145004586,0.02215238143718689,0.022398504404948064,0.022647463297132114,0.022898547508763693,0.023151047945818903,0.023404258478830507,0.023657477478544908,0.023910009425891266,0.0241611665876258,0.02441027074818144,0.024656654987497223,0.0248996654939232,0.025138663400706678,0.025373026634066126,0.025602151760455476,0.025825455820317995,0.026042378135427945,0.02625238207682148,0.026454956780327304,0.026649618796823923,0.0268359136645704,0.02701341739128432,0.027181737834067705,0.027340515965809383,0.027489427017314546,0.027628181485126423,0.027756525995803517,0.02787424401829585,0.02798115641701461,0.028077121839208675,0.02816203693133689,0.028235836380251074,0.028298492776172586,0.028350016295644275,0.028390454203863064,0.028419890177034505,0.028438443446631656,0.028446267768675697,0.028443550222376088,0.028430509843664124,0.028407396100315774,0.028374487216479838,0.028332088355495486,0.028280529670892424,0.028220164236408853,0.028151365866729058,0.02807452684142914,0.02799005554531789,0.02789837403896642,0.027799915573729368,0.02769512206596909,0.027584441545498592,0.027468325593457403,0.02734722678492524,0.027221596151561327,0.027091880679431444,0.026958520856953997,0.02682194828755899,0.026682583381215697,0.026540833138448114,0.026397089039825832,0.0262517250531981,0.026105095770134874,0.02595753468215797,0.025809352606393884,0.025660836269265505,0.025512247055770345,0.025363819930775834,0.025215762537607125,0.02506825447801708,0.024921446776421836,0.02477546153006651,0.024630391745564376,0.024486301361036297,0.02434322545187671,0.02420117061699416,0.024060115541228746,0.023920011728541805,0.02378078439951535,0.023642333545693704,0.02350453513235807,0.023367242440449354,0.02323028753755347,0.023093482867140178,0.02295662294460637,0.02281948614812067,0.02268183659180194,0.022543426068391534,0.02240399604829974,0.022263279721720958,0.02212100407042112,0.021976891955802724,0.021830664209946782,0.021682041716515315,0.021530747468669263,0.02137650859151255,0.021219058317008002,0.021058137899822922,0.02089349846314317,0.020724902764142614,0.020552126869500722,0.0203749617321213,0.020193214661011684,0.020006710677128482,0.019815293748874946,0.01961882790184122,0.01941719819830282,0.01921031158292881,0.01899809759209219,0.018780508925113498,0.018557521876698013,0.01832913663074051,0.018095377416563516,0.017856292529517946,0.01761195421870534,0.017362458445370647,0.01710792451626162,0.016848494596948562,0.016584333110743987,0.016315626029450924,0.016042580062699905,0.015765421753103897,0.01548439648486678,0.015199767413822627,0.0149118143271595,0.014620832441292413,0.014327131146494766,0.01403103270697878,0.013732870925131913,0.013432989778571955,0.013131742038578302,0.012829487878295708,0.01252659347889007,0.012223429641569458,0.011920370413067448,0.011617791731828427,0.01131607010173552,0.011015581299788331,0.010716699123672263,0.010419794184670171,0.010125232750852987,0.00983337564495546,0.00954457720079852,0.009259184281568168,0.008977535362704781,0.008699959681601007,0.008426776455756095,0.0081582941704928,0.007894809936814347,0.007636608919465851,0.007383963834772682,0.007137134517357987,0.006896367554398364,0.006661895985660562,0.00643393906717811,0.006212702096074226,0.005998376293719981,0.005791138744134472,0.005591152384288174,0.005398566042763154,0.005213514523052745,0.005036118727651489,0.004866485818990754,0.004704709413218123,0.004550869802796747,0.004405034203915186,0.0042672570247459145,0.004137580150671483,0.004016033242708281,0.0039026340454987743,0.0037973887014097836,0.0037002920674669474,0.0036113280320694495,0.0035304698286637392,0.00345768034380661,0.0033929124173146447,0.0033361091324757308,0.003287204094586679,0.0032461216963760773,0.003212777369170659,0.003187077818964319,0.0031689212468484843,0.0031581975535586375,0.0031547885281817036,0.0031585680213505425,0.0031694021035226293,0.003187149209197979,0.0032116602681745723,0.003242778825166043,0.003280341149314529,0.0033241763353197835,0.003374106398072698,0.003429946362825795,0.0034915043530544705,0.003558581678259373,0.003630972924032569,0.003708466046756583,0.003790842475326639,0.003877877222282204,0.003969339006704089,0.004064990391178788,0.0041645879350525015,0.004267882366094666,0.004374618772565065,0.004484536817531466,0.004597370977116977,0.004712850804169727,0.00483070121864339,0.004950642825757136,0.005072392262769829,0.005195662574957632,0.005320163621128265,0.005445602508741608,0.005571684058436855,0.005698111297493796,0.005824585981481426,0.00595080914307406,0.006076481666745435,0.006201304887786631,0.00632498121383747,0.006447214766873804,0.006567712043358812,0.006686182590045245,0.006802339692710739,0.006915901074920815,0.007026589603746235,0.007134133999213813,0.007238269544144647,0.007338738790931454,0.007435292261729217,0.007527689138480093,0.007615697939166629,0.00769909717668601,0.007777675996762904,0.00785123479136976,0.007919585784200201,0.007982553584843873,0.008039975708438224,0.008091703057724078,0.008137600364606002,0.008177546588514507,0.008211435269083205,0.008239174830889099,0.008260688838256152,0.008275916198389476,0.008284811311387813],\"yaxis\":\"y\",\"type\":\"scatter\"},{\"legendgroup\":\"Agglomerative Clustering\",\"marker\":{\"color\":\"magenta\"},\"mode\":\"lines\",\"name\":\"Agglomerative Clustering\",\"showlegend\":false,\"x\":[1.0,1.02,1.04,1.06,1.08,1.1,1.12,1.1400000000000001,1.16,1.18,1.2,1.22,1.24,1.26,1.28,1.3,1.32,1.34,1.3599999999999999,1.38,1.4,1.42,1.44,1.46,1.48,1.5,1.52,1.54,1.56,1.58,1.6,1.62,1.6400000000000001,1.6600000000000001,1.6800000000000002,1.7,1.72,1.74,1.76,1.78,1.8,1.8199999999999998,1.8399999999999999,1.8599999999999999,1.88,1.9,1.92,1.94,1.96,1.98,2.0,2.02,2.04,2.06,2.08,2.1,2.12,2.1399999999999997,2.16,2.1799999999999997,2.2,2.2199999999999998,2.24,2.26,2.2800000000000002,2.3,2.3200000000000003,2.34,2.3600000000000003,2.38,2.4,2.42,2.44,2.46,2.48,2.5,2.52,2.54,2.56,2.58,2.6,2.62,2.6399999999999997,2.66,2.6799999999999997,2.7,2.7199999999999998,2.74,2.76,2.7800000000000002,2.8,2.8200000000000003,2.84,2.8600000000000003,2.88,2.9,2.92,2.94,2.96,2.98,3.0,3.02,3.04,3.06,3.08,3.1,3.12,3.14,3.16,3.18,3.2,3.22,3.24,3.26,3.28,3.3,3.32,3.34,3.36,3.38,3.4,3.42,3.44,3.46,3.48,3.5,3.52,3.54,3.56,3.58,3.6,3.62,3.64,3.66,3.68,3.7,3.72,3.74,3.76,3.78,3.8,3.82,3.84,3.86,3.88,3.9,3.92,3.94,3.96,3.98,4.0,4.02,4.04,4.0600000000000005,4.08,4.1,4.12,4.140000000000001,4.16,4.18,4.2,4.220000000000001,4.24,4.26,4.279999999999999,4.3,4.32,4.34,4.359999999999999,4.38,4.4,4.42,4.4399999999999995,4.46,4.48,4.5,4.52,4.54,4.5600000000000005,4.58,4.6,4.62,4.640000000000001,4.66,4.68,4.7,4.720000000000001,4.74,4.76,4.779999999999999,4.8,4.82,4.84,4.859999999999999,4.88,4.9,4.92,4.9399999999999995,4.96,4.98,5.0,5.02,5.04,5.06,5.08,5.1,5.12,5.14,5.16,5.18,5.2,5.22,5.24,5.26,5.28,5.3,5.32,5.34,5.36,5.38,5.4,5.42,5.44,5.46,5.48,5.5,5.52,5.54,5.56,5.58,5.6,5.62,5.64,5.66,5.68,5.7,5.72,5.74,5.76,5.78,5.8,5.82,5.84,5.86,5.88,5.9,5.92,5.94,5.96,5.98,6.0,6.02,6.04,6.06,6.08,6.1,6.12,6.14,6.16,6.18,6.2,6.22,6.24,6.26,6.28,6.3,6.32,6.34,6.36,6.38,6.4,6.42,6.44,6.46,6.48,6.5,6.52,6.54,6.56,6.58,6.6,6.62,6.64,6.66,6.68,6.7,6.72,6.74,6.76,6.78,6.8,6.82,6.84,6.86,6.88,6.9,6.92,6.94,6.96,6.98,7.0,7.02,7.04,7.06,7.08,7.1,7.12,7.14,7.16,7.18,7.2,7.22,7.24,7.26,7.28,7.3,7.32,7.34,7.36,7.38,7.4,7.42,7.44,7.46,7.48,7.5,7.52,7.54,7.56,7.58,7.6,7.62,7.64,7.66,7.68,7.7,7.72,7.74,7.76,7.78,7.8,7.82,7.84,7.86,7.88,7.9,7.92,7.94,7.96,7.98,8.0,8.02,8.04,8.059999999999999,8.08,8.1,8.120000000000001,8.14,8.16,8.18,8.2,8.219999999999999,8.24,8.26,8.280000000000001,8.3,8.32,8.34,8.36,8.379999999999999,8.4,8.42,8.440000000000001,8.46,8.48,8.5,8.52,8.54,8.559999999999999,8.58,8.6,8.620000000000001,8.64,8.66,8.68,8.7,8.719999999999999,8.74,8.76,8.780000000000001,8.8,8.82,8.84,8.86,8.879999999999999,8.9,8.92,8.940000000000001,8.96,8.98,9.0,9.02,9.04,9.06,9.08,9.1,9.12,9.14,9.16,9.18,9.2,9.22,9.24,9.26,9.28,9.3,9.32,9.34,9.36,9.38,9.4,9.42,9.44,9.46,9.48,9.5,9.52,9.54,9.56,9.58,9.6,9.62,9.64,9.66,9.68,9.7,9.72,9.74,9.76,9.78,9.8,9.82,9.84,9.86,9.88,9.9,9.92,9.94,9.96,9.98,10.0,10.02,10.04,10.06,10.08,10.1,10.12,10.14,10.16,10.18,10.2,10.22,10.24,10.26,10.28,10.3,10.32,10.34,10.36,10.38,10.4,10.42,10.44,10.46,10.48,10.5,10.52,10.54,10.56,10.58,10.6,10.62,10.64,10.66,10.68,10.7,10.72,10.74,10.76,10.78,10.8,10.82,10.84,10.86,10.88,10.9,10.92,10.94,10.96,10.98],\"xaxis\":\"x\",\"y\":[0.6308426042621708,0.6310869810747497,0.6305108645711467,0.629119790086251,0.626922650860524,0.6239316294002092,0.6201621059991793,0.6156325453127041,0.6103643620855174,0.6043817673353413,0.5977115964760229,0.590383121029663,0.5824278457221103,0.573879292880079,0.5647727761487712,0.5551451656259779,0.5450346465607541,0.5344804737924823,0.5235227241085822,0.5122020486773128,0.5005594276664829,0.48863592909040093,0.4764724738374597,0.46410960872094575,0.45158728926787145,0.43894467381643015,0.4262199303351455,0.4134500572072831,0.4006707190457277,0.3879160984185187,0.37521876417624267,0.36260955688161634,0.35011749165204525,0.3377696785391639,0.3255912603883189,0.3136053679473126,0.3018330918295825,0.29029347078391027,0.2790034955824432,0.26797812771216295,0.25723033194353434,0.24677112175394852,0.236609616504042,0.226753109201682,0.2172071436416979,0.20797559967915644,0.1990607853795047,0.19046353478982914,0.18218331009091787,0.17421830691882315,0.16656556168613923,0.15922105978600792,0.15217984362462167,0.14543611949940385,0.13898336241857712,0.13281441804221486,0.12692160101346078,0.12129678904019386,0.11593151218045059,0.1108170368782385,0.10594444438859137,0.10130470332084357,0.09688873611593254,0.09268747935625476,0.08869193788433317,0.084893232778612,0.08128264330051044,0.07785164298603178,0.0745919301073498,0.07149545277477794,0.06855442898720002,0.06576136196951471,0.06310905115900228,0.06059059921900925,0.05819941546828905,0.05592921611810064,0.05377402170721516,0.051728152117812086,0.04978621954339946,0.04794311976394424,0.04619402206393051,0.044534358106682506,0.042959810053582625,0.0414662981903733,0.04004996829512602,0.03870717895421388,0.03743448900427292,0.03622864525011399,0.035086570581315944,0.034005352584133466,0.03298223272075465,0.03201459612509288,0.031099962043445027,0.030235974929654106,0.029420396188014664,0.028651096543120206,0.027926049004213242,0.02724332238233384,0.02660107531162822,0.025997550721472463,0.025431070703470598,0.024900031716742644,0.024402900076053766,0.023938207670048946,0.02350454786094443,0.02310057152225744,0.022724983177312925,0.022376537208111644,0.022054034111460362,0.021756316786827858,0.021482266847993346,0.021230800957997013,0.021000867194008496,0.020791441455330368,0.02060152393371066,0.020430135670325256,0.020276315228109732,0.02013911551149259,0.020017600767953055,0.019910843807167976,0.019817923473810773,0.01973792240933909,0.019669925136385723,0.01961301649670409,0.019566280470085073,0.01952879939734021,0.019499653625436895,0.019477921587283252,0.019462680322612846,0.01945300644003631,0.019447977513739195,0.019446673901639865,0.019448180965212423,0.01945159166474995,0.019456009497716975,0.019460551742130888,0.019464352961724198,0.019466568725070483,0.019466379486985673,0.019462994577416314,0.019455656240749436,0.01944364366706782,0.019426276956352274,0.019402920957011117,0.01937298892138793,0.01933594592304339,0.01929131198358795,0.01923866486061169,0.019177642452753572,0.019107944783100815,0.019029335527827818,0.018941643063180053,0.018844761010483255,0.018738648265707987,0.018623328507136362,0.018498889181751535,0.018365479977994648,0.018223310799397357,0.018072649260200625,0.017913817730311993,0.017747189962743267,0.01757318734192356,0.017392274795927812,0.01720495641963089,0.017011770859043682,0.016813286509566993,0.01661009658258562,0.016402814095703353,0.0161920668419871,0.015978492392856716,0.01576273318774759,0.015545431761422096,0.015327226156858484,0.015108745568057332,0.014890606252942648,0.014673407751868548,0.014457729442155051,0.014244127453650854,0.014033131964647878,0.013825244891642514,0.013620937980544591,0.013420651301069786,0.013224792140303105,0.013033734285879046,0.012847817683968338,0.012667348452369626,0.012492599224544971,0.012323809796473462,0.012161188044779121,0.012004911081761507,0.011855126610752359,0.011711954443663197,0.011575488141688203,0.011445796739886278,0.011322926516777016,0.011206902771128256,0.011097731569759661,0.010995401432399491,0.010899884922364409,0.01081114011503083,0.0107291119196714,0.01065373323417534,0.010584925916386732,0.01052260156020685,0.010466662069139595,0.010417000024537283,0.010373498850349785,0.010336032780621333,0.01030446664024115,0.010278655453471248,0.010258443898481785,0.010243665629464854,0.010234142490819595,0.010229683650361743,0.010230084680473053,0.010235126617542242,0.010244575030940993,0.010258179133115292,0.010275670962153075,0.010296764667421165,0.010321155927564383,0.010348521528351294,0.010378519125567757,0.010410787215439319,0.010444945331954059,0.010480594487009278,0.010517317865576059,0.010554681784124949,0.01059223691644805,0.010629519786812485,0.010666054526154232,0.010701354882835787,0.010734926475410262,0.010766269270922701,0.010794880268593526,0.010820256365327678,0.010841897376423985,0.01085930918216922,0.01087200696872831,0.010879518529918263,0.010881387595102602,0.010877177147583815,0.010866472697511608,0.010848885473467164,0.010824055497521905,0.010791654509689606,0.010751388709273085,0.010703001282623206,0.01064627468924492,0.010581032680963796,0.010507142031962246,0.010424513960859336,0.010333105229590389,0.01023291890758795,0.01012400479361883,0.010006459491536637,0.009880426140108894,0.00974609380091828,0.009603696512064885,0.009453512018961285,0.009295860196866533,0.009131101182908087,0.008959633238151767,0.008781890362768946,0.008598339689487578,0.008409478682280602,0.008215832168623831,0.008017949234639575,0.007816400013026572,0.007611772393866453,0.0074046686882,0.00719570227369866,0.006985494250836594,0.006774670136722997,0.006563856622209789,0.0063536784160813245,0.006144755198094084,0.005937698700405213,0.0057331099345478585,0.005531576578620108,0.005333670536794656,0.005139945680667955,0.004950935779392194,0.004767152623008255,0.004589084340960762,0.00441719391545953,0.004251917887188472,0.004093665248877724,0.003942816520474148,0.0037997229980858004,0.003664706167555541,0.003538057272445744,0.0034200370253989506,0.0033108754512777916,0.0032107718501811263,0.003119894868373817,0.003038382665345298,0.0029663431656118833,0.0029038543844823544,0.0028509648177941493,0.0028076938865756714,0.002774032428672185,0.0027499432305616326,0.0027353615938531185,0.0027301959322753,0.002734328396294602,0.002747615523824043,0.002769888916763643,0.0028009559443247147,0.002840600475206638,0.0028885836416914115,0.002944644639576539,0.0030085015685614013,0.0030798523182198187,0.0031583755050195545,0.00324373146597813,0.0033355633144685304,0.003433498063405584,0.0035371478205566275,0.0036461110600336305,0.003759973973148395,0.0038783119007602244,0.004000690848033849,0.004126669081173275,0.004255798804228308,0.004387627912508715,0.004521701817515114,0.0046575653366334215,0.004794764639172736,0.004932849238685278,0.005071374019923198,0.0052099012872924705,0.0053480028202884085,0.0054852619201710435,0.005621275431088051,0.005755655718004673,0.005888032583175328,0.006018055102511404,0.006145393363078258,0.006269740083105221,0.006390812096322091,0.006508351683148605,0.006622127732257696,0.006731936717304278,0.006837603475147486,0.006938981773681929,0.007035954659411964,0.007128434577130547,0.007216363256471239,0.007299711362659679,0.007378477911463443,0.007452689451091113,0.007522399016582958,0.007587684865027271,0.007648649002686026,0.007705415517780479,0.0077581287352298176,0.007806951212014272,0.007852061594010053,0.007893652357080718,0.007931927456875472,0.007967099913150144,0.00799938935546529,0.008029019557808138,0.008056215990014201,0.008081203413820603,0.008104203550960828,0.008125432849910894,0.008145100376725983,0.008163405853876593,0.008180537869122147,0.008196672274270709,0.008211970791194652,0.008226579839736212,0.008240629599181927,0.008254233311851256,0.008267486834076928,0.0082804684364989,0.00829323885219911,0.008305841567819326,0.008318303349479528,0.008330634992098228,0.008342832277656802,0.008354877125093672,0.008366738911903213,0.008378375945189196,0.008389737057918446,0.008400763304467915,0.008411389728284046,0.008421547173596397,0.008431164112662634,0.008440168459977297,0.008448489345253336,0.008456058817778953,0.008462813455951589,0.008468695857378292,0.008473655986884295,0.008477652362060306,0.008480653058569468,0.008482636520288817,0.008483592162434002,0.008483520759063947,0.008482434609735114,0.008480357483521555,0.008477324342085544,0.008473380846921051,0.00846858265924684,0.008462994544246715,0.008456689294392377,0.008449746489393617,0.00844225111285845,0.008434292047974272,0.008425960476406057,0.008417348206121365,0.008408545954971236,0.00839964161756497,0.008390718543264638,0.008381853852988504,0.00837311682195405,0.00836456735451998,0.008356254575918409,0.008348215563924519,0.008340474241418904,0.008333040448390037,0.008325909209238013,0.008319060208317687,0.008312457483543936,0.008306049344622531,0.008299768519116072,0.008293532526157119,0.008287244274231432,0.008280792876124318,0.008274054670902416,0.008266894439740354,0.008259166799541555,0.008250717755687934,0.008241386392922065,0.008231006681351478,0.008219409372896986,0.008206423962208286,0.008191880685158219,0.008175612527513533,0.008157457216269967,0.008137259166432396,0.008114871356709564,0.008090157108664762,0.008062991745300027,0.008033264106828367,0.00800087790347672,0.007965752887528975,0.007927825829425748,0.007887051285545352,0.007843402148255088,0.007796869971898606,0.007747465071527212,0.007695216394343629,0.007640171166959317,0.007582394324625316,0.00752196773153757,0.0074589892040989834,0.007393571351603684,0.007325840251157977,0.007255933975736752,0.007184000996065922,0.007110198478499418,0.0070346905022051764,0.006957646219777578,0.0068792379858461615,0.00679963947835205,0.006719023836917045,0.0066375618421461256,0.006555420158795039,0.00647275966452037,0.006389733884431729,0.0063064875499120035,0.006223155298191223,0.006139860526985839,0.006056714416182329,0.005973815126089351,0.005891247179243475,0.00580908103016776,0.005727372824889075,0.005646164349454632,0.0055654831641890196,0.005485342918032021,0.0054057438350287035,0.005326673362934194,0.005248106971973814,0.005170009090086518,0.005092334159495949,0.005015027798213074,0.004938028049089618,0.004861266698318597,0.00478467064482115,0.004708163301765928,0.00463166601153441,0.004555099455763797,0.004478385042657292,0.004401446254533809,0.004324209939578479],\"yaxis\":\"y\",\"type\":\"scatter\"}],                        {\"barmode\":\"overlay\",\"hovermode\":\"closest\",\"legend\":{\"traceorder\":\"reversed\"},\"xaxis\":{\"anchor\":\"y2\",\"domain\":[0.0,1.0],\"zeroline\":false},\"yaxis\":{\"anchor\":\"free\",\"domain\":[0.0,1],\"position\":0.0},\"template\":{\"data\":{\"histogram2dcontour\":[{\"type\":\"histogram2dcontour\",\"colorbar\":{\"outlinewidth\":0,\"ticks\":\"\"},\"colorscale\":[[0.0,\"#0d0887\"],[0.1111111111111111,\"#46039f\"],[0.2222222222222222,\"#7201a8\"],[0.3333333333333333,\"#9c179e\"],[0.4444444444444444,\"#bd3786\"],[0.5555555555555556,\"#d8576b\"],[0.6666666666666666,\"#ed7953\"],[0.7777777777777778,\"#fb9f3a\"],[0.8888888888888888,\"#fdca26\"],[1.0,\"#f0f921\"]]}],\"choropleth\":[{\"type\":\"choropleth\",\"colorbar\":{\"outlinewidth\":0,\"ticks\":\"\"}}],\"histogram2d\":[{\"type\":\"histogram2d\",\"colorbar\":{\"outlinewidth\":0,\"ticks\":\"\"},\"colorscale\":[[0.0,\"#0d0887\"],[0.1111111111111111,\"#46039f\"],[0.2222222222222222,\"#7201a8\"],[0.3333333333333333,\"#9c179e\"],[0.4444444444444444,\"#bd3786\"],[0.5555555555555556,\"#d8576b\"],[0.6666666666666666,\"#ed7953\"],[0.7777777777777778,\"#fb9f3a\"],[0.8888888888888888,\"#fdca26\"],[1.0,\"#f0f921\"]]}],\"heatmap\":[{\"type\":\"heatmap\",\"colorbar\":{\"outlinewidth\":0,\"ticks\":\"\"},\"colorscale\":[[0.0,\"#0d0887\"],[0.1111111111111111,\"#46039f\"],[0.2222222222222222,\"#7201a8\"],[0.3333333333333333,\"#9c179e\"],[0.4444444444444444,\"#bd3786\"],[0.5555555555555556,\"#d8576b\"],[0.6666666666666666,\"#ed7953\"],[0.7777777777777778,\"#fb9f3a\"],[0.8888888888888888,\"#fdca26\"],[1.0,\"#f0f921\"]]}],\"heatmapgl\":[{\"type\":\"heatmapgl\",\"colorbar\":{\"outlinewidth\":0,\"ticks\":\"\"},\"colorscale\":[[0.0,\"#0d0887\"],[0.1111111111111111,\"#46039f\"],[0.2222222222222222,\"#7201a8\"],[0.3333333333333333,\"#9c179e\"],[0.4444444444444444,\"#bd3786\"],[0.5555555555555556,\"#d8576b\"],[0.6666666666666666,\"#ed7953\"],[0.7777777777777778,\"#fb9f3a\"],[0.8888888888888888,\"#fdca26\"],[1.0,\"#f0f921\"]]}],\"contourcarpet\":[{\"type\":\"contourcarpet\",\"colorbar\":{\"outlinewidth\":0,\"ticks\":\"\"}}],\"contour\":[{\"type\":\"contour\",\"colorbar\":{\"outlinewidth\":0,\"ticks\":\"\"},\"colorscale\":[[0.0,\"#0d0887\"],[0.1111111111111111,\"#46039f\"],[0.2222222222222222,\"#7201a8\"],[0.3333333333333333,\"#9c179e\"],[0.4444444444444444,\"#bd3786\"],[0.5555555555555556,\"#d8576b\"],[0.6666666666666666,\"#ed7953\"],[0.7777777777777778,\"#fb9f3a\"],[0.8888888888888888,\"#fdca26\"],[1.0,\"#f0f921\"]]}],\"surface\":[{\"type\":\"surface\",\"colorbar\":{\"outlinewidth\":0,\"ticks\":\"\"},\"colorscale\":[[0.0,\"#0d0887\"],[0.1111111111111111,\"#46039f\"],[0.2222222222222222,\"#7201a8\"],[0.3333333333333333,\"#9c179e\"],[0.4444444444444444,\"#bd3786\"],[0.5555555555555556,\"#d8576b\"],[0.6666666666666666,\"#ed7953\"],[0.7777777777777778,\"#fb9f3a\"],[0.8888888888888888,\"#fdca26\"],[1.0,\"#f0f921\"]]}],\"mesh3d\":[{\"type\":\"mesh3d\",\"colorbar\":{\"outlinewidth\":0,\"ticks\":\"\"}}],\"scatter\":[{\"fillpattern\":{\"fillmode\":\"overlay\",\"size\":10,\"solidity\":0.2},\"type\":\"scatter\"}],\"parcoords\":[{\"type\":\"parcoords\",\"line\":{\"colorbar\":{\"outlinewidth\":0,\"ticks\":\"\"}}}],\"scatterpolargl\":[{\"type\":\"scatterpolargl\",\"marker\":{\"colorbar\":{\"outlinewidth\":0,\"ticks\":\"\"}}}],\"bar\":[{\"error_x\":{\"color\":\"#2a3f5f\"},\"error_y\":{\"color\":\"#2a3f5f\"},\"marker\":{\"line\":{\"color\":\"#E5ECF6\",\"width\":0.5},\"pattern\":{\"fillmode\":\"overlay\",\"size\":10,\"solidity\":0.2}},\"type\":\"bar\"}],\"scattergeo\":[{\"type\":\"scattergeo\",\"marker\":{\"colorbar\":{\"outlinewidth\":0,\"ticks\":\"\"}}}],\"scatterpolar\":[{\"type\":\"scatterpolar\",\"marker\":{\"colorbar\":{\"outlinewidth\":0,\"ticks\":\"\"}}}],\"histogram\":[{\"marker\":{\"pattern\":{\"fillmode\":\"overlay\",\"size\":10,\"solidity\":0.2}},\"type\":\"histogram\"}],\"scattergl\":[{\"type\":\"scattergl\",\"marker\":{\"colorbar\":{\"outlinewidth\":0,\"ticks\":\"\"}}}],\"scatter3d\":[{\"type\":\"scatter3d\",\"line\":{\"colorbar\":{\"outlinewidth\":0,\"ticks\":\"\"}},\"marker\":{\"colorbar\":{\"outlinewidth\":0,\"ticks\":\"\"}}}],\"scattermapbox\":[{\"type\":\"scattermapbox\",\"marker\":{\"colorbar\":{\"outlinewidth\":0,\"ticks\":\"\"}}}],\"scatterternary\":[{\"type\":\"scatterternary\",\"marker\":{\"colorbar\":{\"outlinewidth\":0,\"ticks\":\"\"}}}],\"scattercarpet\":[{\"type\":\"scattercarpet\",\"marker\":{\"colorbar\":{\"outlinewidth\":0,\"ticks\":\"\"}}}],\"carpet\":[{\"aaxis\":{\"endlinecolor\":\"#2a3f5f\",\"gridcolor\":\"white\",\"linecolor\":\"white\",\"minorgridcolor\":\"white\",\"startlinecolor\":\"#2a3f5f\"},\"baxis\":{\"endlinecolor\":\"#2a3f5f\",\"gridcolor\":\"white\",\"linecolor\":\"white\",\"minorgridcolor\":\"white\",\"startlinecolor\":\"#2a3f5f\"},\"type\":\"carpet\"}],\"table\":[{\"cells\":{\"fill\":{\"color\":\"#EBF0F8\"},\"line\":{\"color\":\"white\"}},\"header\":{\"fill\":{\"color\":\"#C8D4E3\"},\"line\":{\"color\":\"white\"}},\"type\":\"table\"}],\"barpolar\":[{\"marker\":{\"line\":{\"color\":\"#E5ECF6\",\"width\":0.5},\"pattern\":{\"fillmode\":\"overlay\",\"size\":10,\"solidity\":0.2}},\"type\":\"barpolar\"}],\"pie\":[{\"automargin\":true,\"type\":\"pie\"}]},\"layout\":{\"autotypenumbers\":\"strict\",\"colorway\":[\"#636efa\",\"#EF553B\",\"#00cc96\",\"#ab63fa\",\"#FFA15A\",\"#19d3f3\",\"#FF6692\",\"#B6E880\",\"#FF97FF\",\"#FECB52\"],\"font\":{\"color\":\"#2a3f5f\"},\"hovermode\":\"closest\",\"hoverlabel\":{\"align\":\"left\"},\"paper_bgcolor\":\"white\",\"plot_bgcolor\":\"#E5ECF6\",\"polar\":{\"bgcolor\":\"#E5ECF6\",\"angularaxis\":{\"gridcolor\":\"white\",\"linecolor\":\"white\",\"ticks\":\"\"},\"radialaxis\":{\"gridcolor\":\"white\",\"linecolor\":\"white\",\"ticks\":\"\"}},\"ternary\":{\"bgcolor\":\"#E5ECF6\",\"aaxis\":{\"gridcolor\":\"white\",\"linecolor\":\"white\",\"ticks\":\"\"},\"baxis\":{\"gridcolor\":\"white\",\"linecolor\":\"white\",\"ticks\":\"\"},\"caxis\":{\"gridcolor\":\"white\",\"linecolor\":\"white\",\"ticks\":\"\"}},\"coloraxis\":{\"colorbar\":{\"outlinewidth\":0,\"ticks\":\"\"}},\"colorscale\":{\"sequential\":[[0.0,\"#0d0887\"],[0.1111111111111111,\"#46039f\"],[0.2222222222222222,\"#7201a8\"],[0.3333333333333333,\"#9c179e\"],[0.4444444444444444,\"#bd3786\"],[0.5555555555555556,\"#d8576b\"],[0.6666666666666666,\"#ed7953\"],[0.7777777777777778,\"#fb9f3a\"],[0.8888888888888888,\"#fdca26\"],[1.0,\"#f0f921\"]],\"sequentialminus\":[[0.0,\"#0d0887\"],[0.1111111111111111,\"#46039f\"],[0.2222222222222222,\"#7201a8\"],[0.3333333333333333,\"#9c179e\"],[0.4444444444444444,\"#bd3786\"],[0.5555555555555556,\"#d8576b\"],[0.6666666666666666,\"#ed7953\"],[0.7777777777777778,\"#fb9f3a\"],[0.8888888888888888,\"#fdca26\"],[1.0,\"#f0f921\"]],\"diverging\":[[0,\"#8e0152\"],[0.1,\"#c51b7d\"],[0.2,\"#de77ae\"],[0.3,\"#f1b6da\"],[0.4,\"#fde0ef\"],[0.5,\"#f7f7f7\"],[0.6,\"#e6f5d0\"],[0.7,\"#b8e186\"],[0.8,\"#7fbc41\"],[0.9,\"#4d9221\"],[1,\"#276419\"]]},\"xaxis\":{\"gridcolor\":\"white\",\"linecolor\":\"white\",\"ticks\":\"\",\"title\":{\"standoff\":15},\"zerolinecolor\":\"white\",\"automargin\":true,\"zerolinewidth\":2},\"yaxis\":{\"gridcolor\":\"white\",\"linecolor\":\"white\",\"ticks\":\"\",\"title\":{\"standoff\":15},\"zerolinecolor\":\"white\",\"automargin\":true,\"zerolinewidth\":2},\"scene\":{\"xaxis\":{\"backgroundcolor\":\"#E5ECF6\",\"gridcolor\":\"white\",\"linecolor\":\"white\",\"showbackground\":true,\"ticks\":\"\",\"zerolinecolor\":\"white\",\"gridwidth\":2},\"yaxis\":{\"backgroundcolor\":\"#E5ECF6\",\"gridcolor\":\"white\",\"linecolor\":\"white\",\"showbackground\":true,\"ticks\":\"\",\"zerolinecolor\":\"white\",\"gridwidth\":2},\"zaxis\":{\"backgroundcolor\":\"#E5ECF6\",\"gridcolor\":\"white\",\"linecolor\":\"white\",\"showbackground\":true,\"ticks\":\"\",\"zerolinecolor\":\"white\",\"gridwidth\":2}},\"shapedefaults\":{\"line\":{\"color\":\"#2a3f5f\"}},\"annotationdefaults\":{\"arrowcolor\":\"#2a3f5f\",\"arrowhead\":0,\"arrowwidth\":1},\"geo\":{\"bgcolor\":\"white\",\"landcolor\":\"#E5ECF6\",\"subunitcolor\":\"white\",\"showland\":true,\"showlakes\":true,\"lakecolor\":\"white\"},\"title\":{\"x\":0.05},\"mapbox\":{\"style\":\"light\"}}},\"title\":{\"text\":\"\"}},                        {\"responsive\": true}                    ).then(function(){\n",
       "                            \n",
       "var gd = document.getElementById('3d6605af-b7c9-4c89-853b-452634c445c1');\n",
       "var x = new MutationObserver(function (mutations, observer) {{\n",
       "        var display = window.getComputedStyle(gd).display;\n",
       "        if (!display || display === 'none') {{\n",
       "            console.log([gd, 'removed!']);\n",
       "            Plotly.purge(gd);\n",
       "            observer.disconnect();\n",
       "        }}\n",
       "}});\n",
       "\n",
       "// Listen for the removal of the full notebook cells\n",
       "var notebookContainer = gd.closest('#notebook-container');\n",
       "if (notebookContainer) {{\n",
       "    x.observe(notebookContainer, {childList: true});\n",
       "}}\n",
       "\n",
       "// Listen for the clearing of the current output cell\n",
       "var outputEl = gd.closest('.output');\n",
       "if (outputEl) {{\n",
       "    x.observe(outputEl, {childList: true});\n",
       "}}\n",
       "\n",
       "                        })                };                });            </script>        </div>"
      ]
     },
     "metadata": {},
     "output_type": "display_data"
    }
   ],
   "source": []
  },
  {
   "cell_type": "code",
   "execution_count": 141,
   "metadata": {},
   "outputs": [
    {
     "name": "stdout",
     "output_type": "stream",
     "text": [
      "Lista original: [1, 1, 1, 1, 1, 1, 1, 1, 1, 1, 1, 1, 1, 1, 1, 1, 1, 1, 1, 1, 1, 1, 1, 1, 1, 1, 1, 1, 1, 1, 1, 1, 1, 1, 1, 1, 1, 1, 1, 1, 1, 1, 1, 1, 1, 1, 1, 1, 1, 1, 1, 1, 1, 1, 1, 1, 1, 1, 1, 2, 2, 3, 3, 3, 4, 4, 4, 4, 5]\n",
      "Lista suavizada y promediada: [1 1 1 1 1 1 1 1 1 1 1 1 1 1 1 1 1 1 1 1 1 1 1 1 1 1 1 1 1 1 1 1 1 1 1 1 1\n",
      " 1 1 1 1 1 1 1 1 1 1 1 1 1 1 1 1 1 1 1 2 2 2 2 2 3 3 2 2 2 2 2 2]\n"
     ]
    }
   ],
   "source": [
    "import numpy as np\n",
    "\n",
    "dist1 = [1, 1, 1, 1, 1, 1, 1, 1, 1, 1, 1, 1, 1, 1, 1, 1, 1, 1, 1, 1, 1, 1, 1, 1, 1, 1, 1, 1, 1, 1, 1, 1, 1, 1, 1, 1, 1, 1, 1, 1, 1, 1, 1, 1, 1, 1, 1, 1, 1, 1, 1, 1, 1, 1, 1, 1, 1, 1, 1, 2, 2, 3, 3, 3, 4, 4, 4, 4, 5]\n",
    "\n",
    "# Suavizar y promediar los valores repetidos\n",
    "smoothed_dist1 = np.round(np.convolve(dist1, np.ones(15)/15, mode='same'))\n",
    "\n",
    "print(\"Lista original:\", dist1)\n",
    "print(\"Lista suavizada y promediada:\", smoothed_dist1.astype(int))\n"
   ]
  },
  {
   "cell_type": "code",
   "execution_count": 159,
   "metadata": {},
   "outputs": [],
   "source": [
    "# shannon\n",
    "B= [1,1,1,1,1,1,1,1,1,1,1,1,1,1,1,1,1,1,1,1,1,1,1,1,1,1,1,1,1,1,1,1,1,1,1,1,1,1,1,1,1,1,1,1,1,1,1,1,1,1,1,1,1,1,1,1,1,1,1,1,1,1,1,1,1,1,1,1,1,1,1,1,1,1,1,1,1,1,1,1,1,1,1,1,1,1,1,1,1,1,1,1,1,1,1,1,1,1,1,1,1,1,1,1,1,1,1,1,1,1,1,1,1,1,1,1,1,1,1,1,1,1,1,1,1,1,1,1,1,1,1,1,1,1,1,1,1,1,1,1,1,1,1,1,1,1,1,1,1,1,1,1,1,1,1,1,1,1,1,1,1,1,1,1,1,1,1,1,1,1,1,1,1,1,1,1,1,1,1,1,1,1,1,1,1,1,1,1,1,1,1,1,1,1,1,1,1,1,1,1,1,1,1,1,1,1,1,1,1,1,1,1,1,1,2,2,2,2,2,2,2,2,2,2,2,2,2,2,2,2,2,2,2,2,2,2,2,2,2,2,2,2,2,2,2,2,2,2,2,2,2,2,2,3,3,3,3,3,3,3,3,3,4,5,5,5,6,6,8,]\n",
    "\n",
    "C = [1,1,1,1,1,1,1,1,1,1,1,1,1,1,1,1,1,1,1,1,1,1,1,1,1,1,1,1,1,1,1,1,1,1,1,1,1,1,1,1,1,1,1,1,1,1,1,1,1,1,1,1,1,1,1,1,1,1,1,1,1,1,1,1,1,1,1,1,1,1,1,1,1,1,1,1,1,1,1,1,1,1,1,1,1,1,1,1,1,1,1,1,1,1,1,1,1,1,1,1,1,1,1,1,1,1,1,1,1,1,1,1,1,1,1,1,1,1,1,1,1,1,1,1,1,1,1,1,1,1,1,1,1,1,1,1,1,1,1,1,1,1,1,1,1,1,1,1,1,1,1,1,1,1,1,1,1,1,1,1,1,1,1,1,1,1,1,1,1,1,1,1,1,1,1,1,1,1,1,1,1,1,1,1,1,1,1,1,1,2,2,2,2,2,2,2,2,2,2,2,2,2,2,2,2,2,2,2,2,2,2,2,2,2,2,2,2,2,2,2,2,2,2,2,2,2,2,2,3,3,3,3,3,3,3,3,4,4,5,5,5,5,5,5,6,7,8,8,]\n",
    "\n",
    "D = [1,1,1,1,1,1,1,1,1,1,1,1,1,1,1,1,1,1,1,1,1,1,1,1,1,1,1,1,1,1,1,1,1,1,1,1,1,1,1,1,1,1,1,1,1,1,1,1,1,1,1,1,1,1,1,1,1,1,1,1,1,1,1,1,1,1,1,1,1,1,1,1,1,1,1,1,1,1,1,1,1,1,1,1,1,1,1,1,1,1,1,1,1,1,1,1,1,1,1,1,1,1,1,1,1,1,1,1,1,1,1,1,1,1,1,1,2,2,2,2,2,2,2,2,2,2,2,2,2,2,2,2,2,2,2,2,2,2,2,2,2,2,2,2,2,2,2,2,2,2,2,3,3,3,3,3,3,3,3,3,3,3,3,3,4,4,4,4,4,5,5,5,5,5,5,5,5,6,6,6,8,8,8,8,10,13,]\n",
    "\n",
    "# agglomerative\n",
    "E = [1,1,1,1,1,1,1,1,1,1,1,1,1,1,1,1,1,1,1,1,1,1,1,1,1,1,1,1,1,1,1,1,1,1,1,1,1,1,1,1,1,1,1,1,1,1,1,1,1,1,1,1,1,1,1,1,1,1,1,1,1,1,1,1,1,1,1,1,1,1,1,1,1,1,1,1,1,1,1,1,1,1,1,1,1,1,1,1,1,1,1,1,1,1,1,2,2,2,2,3,3,3,5,5,8,11,12,12,14,14,15,16,16,16,17,17,17,17,17,17,]\n",
    "\n",
    "F = [1,1,1,1,1,1,1,1,1,1,1,1,1,1,1,1,1,1,1,1,1,1,1,1,1,1,1,1,1,1,1,1,1,1,1,1,1,1,1,1,1,1,1,1,1,1,1,1,1,1,1,1,1,1,1,1,1,1,1,1,1,1,1,1,1,1,1,1,1,1,1,1,1,1,1,1,1,1,1,1,1,1,1,1,1,1,1,1,1,1,1,1,1,1,1,1,1,1,1,1,1,1,1,1,1,1,1,1,1,1,1,1,1,1,1,1,1,1,1,1,1,1,1,1,1,1,1,1,1,1,1,1,1,1,1,1,1,1,1,1,1,1,1,2,2,2,2,2,2,2,3,3,3,3,3,3,3,3,5,5,5,6,6,7,8,9,11,11,12,14,14,15,16,16,17,]\n",
    "\n",
    "G = [1,1,1,1,1,1,1,1,1,1,1,1,1,1,1,1,1,1,1,1,1,1,1,1,1,1,1,1,1,1,1,1,1,1,1,1,1,1,1,1,1,1,1,1,1,1,1,1,1,1,1,1,1,1,1,1,1,1,1,1,1,1,1,1,1,1,1,1,1,1,1,1,1,1,1,1,1,1,1,1,1,1,1,1,1,1,1,1,1,1,1,1,1,1,1,1,1,1,1,1,1,1,1,1,1,1,1,1,1,1,1,1,1,1,1,1,1,1,1,1,1,1,1,1,1,1,1,1,1,1,1,1,1,1,1,1,1,1,1,1,1,1,1,1,1,1,1,1,1,1,1,1,1,1,1,1,1,1,1,1,1,1,1,1,1,1,1,1,1,1,1,1,1,1,1,1,1,1,1,1,1,1,1,1,1,1,1,1,1,1,1,1,1,1,1,1,1,1,1,2,2,2,2,2,2,2,2,2,2,2,2,2,2,2,2,2,3,3,3,3,4,4,4,4,4,5,5,6,6,6,8,8,9,9,10,10,11,]\n",
    "\n"
   ]
  },
  {
   "cell_type": "code",
   "execution_count": 176,
   "metadata": {},
   "outputs": [
    {
     "data": {
      "application/vnd.plotly.v1+json": {
       "config": {
        "plotlyServerURL": "https://plot.ly"
       },
       "data": [
        {
         "box": {
          "visible": true
         },
         "fillcolor": "blue",
         "hoverinfo": "y",
         "line": {
          "color": "blue"
         },
         "opacity": 0.6,
         "points": "all",
         "type": "violin",
         "y": [
          1,
          1,
          1,
          1,
          1,
          1,
          1,
          1,
          1,
          1,
          1,
          1,
          1,
          1,
          1,
          1,
          1,
          1,
          1,
          1,
          1,
          1,
          1,
          1,
          1,
          1,
          1,
          1,
          1,
          1,
          1,
          1,
          1,
          1,
          1,
          1,
          1,
          1,
          1,
          1,
          1,
          1,
          1,
          1,
          1,
          1,
          1,
          1,
          1,
          1,
          1,
          1,
          1,
          1,
          1,
          1,
          1,
          1,
          1,
          1,
          1,
          1,
          1,
          1,
          1,
          1,
          1,
          1,
          1,
          1,
          1,
          1,
          1,
          1,
          1,
          1,
          1,
          1,
          1,
          1,
          1,
          1,
          1,
          1,
          1,
          1,
          1,
          1,
          1,
          1,
          1,
          1,
          1,
          1,
          1,
          1,
          1,
          1,
          1,
          1,
          1,
          1,
          1,
          1,
          1,
          1,
          1,
          1,
          1,
          1,
          1,
          1,
          1,
          1,
          1,
          1,
          2,
          2,
          2,
          2,
          2,
          2,
          2,
          2,
          2,
          2,
          2,
          2,
          2,
          2,
          2,
          2,
          2,
          2,
          2,
          2,
          2,
          2,
          2,
          2,
          2,
          2,
          2,
          2,
          2,
          2,
          2,
          2,
          2,
          2,
          2,
          3,
          3,
          3,
          3,
          3,
          3,
          3,
          3,
          3,
          3,
          3,
          3,
          3,
          4,
          4,
          4,
          4,
          4,
          5,
          5,
          5,
          5,
          5,
          5,
          5,
          5,
          6,
          6,
          6,
          8,
          8,
          8,
          8,
          10,
          13
         ]
        }
       ],
       "layout": {
        "template": {
         "data": {
          "bar": [
           {
            "error_x": {
             "color": "#2a3f5f"
            },
            "error_y": {
             "color": "#2a3f5f"
            },
            "marker": {
             "line": {
              "color": "#E5ECF6",
              "width": 0.5
             },
             "pattern": {
              "fillmode": "overlay",
              "size": 10,
              "solidity": 0.2
             }
            },
            "type": "bar"
           }
          ],
          "barpolar": [
           {
            "marker": {
             "line": {
              "color": "#E5ECF6",
              "width": 0.5
             },
             "pattern": {
              "fillmode": "overlay",
              "size": 10,
              "solidity": 0.2
             }
            },
            "type": "barpolar"
           }
          ],
          "carpet": [
           {
            "aaxis": {
             "endlinecolor": "#2a3f5f",
             "gridcolor": "white",
             "linecolor": "white",
             "minorgridcolor": "white",
             "startlinecolor": "#2a3f5f"
            },
            "baxis": {
             "endlinecolor": "#2a3f5f",
             "gridcolor": "white",
             "linecolor": "white",
             "minorgridcolor": "white",
             "startlinecolor": "#2a3f5f"
            },
            "type": "carpet"
           }
          ],
          "choropleth": [
           {
            "colorbar": {
             "outlinewidth": 0,
             "ticks": ""
            },
            "type": "choropleth"
           }
          ],
          "contour": [
           {
            "colorbar": {
             "outlinewidth": 0,
             "ticks": ""
            },
            "colorscale": [
             [
              0,
              "#0d0887"
             ],
             [
              0.1111111111111111,
              "#46039f"
             ],
             [
              0.2222222222222222,
              "#7201a8"
             ],
             [
              0.3333333333333333,
              "#9c179e"
             ],
             [
              0.4444444444444444,
              "#bd3786"
             ],
             [
              0.5555555555555556,
              "#d8576b"
             ],
             [
              0.6666666666666666,
              "#ed7953"
             ],
             [
              0.7777777777777778,
              "#fb9f3a"
             ],
             [
              0.8888888888888888,
              "#fdca26"
             ],
             [
              1,
              "#f0f921"
             ]
            ],
            "type": "contour"
           }
          ],
          "contourcarpet": [
           {
            "colorbar": {
             "outlinewidth": 0,
             "ticks": ""
            },
            "type": "contourcarpet"
           }
          ],
          "heatmap": [
           {
            "colorbar": {
             "outlinewidth": 0,
             "ticks": ""
            },
            "colorscale": [
             [
              0,
              "#0d0887"
             ],
             [
              0.1111111111111111,
              "#46039f"
             ],
             [
              0.2222222222222222,
              "#7201a8"
             ],
             [
              0.3333333333333333,
              "#9c179e"
             ],
             [
              0.4444444444444444,
              "#bd3786"
             ],
             [
              0.5555555555555556,
              "#d8576b"
             ],
             [
              0.6666666666666666,
              "#ed7953"
             ],
             [
              0.7777777777777778,
              "#fb9f3a"
             ],
             [
              0.8888888888888888,
              "#fdca26"
             ],
             [
              1,
              "#f0f921"
             ]
            ],
            "type": "heatmap"
           }
          ],
          "heatmapgl": [
           {
            "colorbar": {
             "outlinewidth": 0,
             "ticks": ""
            },
            "colorscale": [
             [
              0,
              "#0d0887"
             ],
             [
              0.1111111111111111,
              "#46039f"
             ],
             [
              0.2222222222222222,
              "#7201a8"
             ],
             [
              0.3333333333333333,
              "#9c179e"
             ],
             [
              0.4444444444444444,
              "#bd3786"
             ],
             [
              0.5555555555555556,
              "#d8576b"
             ],
             [
              0.6666666666666666,
              "#ed7953"
             ],
             [
              0.7777777777777778,
              "#fb9f3a"
             ],
             [
              0.8888888888888888,
              "#fdca26"
             ],
             [
              1,
              "#f0f921"
             ]
            ],
            "type": "heatmapgl"
           }
          ],
          "histogram": [
           {
            "marker": {
             "pattern": {
              "fillmode": "overlay",
              "size": 10,
              "solidity": 0.2
             }
            },
            "type": "histogram"
           }
          ],
          "histogram2d": [
           {
            "colorbar": {
             "outlinewidth": 0,
             "ticks": ""
            },
            "colorscale": [
             [
              0,
              "#0d0887"
             ],
             [
              0.1111111111111111,
              "#46039f"
             ],
             [
              0.2222222222222222,
              "#7201a8"
             ],
             [
              0.3333333333333333,
              "#9c179e"
             ],
             [
              0.4444444444444444,
              "#bd3786"
             ],
             [
              0.5555555555555556,
              "#d8576b"
             ],
             [
              0.6666666666666666,
              "#ed7953"
             ],
             [
              0.7777777777777778,
              "#fb9f3a"
             ],
             [
              0.8888888888888888,
              "#fdca26"
             ],
             [
              1,
              "#f0f921"
             ]
            ],
            "type": "histogram2d"
           }
          ],
          "histogram2dcontour": [
           {
            "colorbar": {
             "outlinewidth": 0,
             "ticks": ""
            },
            "colorscale": [
             [
              0,
              "#0d0887"
             ],
             [
              0.1111111111111111,
              "#46039f"
             ],
             [
              0.2222222222222222,
              "#7201a8"
             ],
             [
              0.3333333333333333,
              "#9c179e"
             ],
             [
              0.4444444444444444,
              "#bd3786"
             ],
             [
              0.5555555555555556,
              "#d8576b"
             ],
             [
              0.6666666666666666,
              "#ed7953"
             ],
             [
              0.7777777777777778,
              "#fb9f3a"
             ],
             [
              0.8888888888888888,
              "#fdca26"
             ],
             [
              1,
              "#f0f921"
             ]
            ],
            "type": "histogram2dcontour"
           }
          ],
          "mesh3d": [
           {
            "colorbar": {
             "outlinewidth": 0,
             "ticks": ""
            },
            "type": "mesh3d"
           }
          ],
          "parcoords": [
           {
            "line": {
             "colorbar": {
              "outlinewidth": 0,
              "ticks": ""
             }
            },
            "type": "parcoords"
           }
          ],
          "pie": [
           {
            "automargin": true,
            "type": "pie"
           }
          ],
          "scatter": [
           {
            "fillpattern": {
             "fillmode": "overlay",
             "size": 10,
             "solidity": 0.2
            },
            "type": "scatter"
           }
          ],
          "scatter3d": [
           {
            "line": {
             "colorbar": {
              "outlinewidth": 0,
              "ticks": ""
             }
            },
            "marker": {
             "colorbar": {
              "outlinewidth": 0,
              "ticks": ""
             }
            },
            "type": "scatter3d"
           }
          ],
          "scattercarpet": [
           {
            "marker": {
             "colorbar": {
              "outlinewidth": 0,
              "ticks": ""
             }
            },
            "type": "scattercarpet"
           }
          ],
          "scattergeo": [
           {
            "marker": {
             "colorbar": {
              "outlinewidth": 0,
              "ticks": ""
             }
            },
            "type": "scattergeo"
           }
          ],
          "scattergl": [
           {
            "marker": {
             "colorbar": {
              "outlinewidth": 0,
              "ticks": ""
             }
            },
            "type": "scattergl"
           }
          ],
          "scattermapbox": [
           {
            "marker": {
             "colorbar": {
              "outlinewidth": 0,
              "ticks": ""
             }
            },
            "type": "scattermapbox"
           }
          ],
          "scatterpolar": [
           {
            "marker": {
             "colorbar": {
              "outlinewidth": 0,
              "ticks": ""
             }
            },
            "type": "scatterpolar"
           }
          ],
          "scatterpolargl": [
           {
            "marker": {
             "colorbar": {
              "outlinewidth": 0,
              "ticks": ""
             }
            },
            "type": "scatterpolargl"
           }
          ],
          "scatterternary": [
           {
            "marker": {
             "colorbar": {
              "outlinewidth": 0,
              "ticks": ""
             }
            },
            "type": "scatterternary"
           }
          ],
          "surface": [
           {
            "colorbar": {
             "outlinewidth": 0,
             "ticks": ""
            },
            "colorscale": [
             [
              0,
              "#0d0887"
             ],
             [
              0.1111111111111111,
              "#46039f"
             ],
             [
              0.2222222222222222,
              "#7201a8"
             ],
             [
              0.3333333333333333,
              "#9c179e"
             ],
             [
              0.4444444444444444,
              "#bd3786"
             ],
             [
              0.5555555555555556,
              "#d8576b"
             ],
             [
              0.6666666666666666,
              "#ed7953"
             ],
             [
              0.7777777777777778,
              "#fb9f3a"
             ],
             [
              0.8888888888888888,
              "#fdca26"
             ],
             [
              1,
              "#f0f921"
             ]
            ],
            "type": "surface"
           }
          ],
          "table": [
           {
            "cells": {
             "fill": {
              "color": "#EBF0F8"
             },
             "line": {
              "color": "white"
             }
            },
            "header": {
             "fill": {
              "color": "#C8D4E3"
             },
             "line": {
              "color": "white"
             }
            },
            "type": "table"
           }
          ]
         },
         "layout": {
          "annotationdefaults": {
           "arrowcolor": "#2a3f5f",
           "arrowhead": 0,
           "arrowwidth": 1
          },
          "autotypenumbers": "strict",
          "coloraxis": {
           "colorbar": {
            "outlinewidth": 0,
            "ticks": ""
           }
          },
          "colorscale": {
           "diverging": [
            [
             0,
             "#8e0152"
            ],
            [
             0.1,
             "#c51b7d"
            ],
            [
             0.2,
             "#de77ae"
            ],
            [
             0.3,
             "#f1b6da"
            ],
            [
             0.4,
             "#fde0ef"
            ],
            [
             0.5,
             "#f7f7f7"
            ],
            [
             0.6,
             "#e6f5d0"
            ],
            [
             0.7,
             "#b8e186"
            ],
            [
             0.8,
             "#7fbc41"
            ],
            [
             0.9,
             "#4d9221"
            ],
            [
             1,
             "#276419"
            ]
           ],
           "sequential": [
            [
             0,
             "#0d0887"
            ],
            [
             0.1111111111111111,
             "#46039f"
            ],
            [
             0.2222222222222222,
             "#7201a8"
            ],
            [
             0.3333333333333333,
             "#9c179e"
            ],
            [
             0.4444444444444444,
             "#bd3786"
            ],
            [
             0.5555555555555556,
             "#d8576b"
            ],
            [
             0.6666666666666666,
             "#ed7953"
            ],
            [
             0.7777777777777778,
             "#fb9f3a"
            ],
            [
             0.8888888888888888,
             "#fdca26"
            ],
            [
             1,
             "#f0f921"
            ]
           ],
           "sequentialminus": [
            [
             0,
             "#0d0887"
            ],
            [
             0.1111111111111111,
             "#46039f"
            ],
            [
             0.2222222222222222,
             "#7201a8"
            ],
            [
             0.3333333333333333,
             "#9c179e"
            ],
            [
             0.4444444444444444,
             "#bd3786"
            ],
            [
             0.5555555555555556,
             "#d8576b"
            ],
            [
             0.6666666666666666,
             "#ed7953"
            ],
            [
             0.7777777777777778,
             "#fb9f3a"
            ],
            [
             0.8888888888888888,
             "#fdca26"
            ],
            [
             1,
             "#f0f921"
            ]
           ]
          },
          "colorway": [
           "#636efa",
           "#EF553B",
           "#00cc96",
           "#ab63fa",
           "#FFA15A",
           "#19d3f3",
           "#FF6692",
           "#B6E880",
           "#FF97FF",
           "#FECB52"
          ],
          "font": {
           "color": "#2a3f5f"
          },
          "geo": {
           "bgcolor": "white",
           "lakecolor": "white",
           "landcolor": "#E5ECF6",
           "showlakes": true,
           "showland": true,
           "subunitcolor": "white"
          },
          "hoverlabel": {
           "align": "left"
          },
          "hovermode": "closest",
          "mapbox": {
           "style": "light"
          },
          "paper_bgcolor": "white",
          "plot_bgcolor": "#E5ECF6",
          "polar": {
           "angularaxis": {
            "gridcolor": "white",
            "linecolor": "white",
            "ticks": ""
           },
           "bgcolor": "#E5ECF6",
           "radialaxis": {
            "gridcolor": "white",
            "linecolor": "white",
            "ticks": ""
           }
          },
          "scene": {
           "xaxis": {
            "backgroundcolor": "#E5ECF6",
            "gridcolor": "white",
            "gridwidth": 2,
            "linecolor": "white",
            "showbackground": true,
            "ticks": "",
            "zerolinecolor": "white"
           },
           "yaxis": {
            "backgroundcolor": "#E5ECF6",
            "gridcolor": "white",
            "gridwidth": 2,
            "linecolor": "white",
            "showbackground": true,
            "ticks": "",
            "zerolinecolor": "white"
           },
           "zaxis": {
            "backgroundcolor": "#E5ECF6",
            "gridcolor": "white",
            "gridwidth": 2,
            "linecolor": "white",
            "showbackground": true,
            "ticks": "",
            "zerolinecolor": "white"
           }
          },
          "shapedefaults": {
           "line": {
            "color": "#2a3f5f"
           }
          },
          "ternary": {
           "aaxis": {
            "gridcolor": "white",
            "linecolor": "white",
            "ticks": ""
           },
           "baxis": {
            "gridcolor": "white",
            "linecolor": "white",
            "ticks": ""
           },
           "bgcolor": "#E5ECF6",
           "caxis": {
            "gridcolor": "white",
            "linecolor": "white",
            "ticks": ""
           }
          },
          "title": {
           "x": 0.05
          },
          "xaxis": {
           "automargin": true,
           "gridcolor": "white",
           "linecolor": "white",
           "ticks": "",
           "title": {
            "standoff": 15
           },
           "zerolinecolor": "white",
           "zerolinewidth": 2
          },
          "yaxis": {
           "automargin": true,
           "gridcolor": "white",
           "linecolor": "white",
           "ticks": "",
           "title": {
            "standoff": 15
           },
           "zerolinecolor": "white",
           "zerolinewidth": 2
          }
         }
        },
        "title": {
         "text": "Gráfico de Violin con Marcadores para Valores Bajos y Altos"
        },
        "yaxis": {
         "title": {
          "text": "Valores"
         }
        }
       }
      },
      "text/html": [
       "<div>                            <div id=\"fba546ba-55e2-4856-b0aa-fd256e664018\" class=\"plotly-graph-div\" style=\"height:525px; width:100%;\"></div>            <script type=\"text/javascript\">                require([\"plotly\"], function(Plotly) {                    window.PLOTLYENV=window.PLOTLYENV || {};                                    if (document.getElementById(\"fba546ba-55e2-4856-b0aa-fd256e664018\")) {                    Plotly.newPlot(                        \"fba546ba-55e2-4856-b0aa-fd256e664018\",                        [{\"box\":{\"visible\":true},\"fillcolor\":\"blue\",\"hoverinfo\":\"y\",\"line\":{\"color\":\"blue\"},\"opacity\":0.6,\"points\":\"all\",\"y\":[1,1,1,1,1,1,1,1,1,1,1,1,1,1,1,1,1,1,1,1,1,1,1,1,1,1,1,1,1,1,1,1,1,1,1,1,1,1,1,1,1,1,1,1,1,1,1,1,1,1,1,1,1,1,1,1,1,1,1,1,1,1,1,1,1,1,1,1,1,1,1,1,1,1,1,1,1,1,1,1,1,1,1,1,1,1,1,1,1,1,1,1,1,1,1,1,1,1,1,1,1,1,1,1,1,1,1,1,1,1,1,1,1,1,1,1,2,2,2,2,2,2,2,2,2,2,2,2,2,2,2,2,2,2,2,2,2,2,2,2,2,2,2,2,2,2,2,2,2,2,2,3,3,3,3,3,3,3,3,3,3,3,3,3,4,4,4,4,4,5,5,5,5,5,5,5,5,6,6,6,8,8,8,8,10,13],\"type\":\"violin\"}],                        {\"template\":{\"data\":{\"histogram2dcontour\":[{\"type\":\"histogram2dcontour\",\"colorbar\":{\"outlinewidth\":0,\"ticks\":\"\"},\"colorscale\":[[0.0,\"#0d0887\"],[0.1111111111111111,\"#46039f\"],[0.2222222222222222,\"#7201a8\"],[0.3333333333333333,\"#9c179e\"],[0.4444444444444444,\"#bd3786\"],[0.5555555555555556,\"#d8576b\"],[0.6666666666666666,\"#ed7953\"],[0.7777777777777778,\"#fb9f3a\"],[0.8888888888888888,\"#fdca26\"],[1.0,\"#f0f921\"]]}],\"choropleth\":[{\"type\":\"choropleth\",\"colorbar\":{\"outlinewidth\":0,\"ticks\":\"\"}}],\"histogram2d\":[{\"type\":\"histogram2d\",\"colorbar\":{\"outlinewidth\":0,\"ticks\":\"\"},\"colorscale\":[[0.0,\"#0d0887\"],[0.1111111111111111,\"#46039f\"],[0.2222222222222222,\"#7201a8\"],[0.3333333333333333,\"#9c179e\"],[0.4444444444444444,\"#bd3786\"],[0.5555555555555556,\"#d8576b\"],[0.6666666666666666,\"#ed7953\"],[0.7777777777777778,\"#fb9f3a\"],[0.8888888888888888,\"#fdca26\"],[1.0,\"#f0f921\"]]}],\"heatmap\":[{\"type\":\"heatmap\",\"colorbar\":{\"outlinewidth\":0,\"ticks\":\"\"},\"colorscale\":[[0.0,\"#0d0887\"],[0.1111111111111111,\"#46039f\"],[0.2222222222222222,\"#7201a8\"],[0.3333333333333333,\"#9c179e\"],[0.4444444444444444,\"#bd3786\"],[0.5555555555555556,\"#d8576b\"],[0.6666666666666666,\"#ed7953\"],[0.7777777777777778,\"#fb9f3a\"],[0.8888888888888888,\"#fdca26\"],[1.0,\"#f0f921\"]]}],\"heatmapgl\":[{\"type\":\"heatmapgl\",\"colorbar\":{\"outlinewidth\":0,\"ticks\":\"\"},\"colorscale\":[[0.0,\"#0d0887\"],[0.1111111111111111,\"#46039f\"],[0.2222222222222222,\"#7201a8\"],[0.3333333333333333,\"#9c179e\"],[0.4444444444444444,\"#bd3786\"],[0.5555555555555556,\"#d8576b\"],[0.6666666666666666,\"#ed7953\"],[0.7777777777777778,\"#fb9f3a\"],[0.8888888888888888,\"#fdca26\"],[1.0,\"#f0f921\"]]}],\"contourcarpet\":[{\"type\":\"contourcarpet\",\"colorbar\":{\"outlinewidth\":0,\"ticks\":\"\"}}],\"contour\":[{\"type\":\"contour\",\"colorbar\":{\"outlinewidth\":0,\"ticks\":\"\"},\"colorscale\":[[0.0,\"#0d0887\"],[0.1111111111111111,\"#46039f\"],[0.2222222222222222,\"#7201a8\"],[0.3333333333333333,\"#9c179e\"],[0.4444444444444444,\"#bd3786\"],[0.5555555555555556,\"#d8576b\"],[0.6666666666666666,\"#ed7953\"],[0.7777777777777778,\"#fb9f3a\"],[0.8888888888888888,\"#fdca26\"],[1.0,\"#f0f921\"]]}],\"surface\":[{\"type\":\"surface\",\"colorbar\":{\"outlinewidth\":0,\"ticks\":\"\"},\"colorscale\":[[0.0,\"#0d0887\"],[0.1111111111111111,\"#46039f\"],[0.2222222222222222,\"#7201a8\"],[0.3333333333333333,\"#9c179e\"],[0.4444444444444444,\"#bd3786\"],[0.5555555555555556,\"#d8576b\"],[0.6666666666666666,\"#ed7953\"],[0.7777777777777778,\"#fb9f3a\"],[0.8888888888888888,\"#fdca26\"],[1.0,\"#f0f921\"]]}],\"mesh3d\":[{\"type\":\"mesh3d\",\"colorbar\":{\"outlinewidth\":0,\"ticks\":\"\"}}],\"scatter\":[{\"fillpattern\":{\"fillmode\":\"overlay\",\"size\":10,\"solidity\":0.2},\"type\":\"scatter\"}],\"parcoords\":[{\"type\":\"parcoords\",\"line\":{\"colorbar\":{\"outlinewidth\":0,\"ticks\":\"\"}}}],\"scatterpolargl\":[{\"type\":\"scatterpolargl\",\"marker\":{\"colorbar\":{\"outlinewidth\":0,\"ticks\":\"\"}}}],\"bar\":[{\"error_x\":{\"color\":\"#2a3f5f\"},\"error_y\":{\"color\":\"#2a3f5f\"},\"marker\":{\"line\":{\"color\":\"#E5ECF6\",\"width\":0.5},\"pattern\":{\"fillmode\":\"overlay\",\"size\":10,\"solidity\":0.2}},\"type\":\"bar\"}],\"scattergeo\":[{\"type\":\"scattergeo\",\"marker\":{\"colorbar\":{\"outlinewidth\":0,\"ticks\":\"\"}}}],\"scatterpolar\":[{\"type\":\"scatterpolar\",\"marker\":{\"colorbar\":{\"outlinewidth\":0,\"ticks\":\"\"}}}],\"histogram\":[{\"marker\":{\"pattern\":{\"fillmode\":\"overlay\",\"size\":10,\"solidity\":0.2}},\"type\":\"histogram\"}],\"scattergl\":[{\"type\":\"scattergl\",\"marker\":{\"colorbar\":{\"outlinewidth\":0,\"ticks\":\"\"}}}],\"scatter3d\":[{\"type\":\"scatter3d\",\"line\":{\"colorbar\":{\"outlinewidth\":0,\"ticks\":\"\"}},\"marker\":{\"colorbar\":{\"outlinewidth\":0,\"ticks\":\"\"}}}],\"scattermapbox\":[{\"type\":\"scattermapbox\",\"marker\":{\"colorbar\":{\"outlinewidth\":0,\"ticks\":\"\"}}}],\"scatterternary\":[{\"type\":\"scatterternary\",\"marker\":{\"colorbar\":{\"outlinewidth\":0,\"ticks\":\"\"}}}],\"scattercarpet\":[{\"type\":\"scattercarpet\",\"marker\":{\"colorbar\":{\"outlinewidth\":0,\"ticks\":\"\"}}}],\"carpet\":[{\"aaxis\":{\"endlinecolor\":\"#2a3f5f\",\"gridcolor\":\"white\",\"linecolor\":\"white\",\"minorgridcolor\":\"white\",\"startlinecolor\":\"#2a3f5f\"},\"baxis\":{\"endlinecolor\":\"#2a3f5f\",\"gridcolor\":\"white\",\"linecolor\":\"white\",\"minorgridcolor\":\"white\",\"startlinecolor\":\"#2a3f5f\"},\"type\":\"carpet\"}],\"table\":[{\"cells\":{\"fill\":{\"color\":\"#EBF0F8\"},\"line\":{\"color\":\"white\"}},\"header\":{\"fill\":{\"color\":\"#C8D4E3\"},\"line\":{\"color\":\"white\"}},\"type\":\"table\"}],\"barpolar\":[{\"marker\":{\"line\":{\"color\":\"#E5ECF6\",\"width\":0.5},\"pattern\":{\"fillmode\":\"overlay\",\"size\":10,\"solidity\":0.2}},\"type\":\"barpolar\"}],\"pie\":[{\"automargin\":true,\"type\":\"pie\"}]},\"layout\":{\"autotypenumbers\":\"strict\",\"colorway\":[\"#636efa\",\"#EF553B\",\"#00cc96\",\"#ab63fa\",\"#FFA15A\",\"#19d3f3\",\"#FF6692\",\"#B6E880\",\"#FF97FF\",\"#FECB52\"],\"font\":{\"color\":\"#2a3f5f\"},\"hovermode\":\"closest\",\"hoverlabel\":{\"align\":\"left\"},\"paper_bgcolor\":\"white\",\"plot_bgcolor\":\"#E5ECF6\",\"polar\":{\"bgcolor\":\"#E5ECF6\",\"angularaxis\":{\"gridcolor\":\"white\",\"linecolor\":\"white\",\"ticks\":\"\"},\"radialaxis\":{\"gridcolor\":\"white\",\"linecolor\":\"white\",\"ticks\":\"\"}},\"ternary\":{\"bgcolor\":\"#E5ECF6\",\"aaxis\":{\"gridcolor\":\"white\",\"linecolor\":\"white\",\"ticks\":\"\"},\"baxis\":{\"gridcolor\":\"white\",\"linecolor\":\"white\",\"ticks\":\"\"},\"caxis\":{\"gridcolor\":\"white\",\"linecolor\":\"white\",\"ticks\":\"\"}},\"coloraxis\":{\"colorbar\":{\"outlinewidth\":0,\"ticks\":\"\"}},\"colorscale\":{\"sequential\":[[0.0,\"#0d0887\"],[0.1111111111111111,\"#46039f\"],[0.2222222222222222,\"#7201a8\"],[0.3333333333333333,\"#9c179e\"],[0.4444444444444444,\"#bd3786\"],[0.5555555555555556,\"#d8576b\"],[0.6666666666666666,\"#ed7953\"],[0.7777777777777778,\"#fb9f3a\"],[0.8888888888888888,\"#fdca26\"],[1.0,\"#f0f921\"]],\"sequentialminus\":[[0.0,\"#0d0887\"],[0.1111111111111111,\"#46039f\"],[0.2222222222222222,\"#7201a8\"],[0.3333333333333333,\"#9c179e\"],[0.4444444444444444,\"#bd3786\"],[0.5555555555555556,\"#d8576b\"],[0.6666666666666666,\"#ed7953\"],[0.7777777777777778,\"#fb9f3a\"],[0.8888888888888888,\"#fdca26\"],[1.0,\"#f0f921\"]],\"diverging\":[[0,\"#8e0152\"],[0.1,\"#c51b7d\"],[0.2,\"#de77ae\"],[0.3,\"#f1b6da\"],[0.4,\"#fde0ef\"],[0.5,\"#f7f7f7\"],[0.6,\"#e6f5d0\"],[0.7,\"#b8e186\"],[0.8,\"#7fbc41\"],[0.9,\"#4d9221\"],[1,\"#276419\"]]},\"xaxis\":{\"gridcolor\":\"white\",\"linecolor\":\"white\",\"ticks\":\"\",\"title\":{\"standoff\":15},\"zerolinecolor\":\"white\",\"automargin\":true,\"zerolinewidth\":2},\"yaxis\":{\"gridcolor\":\"white\",\"linecolor\":\"white\",\"ticks\":\"\",\"title\":{\"standoff\":15},\"zerolinecolor\":\"white\",\"automargin\":true,\"zerolinewidth\":2},\"scene\":{\"xaxis\":{\"backgroundcolor\":\"#E5ECF6\",\"gridcolor\":\"white\",\"linecolor\":\"white\",\"showbackground\":true,\"ticks\":\"\",\"zerolinecolor\":\"white\",\"gridwidth\":2},\"yaxis\":{\"backgroundcolor\":\"#E5ECF6\",\"gridcolor\":\"white\",\"linecolor\":\"white\",\"showbackground\":true,\"ticks\":\"\",\"zerolinecolor\":\"white\",\"gridwidth\":2},\"zaxis\":{\"backgroundcolor\":\"#E5ECF6\",\"gridcolor\":\"white\",\"linecolor\":\"white\",\"showbackground\":true,\"ticks\":\"\",\"zerolinecolor\":\"white\",\"gridwidth\":2}},\"shapedefaults\":{\"line\":{\"color\":\"#2a3f5f\"}},\"annotationdefaults\":{\"arrowcolor\":\"#2a3f5f\",\"arrowhead\":0,\"arrowwidth\":1},\"geo\":{\"bgcolor\":\"white\",\"landcolor\":\"#E5ECF6\",\"subunitcolor\":\"white\",\"showland\":true,\"showlakes\":true,\"lakecolor\":\"white\"},\"title\":{\"x\":0.05},\"mapbox\":{\"style\":\"light\"}}},\"title\":{\"text\":\"Gr\\u00e1fico de Violin con Marcadores para Valores Bajos y Altos\"},\"yaxis\":{\"title\":{\"text\":\"Valores\"}}},                        {\"responsive\": true}                    ).then(function(){\n",
       "                            \n",
       "var gd = document.getElementById('fba546ba-55e2-4856-b0aa-fd256e664018');\n",
       "var x = new MutationObserver(function (mutations, observer) {{\n",
       "        var display = window.getComputedStyle(gd).display;\n",
       "        if (!display || display === 'none') {{\n",
       "            console.log([gd, 'removed!']);\n",
       "            Plotly.purge(gd);\n",
       "            observer.disconnect();\n",
       "        }}\n",
       "}});\n",
       "\n",
       "// Listen for the removal of the full notebook cells\n",
       "var notebookContainer = gd.closest('#notebook-container');\n",
       "if (notebookContainer) {{\n",
       "    x.observe(notebookContainer, {childList: true});\n",
       "}}\n",
       "\n",
       "// Listen for the clearing of the current output cell\n",
       "var outputEl = gd.closest('.output');\n",
       "if (outputEl) {{\n",
       "    x.observe(outputEl, {childList: true});\n",
       "}}\n",
       "\n",
       "                        })                };                });            </script>        </div>"
      ]
     },
     "metadata": {},
     "output_type": "display_data"
    }
   ],
   "source": [
    "import plotly.graph_objects as go\n",
    "import numpy as np\n",
    "\n",
    "# Crear datos de ejemplo con valores bajos y altos\n",
    "data = np.concatenate([np.random.normal(10, 5, 100), np.random.normal(50, 10, 20), np.random.normal(80, 5, 30)])\n",
    "\n",
    "# Crear gráfico de violin con marcadores\n",
    "fig = go.Figure()\n",
    "\n",
    "fig.add_trace(go.Violin(y=D, box_visible=True, line_color='blue', fillcolor='blue', opacity=0.6, points=\"all\", hoverinfo='y'))\n",
    "\n",
    "fig.update_layout(\n",
    "    title=\"Gráfico de Violin con Marcadores para Valores Bajos y Altos\",\n",
    "    yaxis=dict(title='Valores'),\n",
    ")\n",
    "\n",
    "# Mostrar figura\n",
    "fig.show()\n"
   ]
  },
  {
   "cell_type": "code",
   "execution_count": 204,
   "metadata": {},
   "outputs": [
    {
     "data": {
      "application/vnd.plotly.v1+json": {
       "config": {
        "plotlyServerURL": "https://plot.ly"
       },
       "data": [
        {
         "box": {
          "visible": true
         },
         "legendgroup": "Standard method",
         "line": {
          "color": "red"
         },
         "meanline": {
          "visible": true
         },
         "name": "Standard method",
         "points": "all",
         "side": "negative",
         "type": "violin",
         "width": 0.7,
         "x": [
          "(B)",
          "(B)",
          "(B)",
          "(B)",
          "(B)",
          "(B)",
          "(B)",
          "(B)",
          "(B)",
          "(B)",
          "(B)",
          "(B)",
          "(B)",
          "(B)",
          "(B)",
          "(B)",
          "(B)",
          "(B)",
          "(B)",
          "(B)",
          "(B)",
          "(B)",
          "(B)",
          "(B)",
          "(B)",
          "(B)",
          "(B)",
          "(B)",
          "(B)",
          "(B)",
          "(B)",
          "(B)",
          "(B)",
          "(B)",
          "(B)",
          "(B)",
          "(B)",
          "(B)",
          "(B)",
          "(B)",
          "(B)",
          "(B)",
          "(B)",
          "(B)",
          "(B)",
          "(B)",
          "(B)",
          "(B)",
          "(B)",
          "(B)",
          "(B)",
          "(B)",
          "(B)",
          "(B)",
          "(B)",
          "(B)",
          "(B)",
          "(B)",
          "(B)",
          "(B)",
          "(B)",
          "(B)",
          "(B)",
          "(B)",
          "(B)",
          "(B)",
          "(B)",
          "(B)",
          "(B)",
          "(B)",
          "(B)",
          "(B)",
          "(B)",
          "(B)",
          "(B)",
          "(B)",
          "(B)",
          "(B)",
          "(B)",
          "(B)",
          "(B)",
          "(B)",
          "(B)",
          "(B)",
          "(B)",
          "(B)",
          "(B)",
          "(B)",
          "(B)",
          "(B)",
          "(B)",
          "(B)",
          "(B)",
          "(B)",
          "(B)",
          "(B)",
          "(B)",
          "(B)",
          "(B)",
          "(B)",
          "(B)",
          "(B)",
          "(B)",
          "(B)",
          "(B)",
          "(B)",
          "(B)",
          "(B)",
          "(B)",
          "(B)",
          "(B)",
          "(B)",
          "(B)",
          "(B)",
          "(B)",
          "(B)",
          "(B)",
          "(B)",
          "(B)",
          "(B)",
          "(B)",
          "(B)",
          "(B)",
          "(B)",
          "(B)",
          "(B)",
          "(B)",
          "(B)",
          "(B)",
          "(B)",
          "(B)",
          "(B)",
          "(B)",
          "(B)",
          "(B)",
          "(B)",
          "(B)",
          "(B)",
          "(B)",
          "(B)",
          "(B)",
          "(B)",
          "(B)",
          "(B)",
          "(B)",
          "(B)",
          "(B)",
          "(B)",
          "(B)",
          "(B)",
          "(B)",
          "(B)",
          "(B)",
          "(B)",
          "(B)",
          "(B)",
          "(B)",
          "(B)",
          "(B)",
          "(B)",
          "(B)",
          "(B)",
          "(B)",
          "(B)",
          "(B)",
          "(B)",
          "(B)",
          "(B)",
          "(B)",
          "(B)",
          "(B)",
          "(B)",
          "(B)",
          "(B)",
          "(B)",
          "(B)",
          "(B)",
          "(B)",
          "(B)",
          "(B)",
          "(B)",
          "(B)",
          "(B)",
          "(B)",
          "(B)",
          "(B)",
          "(B)",
          "(B)",
          "(B)",
          "(B)",
          "(B)",
          "(B)",
          "(B)",
          "(B)",
          "(B)",
          "(B)",
          "(B)",
          "(B)",
          "(B)",
          "(B)",
          "(B)",
          "(B)",
          "(B)",
          "(B)",
          "(B)",
          "(B)",
          "(B)",
          "(B)",
          "(B)",
          "(B)",
          "(B)",
          "(B)",
          "(B)",
          "(B)",
          "(B)",
          "(B)",
          "(B)",
          "(B)",
          "(B)",
          "(B)",
          "(B)",
          "(B)",
          "(B)",
          "(B)",
          "(B)",
          "(B)",
          "(B)",
          "(B)",
          "(B)",
          "(B)",
          "(B)",
          "(B)",
          "(B)",
          "(B)",
          "(B)",
          "(B)",
          "(B)",
          "(B)",
          "(B)",
          "(B)",
          "(B)",
          "(B)",
          "(B)",
          "(B)",
          "(B)",
          "(B)",
          "(B)",
          "(B)",
          "(B)",
          "(B)",
          "(B)",
          "(B)",
          "(B)",
          "(B)",
          "(B)",
          "(B)",
          "(B)",
          "(B)",
          "(B)",
          "(B)",
          "(B)",
          "(B)",
          "(B)",
          "(B)",
          "(B)",
          "(B)",
          "(B)",
          "(B)",
          "(B)"
         ],
         "y": [
          0,
          0,
          0,
          0,
          0,
          0,
          0,
          0,
          0,
          0,
          0,
          0,
          0,
          0,
          0,
          0,
          0,
          0,
          0,
          0,
          0,
          0,
          0,
          0,
          0,
          0,
          0,
          0,
          0,
          0,
          0,
          0,
          0,
          0,
          0,
          0,
          0,
          0,
          0,
          0,
          0,
          0,
          0,
          0,
          0,
          0,
          0,
          0,
          0,
          0,
          0,
          0,
          0,
          0,
          0,
          0,
          0,
          0,
          0,
          0,
          0,
          0,
          0,
          0,
          0,
          0,
          0,
          0,
          0,
          0,
          0,
          0,
          0,
          0,
          0,
          0,
          0,
          0,
          0,
          0,
          0,
          0,
          0,
          0,
          0,
          0,
          0,
          0,
          0,
          0,
          0,
          0,
          0,
          0,
          0,
          0,
          0,
          0,
          0,
          0,
          0,
          0,
          0,
          0,
          0,
          0,
          0,
          0,
          0,
          0,
          0,
          0,
          0,
          0,
          0,
          0,
          0,
          0,
          0,
          0,
          0,
          0,
          0,
          0,
          0,
          0,
          0,
          0,
          0,
          0,
          0,
          0,
          0,
          0,
          0,
          0,
          0,
          0,
          0,
          0,
          0,
          0,
          0,
          0,
          0,
          0,
          0,
          0,
          0,
          0,
          0,
          0,
          0,
          0,
          0,
          0,
          0,
          0,
          0,
          0,
          0,
          0,
          0,
          0,
          0,
          0,
          0,
          0,
          0,
          0,
          0,
          0,
          0,
          0,
          0,
          0,
          0,
          0,
          0,
          0,
          0,
          0,
          0,
          0,
          0,
          0,
          0,
          0,
          0,
          0,
          0,
          0,
          0,
          0,
          0,
          0,
          0,
          0,
          0,
          0,
          0,
          0,
          0,
          0,
          0,
          0,
          0,
          0,
          0,
          0,
          0,
          0,
          0,
          0,
          0.14285714285714285,
          0.14285714285714285,
          0.14285714285714285,
          0.14285714285714285,
          0.14285714285714285,
          0.14285714285714285,
          0.14285714285714285,
          0.14285714285714285,
          0.14285714285714285,
          0.14285714285714285,
          0.14285714285714285,
          0.14285714285714285,
          0.14285714285714285,
          0.14285714285714285,
          0.14285714285714285,
          0.14285714285714285,
          0.14285714285714285,
          0.14285714285714285,
          0.14285714285714285,
          0.14285714285714285,
          0.14285714285714285,
          0.14285714285714285,
          0.14285714285714285,
          0.14285714285714285,
          0.14285714285714285,
          0.14285714285714285,
          0.14285714285714285,
          0.14285714285714285,
          0.14285714285714285,
          0.14285714285714285,
          0.14285714285714285,
          0.14285714285714285,
          0.14285714285714285,
          0.14285714285714285,
          0.14285714285714285,
          0.14285714285714285,
          0.14285714285714285,
          0.14285714285714285,
          0.14285714285714285,
          0.2857142857142857,
          0.2857142857142857,
          0.2857142857142857,
          0.2857142857142857,
          0.2857142857142857,
          0.2857142857142857,
          0.2857142857142857,
          0.2857142857142857,
          0.2857142857142857,
          0.42857142857142855,
          0.5714285714285714,
          0.5714285714285714,
          0.5714285714285714,
          0.7142857142857143,
          0.7142857142857143,
          1
         ]
        },
        {
         "box": {
          "visible": true
         },
         "legendgroup": "Agglomerative clustering",
         "line": {
          "color": "green"
         },
         "meanline": {
          "visible": true
         },
         "name": "Agglomerative clustering",
         "points": "all",
         "showlegend": false,
         "side": "positive",
         "type": "violin",
         "width": 0.7,
         "x": [
          "(E)",
          "(E)",
          "(E)",
          "(E)",
          "(E)",
          "(E)",
          "(E)",
          "(E)",
          "(E)",
          "(E)",
          "(E)",
          "(E)",
          "(E)",
          "(E)",
          "(E)",
          "(E)",
          "(E)",
          "(E)",
          "(E)",
          "(E)",
          "(E)",
          "(E)",
          "(E)",
          "(E)",
          "(E)",
          "(E)",
          "(E)",
          "(E)",
          "(E)",
          "(E)",
          "(E)",
          "(E)",
          "(E)",
          "(E)",
          "(E)",
          "(E)",
          "(E)",
          "(E)",
          "(E)",
          "(E)",
          "(E)",
          "(E)",
          "(E)",
          "(E)",
          "(E)",
          "(E)",
          "(E)",
          "(E)",
          "(E)",
          "(E)",
          "(E)",
          "(E)",
          "(E)",
          "(E)",
          "(E)",
          "(E)",
          "(E)",
          "(E)",
          "(E)",
          "(E)",
          "(E)",
          "(E)",
          "(E)",
          "(E)",
          "(E)",
          "(E)",
          "(E)",
          "(E)",
          "(E)",
          "(E)",
          "(E)",
          "(E)",
          "(E)",
          "(E)",
          "(E)",
          "(E)",
          "(E)",
          "(E)",
          "(E)",
          "(E)",
          "(E)",
          "(E)",
          "(E)",
          "(E)",
          "(E)",
          "(E)",
          "(E)",
          "(E)",
          "(E)",
          "(E)",
          "(E)",
          "(E)",
          "(E)",
          "(E)",
          "(E)",
          "(E)",
          "(E)",
          "(E)",
          "(E)",
          "(E)",
          "(E)",
          "(E)",
          "(E)",
          "(E)",
          "(E)",
          "(E)",
          "(E)",
          "(E)",
          "(E)",
          "(E)",
          "(E)",
          "(E)",
          "(E)",
          "(E)",
          "(E)",
          "(E)",
          "(E)",
          "(E)",
          "(E)",
          "(E)"
         ],
         "y": [
          0,
          0,
          0,
          0,
          0,
          0,
          0,
          0,
          0,
          0,
          0,
          0,
          0,
          0,
          0,
          0,
          0,
          0,
          0,
          0,
          0,
          0,
          0,
          0,
          0,
          0,
          0,
          0,
          0,
          0,
          0,
          0,
          0,
          0,
          0,
          0,
          0,
          0,
          0,
          0,
          0,
          0,
          0,
          0,
          0,
          0,
          0,
          0,
          0,
          0,
          0,
          0,
          0,
          0,
          0,
          0,
          0,
          0,
          0,
          0,
          0,
          0,
          0,
          0,
          0,
          0,
          0,
          0,
          0,
          0,
          0,
          0,
          0,
          0,
          0,
          0,
          0,
          0,
          0,
          0,
          0,
          0,
          0,
          0,
          0,
          0,
          0,
          0,
          0,
          0,
          0,
          0,
          0,
          0,
          0,
          0.0625,
          0.0625,
          0.0625,
          0.0625,
          0.125,
          0.125,
          0.125,
          0.25,
          0.25,
          0.4375,
          0.625,
          0.6875,
          0.6875,
          0.8125,
          0.8125,
          0.875,
          0.9375,
          0.9375,
          0.9375,
          1,
          1,
          1,
          1,
          1,
          1
         ]
        }
       ],
       "layout": {
        "autosize": true,
        "height": 1000,
        "paper_bgcolor": "rgba(0,0,0,0)",
        "plot_bgcolor": "rgba(0,0,0,0)",
        "template": {
         "data": {
          "bar": [
           {
            "error_x": {
             "color": "#2a3f5f"
            },
            "error_y": {
             "color": "#2a3f5f"
            },
            "marker": {
             "line": {
              "color": "#E5ECF6",
              "width": 0.5
             },
             "pattern": {
              "fillmode": "overlay",
              "size": 10,
              "solidity": 0.2
             }
            },
            "type": "bar"
           }
          ],
          "barpolar": [
           {
            "marker": {
             "line": {
              "color": "#E5ECF6",
              "width": 0.5
             },
             "pattern": {
              "fillmode": "overlay",
              "size": 10,
              "solidity": 0.2
             }
            },
            "type": "barpolar"
           }
          ],
          "carpet": [
           {
            "aaxis": {
             "endlinecolor": "#2a3f5f",
             "gridcolor": "white",
             "linecolor": "white",
             "minorgridcolor": "white",
             "startlinecolor": "#2a3f5f"
            },
            "baxis": {
             "endlinecolor": "#2a3f5f",
             "gridcolor": "white",
             "linecolor": "white",
             "minorgridcolor": "white",
             "startlinecolor": "#2a3f5f"
            },
            "type": "carpet"
           }
          ],
          "choropleth": [
           {
            "colorbar": {
             "outlinewidth": 0,
             "ticks": ""
            },
            "type": "choropleth"
           }
          ],
          "contour": [
           {
            "colorbar": {
             "outlinewidth": 0,
             "ticks": ""
            },
            "colorscale": [
             [
              0,
              "#0d0887"
             ],
             [
              0.1111111111111111,
              "#46039f"
             ],
             [
              0.2222222222222222,
              "#7201a8"
             ],
             [
              0.3333333333333333,
              "#9c179e"
             ],
             [
              0.4444444444444444,
              "#bd3786"
             ],
             [
              0.5555555555555556,
              "#d8576b"
             ],
             [
              0.6666666666666666,
              "#ed7953"
             ],
             [
              0.7777777777777778,
              "#fb9f3a"
             ],
             [
              0.8888888888888888,
              "#fdca26"
             ],
             [
              1,
              "#f0f921"
             ]
            ],
            "type": "contour"
           }
          ],
          "contourcarpet": [
           {
            "colorbar": {
             "outlinewidth": 0,
             "ticks": ""
            },
            "type": "contourcarpet"
           }
          ],
          "heatmap": [
           {
            "colorbar": {
             "outlinewidth": 0,
             "ticks": ""
            },
            "colorscale": [
             [
              0,
              "#0d0887"
             ],
             [
              0.1111111111111111,
              "#46039f"
             ],
             [
              0.2222222222222222,
              "#7201a8"
             ],
             [
              0.3333333333333333,
              "#9c179e"
             ],
             [
              0.4444444444444444,
              "#bd3786"
             ],
             [
              0.5555555555555556,
              "#d8576b"
             ],
             [
              0.6666666666666666,
              "#ed7953"
             ],
             [
              0.7777777777777778,
              "#fb9f3a"
             ],
             [
              0.8888888888888888,
              "#fdca26"
             ],
             [
              1,
              "#f0f921"
             ]
            ],
            "type": "heatmap"
           }
          ],
          "heatmapgl": [
           {
            "colorbar": {
             "outlinewidth": 0,
             "ticks": ""
            },
            "colorscale": [
             [
              0,
              "#0d0887"
             ],
             [
              0.1111111111111111,
              "#46039f"
             ],
             [
              0.2222222222222222,
              "#7201a8"
             ],
             [
              0.3333333333333333,
              "#9c179e"
             ],
             [
              0.4444444444444444,
              "#bd3786"
             ],
             [
              0.5555555555555556,
              "#d8576b"
             ],
             [
              0.6666666666666666,
              "#ed7953"
             ],
             [
              0.7777777777777778,
              "#fb9f3a"
             ],
             [
              0.8888888888888888,
              "#fdca26"
             ],
             [
              1,
              "#f0f921"
             ]
            ],
            "type": "heatmapgl"
           }
          ],
          "histogram": [
           {
            "marker": {
             "pattern": {
              "fillmode": "overlay",
              "size": 10,
              "solidity": 0.2
             }
            },
            "type": "histogram"
           }
          ],
          "histogram2d": [
           {
            "colorbar": {
             "outlinewidth": 0,
             "ticks": ""
            },
            "colorscale": [
             [
              0,
              "#0d0887"
             ],
             [
              0.1111111111111111,
              "#46039f"
             ],
             [
              0.2222222222222222,
              "#7201a8"
             ],
             [
              0.3333333333333333,
              "#9c179e"
             ],
             [
              0.4444444444444444,
              "#bd3786"
             ],
             [
              0.5555555555555556,
              "#d8576b"
             ],
             [
              0.6666666666666666,
              "#ed7953"
             ],
             [
              0.7777777777777778,
              "#fb9f3a"
             ],
             [
              0.8888888888888888,
              "#fdca26"
             ],
             [
              1,
              "#f0f921"
             ]
            ],
            "type": "histogram2d"
           }
          ],
          "histogram2dcontour": [
           {
            "colorbar": {
             "outlinewidth": 0,
             "ticks": ""
            },
            "colorscale": [
             [
              0,
              "#0d0887"
             ],
             [
              0.1111111111111111,
              "#46039f"
             ],
             [
              0.2222222222222222,
              "#7201a8"
             ],
             [
              0.3333333333333333,
              "#9c179e"
             ],
             [
              0.4444444444444444,
              "#bd3786"
             ],
             [
              0.5555555555555556,
              "#d8576b"
             ],
             [
              0.6666666666666666,
              "#ed7953"
             ],
             [
              0.7777777777777778,
              "#fb9f3a"
             ],
             [
              0.8888888888888888,
              "#fdca26"
             ],
             [
              1,
              "#f0f921"
             ]
            ],
            "type": "histogram2dcontour"
           }
          ],
          "mesh3d": [
           {
            "colorbar": {
             "outlinewidth": 0,
             "ticks": ""
            },
            "type": "mesh3d"
           }
          ],
          "parcoords": [
           {
            "line": {
             "colorbar": {
              "outlinewidth": 0,
              "ticks": ""
             }
            },
            "type": "parcoords"
           }
          ],
          "pie": [
           {
            "automargin": true,
            "type": "pie"
           }
          ],
          "scatter": [
           {
            "fillpattern": {
             "fillmode": "overlay",
             "size": 10,
             "solidity": 0.2
            },
            "type": "scatter"
           }
          ],
          "scatter3d": [
           {
            "line": {
             "colorbar": {
              "outlinewidth": 0,
              "ticks": ""
             }
            },
            "marker": {
             "colorbar": {
              "outlinewidth": 0,
              "ticks": ""
             }
            },
            "type": "scatter3d"
           }
          ],
          "scattercarpet": [
           {
            "marker": {
             "colorbar": {
              "outlinewidth": 0,
              "ticks": ""
             }
            },
            "type": "scattercarpet"
           }
          ],
          "scattergeo": [
           {
            "marker": {
             "colorbar": {
              "outlinewidth": 0,
              "ticks": ""
             }
            },
            "type": "scattergeo"
           }
          ],
          "scattergl": [
           {
            "marker": {
             "colorbar": {
              "outlinewidth": 0,
              "ticks": ""
             }
            },
            "type": "scattergl"
           }
          ],
          "scattermapbox": [
           {
            "marker": {
             "colorbar": {
              "outlinewidth": 0,
              "ticks": ""
             }
            },
            "type": "scattermapbox"
           }
          ],
          "scatterpolar": [
           {
            "marker": {
             "colorbar": {
              "outlinewidth": 0,
              "ticks": ""
             }
            },
            "type": "scatterpolar"
           }
          ],
          "scatterpolargl": [
           {
            "marker": {
             "colorbar": {
              "outlinewidth": 0,
              "ticks": ""
             }
            },
            "type": "scatterpolargl"
           }
          ],
          "scatterternary": [
           {
            "marker": {
             "colorbar": {
              "outlinewidth": 0,
              "ticks": ""
             }
            },
            "type": "scatterternary"
           }
          ],
          "surface": [
           {
            "colorbar": {
             "outlinewidth": 0,
             "ticks": ""
            },
            "colorscale": [
             [
              0,
              "#0d0887"
             ],
             [
              0.1111111111111111,
              "#46039f"
             ],
             [
              0.2222222222222222,
              "#7201a8"
             ],
             [
              0.3333333333333333,
              "#9c179e"
             ],
             [
              0.4444444444444444,
              "#bd3786"
             ],
             [
              0.5555555555555556,
              "#d8576b"
             ],
             [
              0.6666666666666666,
              "#ed7953"
             ],
             [
              0.7777777777777778,
              "#fb9f3a"
             ],
             [
              0.8888888888888888,
              "#fdca26"
             ],
             [
              1,
              "#f0f921"
             ]
            ],
            "type": "surface"
           }
          ],
          "table": [
           {
            "cells": {
             "fill": {
              "color": "#EBF0F8"
             },
             "line": {
              "color": "white"
             }
            },
            "header": {
             "fill": {
              "color": "#C8D4E3"
             },
             "line": {
              "color": "white"
             }
            },
            "type": "table"
           }
          ]
         },
         "layout": {
          "annotationdefaults": {
           "arrowcolor": "#2a3f5f",
           "arrowhead": 0,
           "arrowwidth": 1
          },
          "autotypenumbers": "strict",
          "coloraxis": {
           "colorbar": {
            "outlinewidth": 0,
            "ticks": ""
           }
          },
          "colorscale": {
           "diverging": [
            [
             0,
             "#8e0152"
            ],
            [
             0.1,
             "#c51b7d"
            ],
            [
             0.2,
             "#de77ae"
            ],
            [
             0.3,
             "#f1b6da"
            ],
            [
             0.4,
             "#fde0ef"
            ],
            [
             0.5,
             "#f7f7f7"
            ],
            [
             0.6,
             "#e6f5d0"
            ],
            [
             0.7,
             "#b8e186"
            ],
            [
             0.8,
             "#7fbc41"
            ],
            [
             0.9,
             "#4d9221"
            ],
            [
             1,
             "#276419"
            ]
           ],
           "sequential": [
            [
             0,
             "#0d0887"
            ],
            [
             0.1111111111111111,
             "#46039f"
            ],
            [
             0.2222222222222222,
             "#7201a8"
            ],
            [
             0.3333333333333333,
             "#9c179e"
            ],
            [
             0.4444444444444444,
             "#bd3786"
            ],
            [
             0.5555555555555556,
             "#d8576b"
            ],
            [
             0.6666666666666666,
             "#ed7953"
            ],
            [
             0.7777777777777778,
             "#fb9f3a"
            ],
            [
             0.8888888888888888,
             "#fdca26"
            ],
            [
             1,
             "#f0f921"
            ]
           ],
           "sequentialminus": [
            [
             0,
             "#0d0887"
            ],
            [
             0.1111111111111111,
             "#46039f"
            ],
            [
             0.2222222222222222,
             "#7201a8"
            ],
            [
             0.3333333333333333,
             "#9c179e"
            ],
            [
             0.4444444444444444,
             "#bd3786"
            ],
            [
             0.5555555555555556,
             "#d8576b"
            ],
            [
             0.6666666666666666,
             "#ed7953"
            ],
            [
             0.7777777777777778,
             "#fb9f3a"
            ],
            [
             0.8888888888888888,
             "#fdca26"
            ],
            [
             1,
             "#f0f921"
            ]
           ]
          },
          "colorway": [
           "#636efa",
           "#EF553B",
           "#00cc96",
           "#ab63fa",
           "#FFA15A",
           "#19d3f3",
           "#FF6692",
           "#B6E880",
           "#FF97FF",
           "#FECB52"
          ],
          "font": {
           "color": "#2a3f5f"
          },
          "geo": {
           "bgcolor": "white",
           "lakecolor": "white",
           "landcolor": "#E5ECF6",
           "showlakes": true,
           "showland": true,
           "subunitcolor": "white"
          },
          "hoverlabel": {
           "align": "left"
          },
          "hovermode": "closest",
          "mapbox": {
           "style": "light"
          },
          "paper_bgcolor": "white",
          "plot_bgcolor": "#E5ECF6",
          "polar": {
           "angularaxis": {
            "gridcolor": "white",
            "linecolor": "white",
            "ticks": ""
           },
           "bgcolor": "#E5ECF6",
           "radialaxis": {
            "gridcolor": "white",
            "linecolor": "white",
            "ticks": ""
           }
          },
          "scene": {
           "xaxis": {
            "backgroundcolor": "#E5ECF6",
            "gridcolor": "white",
            "gridwidth": 2,
            "linecolor": "white",
            "showbackground": true,
            "ticks": "",
            "zerolinecolor": "white"
           },
           "yaxis": {
            "backgroundcolor": "#E5ECF6",
            "gridcolor": "white",
            "gridwidth": 2,
            "linecolor": "white",
            "showbackground": true,
            "ticks": "",
            "zerolinecolor": "white"
           },
           "zaxis": {
            "backgroundcolor": "#E5ECF6",
            "gridcolor": "white",
            "gridwidth": 2,
            "linecolor": "white",
            "showbackground": true,
            "ticks": "",
            "zerolinecolor": "white"
           }
          },
          "shapedefaults": {
           "line": {
            "color": "#2a3f5f"
           }
          },
          "ternary": {
           "aaxis": {
            "gridcolor": "white",
            "linecolor": "white",
            "ticks": ""
           },
           "baxis": {
            "gridcolor": "white",
            "linecolor": "white",
            "ticks": ""
           },
           "bgcolor": "#E5ECF6",
           "caxis": {
            "gridcolor": "white",
            "linecolor": "white",
            "ticks": ""
           }
          },
          "title": {
           "x": 0.05
          },
          "xaxis": {
           "automargin": true,
           "gridcolor": "white",
           "linecolor": "white",
           "ticks": "",
           "title": {
            "standoff": 15
           },
           "zerolinecolor": "white",
           "zerolinewidth": 2
          },
          "yaxis": {
           "automargin": true,
           "gridcolor": "white",
           "linecolor": "white",
           "ticks": "",
           "title": {
            "standoff": 15
           },
           "zerolinecolor": "white",
           "zerolinewidth": 2
          }
         }
        },
        "violingap": 0,
        "violinmode": "overlay",
        "width": 1000,
        "xaxis": {
         "showgrid": false,
         "zeroline": false
        },
        "yaxis": {
         "tickfont": {
          "size": 20
         },
         "title": {
          "text": "Numbers of nodes"
         }
        }
       }
      },
      "text/html": [
       "<div>                            <div id=\"97d5005c-a5a3-4f4e-9748-66638f538d16\" class=\"plotly-graph-div\" style=\"height:1000px; width:1000px;\"></div>            <script type=\"text/javascript\">                require([\"plotly\"], function(Plotly) {                    window.PLOTLYENV=window.PLOTLYENV || {};                                    if (document.getElementById(\"97d5005c-a5a3-4f4e-9748-66638f538d16\")) {                    Plotly.newPlot(                        \"97d5005c-a5a3-4f4e-9748-66638f538d16\",                        [{\"box\":{\"visible\":true},\"legendgroup\":\"Standard method\",\"line\":{\"color\":\"red\"},\"name\":\"Standard method\",\"points\":\"all\",\"side\":\"negative\",\"width\":0.7,\"x\":[\"(B)\",\"(B)\",\"(B)\",\"(B)\",\"(B)\",\"(B)\",\"(B)\",\"(B)\",\"(B)\",\"(B)\",\"(B)\",\"(B)\",\"(B)\",\"(B)\",\"(B)\",\"(B)\",\"(B)\",\"(B)\",\"(B)\",\"(B)\",\"(B)\",\"(B)\",\"(B)\",\"(B)\",\"(B)\",\"(B)\",\"(B)\",\"(B)\",\"(B)\",\"(B)\",\"(B)\",\"(B)\",\"(B)\",\"(B)\",\"(B)\",\"(B)\",\"(B)\",\"(B)\",\"(B)\",\"(B)\",\"(B)\",\"(B)\",\"(B)\",\"(B)\",\"(B)\",\"(B)\",\"(B)\",\"(B)\",\"(B)\",\"(B)\",\"(B)\",\"(B)\",\"(B)\",\"(B)\",\"(B)\",\"(B)\",\"(B)\",\"(B)\",\"(B)\",\"(B)\",\"(B)\",\"(B)\",\"(B)\",\"(B)\",\"(B)\",\"(B)\",\"(B)\",\"(B)\",\"(B)\",\"(B)\",\"(B)\",\"(B)\",\"(B)\",\"(B)\",\"(B)\",\"(B)\",\"(B)\",\"(B)\",\"(B)\",\"(B)\",\"(B)\",\"(B)\",\"(B)\",\"(B)\",\"(B)\",\"(B)\",\"(B)\",\"(B)\",\"(B)\",\"(B)\",\"(B)\",\"(B)\",\"(B)\",\"(B)\",\"(B)\",\"(B)\",\"(B)\",\"(B)\",\"(B)\",\"(B)\",\"(B)\",\"(B)\",\"(B)\",\"(B)\",\"(B)\",\"(B)\",\"(B)\",\"(B)\",\"(B)\",\"(B)\",\"(B)\",\"(B)\",\"(B)\",\"(B)\",\"(B)\",\"(B)\",\"(B)\",\"(B)\",\"(B)\",\"(B)\",\"(B)\",\"(B)\",\"(B)\",\"(B)\",\"(B)\",\"(B)\",\"(B)\",\"(B)\",\"(B)\",\"(B)\",\"(B)\",\"(B)\",\"(B)\",\"(B)\",\"(B)\",\"(B)\",\"(B)\",\"(B)\",\"(B)\",\"(B)\",\"(B)\",\"(B)\",\"(B)\",\"(B)\",\"(B)\",\"(B)\",\"(B)\",\"(B)\",\"(B)\",\"(B)\",\"(B)\",\"(B)\",\"(B)\",\"(B)\",\"(B)\",\"(B)\",\"(B)\",\"(B)\",\"(B)\",\"(B)\",\"(B)\",\"(B)\",\"(B)\",\"(B)\",\"(B)\",\"(B)\",\"(B)\",\"(B)\",\"(B)\",\"(B)\",\"(B)\",\"(B)\",\"(B)\",\"(B)\",\"(B)\",\"(B)\",\"(B)\",\"(B)\",\"(B)\",\"(B)\",\"(B)\",\"(B)\",\"(B)\",\"(B)\",\"(B)\",\"(B)\",\"(B)\",\"(B)\",\"(B)\",\"(B)\",\"(B)\",\"(B)\",\"(B)\",\"(B)\",\"(B)\",\"(B)\",\"(B)\",\"(B)\",\"(B)\",\"(B)\",\"(B)\",\"(B)\",\"(B)\",\"(B)\",\"(B)\",\"(B)\",\"(B)\",\"(B)\",\"(B)\",\"(B)\",\"(B)\",\"(B)\",\"(B)\",\"(B)\",\"(B)\",\"(B)\",\"(B)\",\"(B)\",\"(B)\",\"(B)\",\"(B)\",\"(B)\",\"(B)\",\"(B)\",\"(B)\",\"(B)\",\"(B)\",\"(B)\",\"(B)\",\"(B)\",\"(B)\",\"(B)\",\"(B)\",\"(B)\",\"(B)\",\"(B)\",\"(B)\",\"(B)\",\"(B)\",\"(B)\",\"(B)\",\"(B)\",\"(B)\",\"(B)\",\"(B)\",\"(B)\",\"(B)\",\"(B)\",\"(B)\",\"(B)\",\"(B)\",\"(B)\",\"(B)\",\"(B)\",\"(B)\",\"(B)\",\"(B)\",\"(B)\",\"(B)\",\"(B)\",\"(B)\",\"(B)\",\"(B)\",\"(B)\",\"(B)\",\"(B)\",\"(B)\",\"(B)\",\"(B)\"],\"y\":[0.0,0.0,0.0,0.0,0.0,0.0,0.0,0.0,0.0,0.0,0.0,0.0,0.0,0.0,0.0,0.0,0.0,0.0,0.0,0.0,0.0,0.0,0.0,0.0,0.0,0.0,0.0,0.0,0.0,0.0,0.0,0.0,0.0,0.0,0.0,0.0,0.0,0.0,0.0,0.0,0.0,0.0,0.0,0.0,0.0,0.0,0.0,0.0,0.0,0.0,0.0,0.0,0.0,0.0,0.0,0.0,0.0,0.0,0.0,0.0,0.0,0.0,0.0,0.0,0.0,0.0,0.0,0.0,0.0,0.0,0.0,0.0,0.0,0.0,0.0,0.0,0.0,0.0,0.0,0.0,0.0,0.0,0.0,0.0,0.0,0.0,0.0,0.0,0.0,0.0,0.0,0.0,0.0,0.0,0.0,0.0,0.0,0.0,0.0,0.0,0.0,0.0,0.0,0.0,0.0,0.0,0.0,0.0,0.0,0.0,0.0,0.0,0.0,0.0,0.0,0.0,0.0,0.0,0.0,0.0,0.0,0.0,0.0,0.0,0.0,0.0,0.0,0.0,0.0,0.0,0.0,0.0,0.0,0.0,0.0,0.0,0.0,0.0,0.0,0.0,0.0,0.0,0.0,0.0,0.0,0.0,0.0,0.0,0.0,0.0,0.0,0.0,0.0,0.0,0.0,0.0,0.0,0.0,0.0,0.0,0.0,0.0,0.0,0.0,0.0,0.0,0.0,0.0,0.0,0.0,0.0,0.0,0.0,0.0,0.0,0.0,0.0,0.0,0.0,0.0,0.0,0.0,0.0,0.0,0.0,0.0,0.0,0.0,0.0,0.0,0.0,0.0,0.0,0.0,0.0,0.0,0.0,0.0,0.0,0.0,0.0,0.0,0.0,0.0,0.0,0.0,0.0,0.0,0.0,0.0,0.0,0.0,0.0,0.0,0.14285714285714285,0.14285714285714285,0.14285714285714285,0.14285714285714285,0.14285714285714285,0.14285714285714285,0.14285714285714285,0.14285714285714285,0.14285714285714285,0.14285714285714285,0.14285714285714285,0.14285714285714285,0.14285714285714285,0.14285714285714285,0.14285714285714285,0.14285714285714285,0.14285714285714285,0.14285714285714285,0.14285714285714285,0.14285714285714285,0.14285714285714285,0.14285714285714285,0.14285714285714285,0.14285714285714285,0.14285714285714285,0.14285714285714285,0.14285714285714285,0.14285714285714285,0.14285714285714285,0.14285714285714285,0.14285714285714285,0.14285714285714285,0.14285714285714285,0.14285714285714285,0.14285714285714285,0.14285714285714285,0.14285714285714285,0.14285714285714285,0.14285714285714285,0.2857142857142857,0.2857142857142857,0.2857142857142857,0.2857142857142857,0.2857142857142857,0.2857142857142857,0.2857142857142857,0.2857142857142857,0.2857142857142857,0.42857142857142855,0.5714285714285714,0.5714285714285714,0.5714285714285714,0.7142857142857143,0.7142857142857143,1.0],\"type\":\"violin\",\"meanline\":{\"visible\":true}},{\"box\":{\"visible\":true},\"legendgroup\":\"Agglomerative clustering\",\"line\":{\"color\":\"green\"},\"name\":\"Agglomerative clustering\",\"points\":\"all\",\"showlegend\":false,\"side\":\"positive\",\"width\":0.7,\"x\":[\"(E)\",\"(E)\",\"(E)\",\"(E)\",\"(E)\",\"(E)\",\"(E)\",\"(E)\",\"(E)\",\"(E)\",\"(E)\",\"(E)\",\"(E)\",\"(E)\",\"(E)\",\"(E)\",\"(E)\",\"(E)\",\"(E)\",\"(E)\",\"(E)\",\"(E)\",\"(E)\",\"(E)\",\"(E)\",\"(E)\",\"(E)\",\"(E)\",\"(E)\",\"(E)\",\"(E)\",\"(E)\",\"(E)\",\"(E)\",\"(E)\",\"(E)\",\"(E)\",\"(E)\",\"(E)\",\"(E)\",\"(E)\",\"(E)\",\"(E)\",\"(E)\",\"(E)\",\"(E)\",\"(E)\",\"(E)\",\"(E)\",\"(E)\",\"(E)\",\"(E)\",\"(E)\",\"(E)\",\"(E)\",\"(E)\",\"(E)\",\"(E)\",\"(E)\",\"(E)\",\"(E)\",\"(E)\",\"(E)\",\"(E)\",\"(E)\",\"(E)\",\"(E)\",\"(E)\",\"(E)\",\"(E)\",\"(E)\",\"(E)\",\"(E)\",\"(E)\",\"(E)\",\"(E)\",\"(E)\",\"(E)\",\"(E)\",\"(E)\",\"(E)\",\"(E)\",\"(E)\",\"(E)\",\"(E)\",\"(E)\",\"(E)\",\"(E)\",\"(E)\",\"(E)\",\"(E)\",\"(E)\",\"(E)\",\"(E)\",\"(E)\",\"(E)\",\"(E)\",\"(E)\",\"(E)\",\"(E)\",\"(E)\",\"(E)\",\"(E)\",\"(E)\",\"(E)\",\"(E)\",\"(E)\",\"(E)\",\"(E)\",\"(E)\",\"(E)\",\"(E)\",\"(E)\",\"(E)\",\"(E)\",\"(E)\",\"(E)\",\"(E)\",\"(E)\",\"(E)\"],\"y\":[0.0,0.0,0.0,0.0,0.0,0.0,0.0,0.0,0.0,0.0,0.0,0.0,0.0,0.0,0.0,0.0,0.0,0.0,0.0,0.0,0.0,0.0,0.0,0.0,0.0,0.0,0.0,0.0,0.0,0.0,0.0,0.0,0.0,0.0,0.0,0.0,0.0,0.0,0.0,0.0,0.0,0.0,0.0,0.0,0.0,0.0,0.0,0.0,0.0,0.0,0.0,0.0,0.0,0.0,0.0,0.0,0.0,0.0,0.0,0.0,0.0,0.0,0.0,0.0,0.0,0.0,0.0,0.0,0.0,0.0,0.0,0.0,0.0,0.0,0.0,0.0,0.0,0.0,0.0,0.0,0.0,0.0,0.0,0.0,0.0,0.0,0.0,0.0,0.0,0.0,0.0,0.0,0.0,0.0,0.0,0.0625,0.0625,0.0625,0.0625,0.125,0.125,0.125,0.25,0.25,0.4375,0.625,0.6875,0.6875,0.8125,0.8125,0.875,0.9375,0.9375,0.9375,1.0,1.0,1.0,1.0,1.0,1.0],\"type\":\"violin\",\"meanline\":{\"visible\":true}}],                        {\"paper_bgcolor\":\"rgba(0,0,0,0)\",\"plot_bgcolor\":\"rgba(0,0,0,0)\",\"template\":{\"data\":{\"histogram2dcontour\":[{\"type\":\"histogram2dcontour\",\"colorbar\":{\"outlinewidth\":0,\"ticks\":\"\"},\"colorscale\":[[0.0,\"#0d0887\"],[0.1111111111111111,\"#46039f\"],[0.2222222222222222,\"#7201a8\"],[0.3333333333333333,\"#9c179e\"],[0.4444444444444444,\"#bd3786\"],[0.5555555555555556,\"#d8576b\"],[0.6666666666666666,\"#ed7953\"],[0.7777777777777778,\"#fb9f3a\"],[0.8888888888888888,\"#fdca26\"],[1.0,\"#f0f921\"]]}],\"choropleth\":[{\"type\":\"choropleth\",\"colorbar\":{\"outlinewidth\":0,\"ticks\":\"\"}}],\"histogram2d\":[{\"type\":\"histogram2d\",\"colorbar\":{\"outlinewidth\":0,\"ticks\":\"\"},\"colorscale\":[[0.0,\"#0d0887\"],[0.1111111111111111,\"#46039f\"],[0.2222222222222222,\"#7201a8\"],[0.3333333333333333,\"#9c179e\"],[0.4444444444444444,\"#bd3786\"],[0.5555555555555556,\"#d8576b\"],[0.6666666666666666,\"#ed7953\"],[0.7777777777777778,\"#fb9f3a\"],[0.8888888888888888,\"#fdca26\"],[1.0,\"#f0f921\"]]}],\"heatmap\":[{\"type\":\"heatmap\",\"colorbar\":{\"outlinewidth\":0,\"ticks\":\"\"},\"colorscale\":[[0.0,\"#0d0887\"],[0.1111111111111111,\"#46039f\"],[0.2222222222222222,\"#7201a8\"],[0.3333333333333333,\"#9c179e\"],[0.4444444444444444,\"#bd3786\"],[0.5555555555555556,\"#d8576b\"],[0.6666666666666666,\"#ed7953\"],[0.7777777777777778,\"#fb9f3a\"],[0.8888888888888888,\"#fdca26\"],[1.0,\"#f0f921\"]]}],\"heatmapgl\":[{\"type\":\"heatmapgl\",\"colorbar\":{\"outlinewidth\":0,\"ticks\":\"\"},\"colorscale\":[[0.0,\"#0d0887\"],[0.1111111111111111,\"#46039f\"],[0.2222222222222222,\"#7201a8\"],[0.3333333333333333,\"#9c179e\"],[0.4444444444444444,\"#bd3786\"],[0.5555555555555556,\"#d8576b\"],[0.6666666666666666,\"#ed7953\"],[0.7777777777777778,\"#fb9f3a\"],[0.8888888888888888,\"#fdca26\"],[1.0,\"#f0f921\"]]}],\"contourcarpet\":[{\"type\":\"contourcarpet\",\"colorbar\":{\"outlinewidth\":0,\"ticks\":\"\"}}],\"contour\":[{\"type\":\"contour\",\"colorbar\":{\"outlinewidth\":0,\"ticks\":\"\"},\"colorscale\":[[0.0,\"#0d0887\"],[0.1111111111111111,\"#46039f\"],[0.2222222222222222,\"#7201a8\"],[0.3333333333333333,\"#9c179e\"],[0.4444444444444444,\"#bd3786\"],[0.5555555555555556,\"#d8576b\"],[0.6666666666666666,\"#ed7953\"],[0.7777777777777778,\"#fb9f3a\"],[0.8888888888888888,\"#fdca26\"],[1.0,\"#f0f921\"]]}],\"surface\":[{\"type\":\"surface\",\"colorbar\":{\"outlinewidth\":0,\"ticks\":\"\"},\"colorscale\":[[0.0,\"#0d0887\"],[0.1111111111111111,\"#46039f\"],[0.2222222222222222,\"#7201a8\"],[0.3333333333333333,\"#9c179e\"],[0.4444444444444444,\"#bd3786\"],[0.5555555555555556,\"#d8576b\"],[0.6666666666666666,\"#ed7953\"],[0.7777777777777778,\"#fb9f3a\"],[0.8888888888888888,\"#fdca26\"],[1.0,\"#f0f921\"]]}],\"mesh3d\":[{\"type\":\"mesh3d\",\"colorbar\":{\"outlinewidth\":0,\"ticks\":\"\"}}],\"scatter\":[{\"fillpattern\":{\"fillmode\":\"overlay\",\"size\":10,\"solidity\":0.2},\"type\":\"scatter\"}],\"parcoords\":[{\"type\":\"parcoords\",\"line\":{\"colorbar\":{\"outlinewidth\":0,\"ticks\":\"\"}}}],\"scatterpolargl\":[{\"type\":\"scatterpolargl\",\"marker\":{\"colorbar\":{\"outlinewidth\":0,\"ticks\":\"\"}}}],\"bar\":[{\"error_x\":{\"color\":\"#2a3f5f\"},\"error_y\":{\"color\":\"#2a3f5f\"},\"marker\":{\"line\":{\"color\":\"#E5ECF6\",\"width\":0.5},\"pattern\":{\"fillmode\":\"overlay\",\"size\":10,\"solidity\":0.2}},\"type\":\"bar\"}],\"scattergeo\":[{\"type\":\"scattergeo\",\"marker\":{\"colorbar\":{\"outlinewidth\":0,\"ticks\":\"\"}}}],\"scatterpolar\":[{\"type\":\"scatterpolar\",\"marker\":{\"colorbar\":{\"outlinewidth\":0,\"ticks\":\"\"}}}],\"histogram\":[{\"marker\":{\"pattern\":{\"fillmode\":\"overlay\",\"size\":10,\"solidity\":0.2}},\"type\":\"histogram\"}],\"scattergl\":[{\"type\":\"scattergl\",\"marker\":{\"colorbar\":{\"outlinewidth\":0,\"ticks\":\"\"}}}],\"scatter3d\":[{\"type\":\"scatter3d\",\"line\":{\"colorbar\":{\"outlinewidth\":0,\"ticks\":\"\"}},\"marker\":{\"colorbar\":{\"outlinewidth\":0,\"ticks\":\"\"}}}],\"scattermapbox\":[{\"type\":\"scattermapbox\",\"marker\":{\"colorbar\":{\"outlinewidth\":0,\"ticks\":\"\"}}}],\"scatterternary\":[{\"type\":\"scatterternary\",\"marker\":{\"colorbar\":{\"outlinewidth\":0,\"ticks\":\"\"}}}],\"scattercarpet\":[{\"type\":\"scattercarpet\",\"marker\":{\"colorbar\":{\"outlinewidth\":0,\"ticks\":\"\"}}}],\"carpet\":[{\"aaxis\":{\"endlinecolor\":\"#2a3f5f\",\"gridcolor\":\"white\",\"linecolor\":\"white\",\"minorgridcolor\":\"white\",\"startlinecolor\":\"#2a3f5f\"},\"baxis\":{\"endlinecolor\":\"#2a3f5f\",\"gridcolor\":\"white\",\"linecolor\":\"white\",\"minorgridcolor\":\"white\",\"startlinecolor\":\"#2a3f5f\"},\"type\":\"carpet\"}],\"table\":[{\"cells\":{\"fill\":{\"color\":\"#EBF0F8\"},\"line\":{\"color\":\"white\"}},\"header\":{\"fill\":{\"color\":\"#C8D4E3\"},\"line\":{\"color\":\"white\"}},\"type\":\"table\"}],\"barpolar\":[{\"marker\":{\"line\":{\"color\":\"#E5ECF6\",\"width\":0.5},\"pattern\":{\"fillmode\":\"overlay\",\"size\":10,\"solidity\":0.2}},\"type\":\"barpolar\"}],\"pie\":[{\"automargin\":true,\"type\":\"pie\"}]},\"layout\":{\"autotypenumbers\":\"strict\",\"colorway\":[\"#636efa\",\"#EF553B\",\"#00cc96\",\"#ab63fa\",\"#FFA15A\",\"#19d3f3\",\"#FF6692\",\"#B6E880\",\"#FF97FF\",\"#FECB52\"],\"font\":{\"color\":\"#2a3f5f\"},\"hovermode\":\"closest\",\"hoverlabel\":{\"align\":\"left\"},\"paper_bgcolor\":\"white\",\"plot_bgcolor\":\"#E5ECF6\",\"polar\":{\"bgcolor\":\"#E5ECF6\",\"angularaxis\":{\"gridcolor\":\"white\",\"linecolor\":\"white\",\"ticks\":\"\"},\"radialaxis\":{\"gridcolor\":\"white\",\"linecolor\":\"white\",\"ticks\":\"\"}},\"ternary\":{\"bgcolor\":\"#E5ECF6\",\"aaxis\":{\"gridcolor\":\"white\",\"linecolor\":\"white\",\"ticks\":\"\"},\"baxis\":{\"gridcolor\":\"white\",\"linecolor\":\"white\",\"ticks\":\"\"},\"caxis\":{\"gridcolor\":\"white\",\"linecolor\":\"white\",\"ticks\":\"\"}},\"coloraxis\":{\"colorbar\":{\"outlinewidth\":0,\"ticks\":\"\"}},\"colorscale\":{\"sequential\":[[0.0,\"#0d0887\"],[0.1111111111111111,\"#46039f\"],[0.2222222222222222,\"#7201a8\"],[0.3333333333333333,\"#9c179e\"],[0.4444444444444444,\"#bd3786\"],[0.5555555555555556,\"#d8576b\"],[0.6666666666666666,\"#ed7953\"],[0.7777777777777778,\"#fb9f3a\"],[0.8888888888888888,\"#fdca26\"],[1.0,\"#f0f921\"]],\"sequentialminus\":[[0.0,\"#0d0887\"],[0.1111111111111111,\"#46039f\"],[0.2222222222222222,\"#7201a8\"],[0.3333333333333333,\"#9c179e\"],[0.4444444444444444,\"#bd3786\"],[0.5555555555555556,\"#d8576b\"],[0.6666666666666666,\"#ed7953\"],[0.7777777777777778,\"#fb9f3a\"],[0.8888888888888888,\"#fdca26\"],[1.0,\"#f0f921\"]],\"diverging\":[[0,\"#8e0152\"],[0.1,\"#c51b7d\"],[0.2,\"#de77ae\"],[0.3,\"#f1b6da\"],[0.4,\"#fde0ef\"],[0.5,\"#f7f7f7\"],[0.6,\"#e6f5d0\"],[0.7,\"#b8e186\"],[0.8,\"#7fbc41\"],[0.9,\"#4d9221\"],[1,\"#276419\"]]},\"xaxis\":{\"gridcolor\":\"white\",\"linecolor\":\"white\",\"ticks\":\"\",\"title\":{\"standoff\":15},\"zerolinecolor\":\"white\",\"automargin\":true,\"zerolinewidth\":2},\"yaxis\":{\"gridcolor\":\"white\",\"linecolor\":\"white\",\"ticks\":\"\",\"title\":{\"standoff\":15},\"zerolinecolor\":\"white\",\"automargin\":true,\"zerolinewidth\":2},\"scene\":{\"xaxis\":{\"backgroundcolor\":\"#E5ECF6\",\"gridcolor\":\"white\",\"linecolor\":\"white\",\"showbackground\":true,\"ticks\":\"\",\"zerolinecolor\":\"white\",\"gridwidth\":2},\"yaxis\":{\"backgroundcolor\":\"#E5ECF6\",\"gridcolor\":\"white\",\"linecolor\":\"white\",\"showbackground\":true,\"ticks\":\"\",\"zerolinecolor\":\"white\",\"gridwidth\":2},\"zaxis\":{\"backgroundcolor\":\"#E5ECF6\",\"gridcolor\":\"white\",\"linecolor\":\"white\",\"showbackground\":true,\"ticks\":\"\",\"zerolinecolor\":\"white\",\"gridwidth\":2}},\"shapedefaults\":{\"line\":{\"color\":\"#2a3f5f\"}},\"annotationdefaults\":{\"arrowcolor\":\"#2a3f5f\",\"arrowhead\":0,\"arrowwidth\":1},\"geo\":{\"bgcolor\":\"white\",\"landcolor\":\"#E5ECF6\",\"subunitcolor\":\"white\",\"showland\":true,\"showlakes\":true,\"lakecolor\":\"white\"},\"title\":{\"x\":0.05},\"mapbox\":{\"style\":\"light\"}}},\"violingap\":0,\"violinmode\":\"overlay\",\"xaxis\":{\"showgrid\":false,\"zeroline\":false},\"yaxis\":{\"tickfont\":{\"size\":20},\"title\":{\"text\":\"Numbers of nodes\"}},\"autosize\":true,\"width\":1000,\"height\":1000},                        {\"responsive\": true}                    ).then(function(){\n",
       "                            \n",
       "var gd = document.getElementById('97d5005c-a5a3-4f4e-9748-66638f538d16');\n",
       "var x = new MutationObserver(function (mutations, observer) {{\n",
       "        var display = window.getComputedStyle(gd).display;\n",
       "        if (!display || display === 'none') {{\n",
       "            console.log([gd, 'removed!']);\n",
       "            Plotly.purge(gd);\n",
       "            observer.disconnect();\n",
       "        }}\n",
       "}});\n",
       "\n",
       "// Listen for the removal of the full notebook cells\n",
       "var notebookContainer = gd.closest('#notebook-container');\n",
       "if (notebookContainer) {{\n",
       "    x.observe(notebookContainer, {childList: true});\n",
       "}}\n",
       "\n",
       "// Listen for the clearing of the current output cell\n",
       "var outputEl = gd.closest('.output');\n",
       "if (outputEl) {{\n",
       "    x.observe(outputEl, {childList: true});\n",
       "}}\n",
       "\n",
       "                        })                };                });            </script>        </div>"
      ]
     },
     "metadata": {},
     "output_type": "display_data"
    }
   ],
   "source": [
    "import plotly.graph_objects as go\n",
    "from plotly.graph_objs import Layout\n",
    "import pandas as pd\n",
    "\n",
    "layout = Layout(\n",
    "    paper_bgcolor='rgba(0,0,0,0)',\n",
    "    plot_bgcolor='rgba(0,0,0,0)'\n",
    ")\n",
    "fig = go.Figure(layout=layout)\n",
    "#[110, 30, 1, 2, 7, 10, 12, 40]\n",
    "\n",
    "y1 = B\n",
    "\n",
    "fig.add_trace(go.Violin(x= np.repeat(\"(B)\", len(y1)),\n",
    "                        y=normalize(y1),\n",
    "                        width=0.7, points=\"all\", box_visible=True,\n",
    "                        legendgroup='Standard method',  name='Standard method',\n",
    "                        side='negative',\n",
    "                        line_color='red', showlegend=False)\n",
    "             )\n",
    "\n",
    "y2 = E\n",
    "\n",
    "fig.add_trace(go.Violin(x= np.repeat(\"(E)\", len(y2)),\n",
    "                        y=normalize(y2),\n",
    "                        width=0.7, points=\"all\", box_visible=True,\n",
    "                        legendgroup='Agglomerative clustering',  name='Agglomerative clustering',\n",
    "                        side='positive',\n",
    "                        line_color='green', showlegend=False)\n",
    "             )\n",
    "fig.update_traces(meanline_visible=True)\n",
    "fig.update_layout(violingap=0, violinmode='overlay')\n",
    "fig.update_layout(xaxis_showgrid=False, xaxis_zeroline=False)\n",
    "fig.update_layout(\n",
    "    autosize=True,\n",
    "    width=1000,\n",
    "    height=1000,\n",
    "    yaxis=dict(title='Numbers of nodes',tickfont = dict(size=20)),\n",
    "    \n",
    ")\n",
    "fig.show()"
   ]
  },
  {
   "cell_type": "code",
   "execution_count": 162,
   "metadata": {},
   "outputs": [
    {
     "data": {
      "application/vnd.plotly.v1+json": {
       "config": {
        "plotlyServerURL": "https://plot.ly"
       },
       "data": [
        {
         "autobinx": false,
         "histnorm": "probability density",
         "legendgroup": "Standard",
         "marker": {
          "color": "slategray"
         },
         "name": "Standard",
         "opacity": 0.7,
         "type": "histogram",
         "x": [
          1,
          1,
          1,
          1,
          1,
          1,
          1,
          1,
          1,
          1,
          1,
          1,
          1,
          1,
          1,
          1,
          1,
          1,
          1,
          1,
          1,
          1,
          1,
          1,
          1,
          1,
          1,
          1,
          1,
          1,
          1,
          1,
          1,
          1,
          1,
          1,
          1,
          1,
          1,
          1,
          1,
          1,
          1,
          1,
          1,
          1,
          1,
          1,
          1,
          1,
          1,
          1,
          1,
          1,
          1,
          1,
          1,
          1,
          1,
          1,
          1,
          1,
          1,
          1,
          1,
          1,
          1,
          1,
          1,
          1,
          1,
          1,
          1,
          1,
          1,
          1,
          1,
          1,
          1,
          1,
          1,
          1,
          1,
          1,
          1,
          1,
          1,
          1,
          1,
          1,
          1,
          1,
          1,
          1,
          1,
          1,
          1,
          1,
          1,
          1,
          1,
          1,
          1,
          1,
          1,
          1,
          1,
          1,
          1,
          1,
          1,
          1,
          1,
          1,
          1,
          1,
          2,
          2,
          2,
          2,
          2,
          2,
          2,
          2,
          2,
          2,
          2,
          2,
          2,
          2,
          2,
          2,
          2,
          2,
          2,
          2,
          2,
          2,
          2,
          2,
          2,
          2,
          2,
          2,
          2,
          2,
          2,
          2,
          2,
          2,
          2,
          3,
          3,
          3,
          3,
          3,
          3,
          3,
          3,
          3,
          3,
          3,
          3,
          3,
          4,
          4,
          4,
          4,
          4,
          5,
          5,
          5,
          5,
          5,
          5,
          5,
          5,
          6,
          6,
          6,
          8,
          8,
          8,
          8,
          10,
          13
         ],
         "xaxis": "x",
         "xbins": {
          "end": 13,
          "size": 1,
          "start": 1
         },
         "yaxis": "y"
        },
        {
         "autobinx": false,
         "histnorm": "probability density",
         "legendgroup": "Agglomerative Clustering",
         "marker": {
          "color": "magenta"
         },
         "name": "Agglomerative Clustering",
         "opacity": 0.7,
         "type": "histogram",
         "x": [
          1,
          1,
          1,
          1,
          1,
          1,
          1,
          1,
          1,
          1,
          1,
          1,
          1,
          1,
          1,
          1,
          1,
          1,
          1,
          1,
          1,
          1,
          1,
          1,
          1,
          1,
          1,
          1,
          1,
          1,
          1,
          1,
          1,
          1,
          1,
          1,
          1,
          1,
          1,
          1,
          1,
          1,
          1,
          1,
          1,
          1,
          1,
          1,
          1,
          1,
          1,
          1,
          1,
          1,
          1,
          1,
          1,
          1,
          1,
          1,
          1,
          1,
          1,
          1,
          1,
          1,
          1,
          1,
          1,
          1,
          1,
          1,
          1,
          1,
          1,
          1,
          1,
          1,
          1,
          1,
          1,
          1,
          1,
          1,
          1,
          1,
          1,
          1,
          1,
          1,
          1,
          1,
          1,
          1,
          1,
          1,
          1,
          1,
          1,
          1,
          1,
          1,
          1,
          1,
          1,
          1,
          1,
          1,
          1,
          1,
          1,
          1,
          1,
          1,
          1,
          1,
          1,
          1,
          1,
          1,
          1,
          1,
          1,
          1,
          1,
          1,
          1,
          1,
          1,
          1,
          1,
          1,
          1,
          1,
          1,
          1,
          1,
          1,
          1,
          1,
          1,
          1,
          1,
          1,
          1,
          1,
          1,
          1,
          1,
          1,
          1,
          1,
          1,
          1,
          1,
          1,
          1,
          1,
          1,
          1,
          1,
          1,
          1,
          1,
          1,
          1,
          1,
          1,
          1,
          1,
          1,
          1,
          1,
          1,
          1,
          1,
          1,
          1,
          1,
          1,
          1,
          1,
          1,
          1,
          1,
          1,
          1,
          1,
          1,
          1,
          1,
          1,
          1,
          1,
          1,
          1,
          1,
          1,
          1,
          2,
          2,
          2,
          2,
          2,
          2,
          2,
          2,
          2,
          2,
          2,
          2,
          2,
          2,
          2,
          2,
          2,
          3,
          3,
          3,
          3,
          4,
          4,
          4,
          4,
          4,
          5,
          5,
          6,
          6,
          6,
          8,
          8,
          9,
          9,
          10,
          10,
          11
         ],
         "xaxis": "x",
         "xbins": {
          "end": 11,
          "size": 1,
          "start": 1
         },
         "yaxis": "y"
        },
        {
         "legendgroup": "Standard",
         "marker": {
          "color": "slategray"
         },
         "mode": "lines",
         "name": "Standard",
         "showlegend": false,
         "type": "scatter",
         "x": [
          1,
          1.024,
          1.048,
          1.072,
          1.096,
          1.12,
          1.144,
          1.168,
          1.192,
          1.216,
          1.24,
          1.264,
          1.288,
          1.312,
          1.336,
          1.3599999999999999,
          1.384,
          1.408,
          1.432,
          1.456,
          1.48,
          1.504,
          1.528,
          1.552,
          1.576,
          1.6,
          1.624,
          1.6480000000000001,
          1.6720000000000002,
          1.696,
          1.72,
          1.744,
          1.768,
          1.792,
          1.8159999999999998,
          1.8399999999999999,
          1.8639999999999999,
          1.888,
          1.912,
          1.936,
          1.96,
          1.984,
          2.008,
          2.032,
          2.056,
          2.08,
          2.104,
          2.128,
          2.152,
          2.176,
          2.2,
          2.224,
          2.248,
          2.2720000000000002,
          2.2960000000000003,
          2.3200000000000003,
          2.3440000000000003,
          2.3680000000000003,
          2.392,
          2.416,
          2.44,
          2.464,
          2.488,
          2.512,
          2.536,
          2.56,
          2.584,
          2.608,
          2.6319999999999997,
          2.6559999999999997,
          2.6799999999999997,
          2.7039999999999997,
          2.7279999999999998,
          2.752,
          2.776,
          2.8,
          2.824,
          2.848,
          2.872,
          2.896,
          2.92,
          2.944,
          2.968,
          2.992,
          3.016,
          3.04,
          3.064,
          3.088,
          3.112,
          3.136,
          3.16,
          3.184,
          3.208,
          3.232,
          3.256,
          3.28,
          3.304,
          3.328,
          3.352,
          3.376,
          3.4,
          3.424,
          3.448,
          3.472,
          3.496,
          3.52,
          3.544,
          3.568,
          3.592,
          3.616,
          3.64,
          3.664,
          3.688,
          3.712,
          3.736,
          3.76,
          3.784,
          3.808,
          3.832,
          3.856,
          3.88,
          3.904,
          3.928,
          3.952,
          3.976,
          4,
          4.024,
          4.048,
          4.072,
          4.096,
          4.12,
          4.144,
          4.168,
          4.192,
          4.216,
          4.24,
          4.263999999999999,
          4.288,
          4.311999999999999,
          4.336,
          4.359999999999999,
          4.384,
          4.4079999999999995,
          4.432,
          4.4559999999999995,
          4.48,
          4.504,
          4.5280000000000005,
          4.552,
          4.5760000000000005,
          4.6,
          4.6240000000000006,
          4.648,
          4.672000000000001,
          4.696,
          4.720000000000001,
          4.744,
          4.768,
          4.792,
          4.816,
          4.84,
          4.864,
          4.888,
          4.912,
          4.936,
          4.96,
          4.984,
          5.008,
          5.032,
          5.056,
          5.08,
          5.104,
          5.128,
          5.152,
          5.176,
          5.2,
          5.224,
          5.248,
          5.272,
          5.296,
          5.32,
          5.344,
          5.368,
          5.392,
          5.416,
          5.44,
          5.464,
          5.488,
          5.512,
          5.536,
          5.56,
          5.584,
          5.608,
          5.632,
          5.656,
          5.68,
          5.704,
          5.728,
          5.752,
          5.776,
          5.8,
          5.824,
          5.848,
          5.872,
          5.896,
          5.92,
          5.944,
          5.968,
          5.992,
          6.016,
          6.04,
          6.064,
          6.088,
          6.112,
          6.136,
          6.16,
          6.184,
          6.208,
          6.232,
          6.256,
          6.28,
          6.304,
          6.328,
          6.352,
          6.376,
          6.4,
          6.424,
          6.448,
          6.472,
          6.496,
          6.52,
          6.544,
          6.568,
          6.592,
          6.616,
          6.64,
          6.664,
          6.688,
          6.712,
          6.736,
          6.76,
          6.784,
          6.808,
          6.832,
          6.856,
          6.88,
          6.904,
          6.928,
          6.952,
          6.976,
          7,
          7.024,
          7.048,
          7.072,
          7.096,
          7.12,
          7.144,
          7.168,
          7.192,
          7.216,
          7.24,
          7.264,
          7.288,
          7.312,
          7.336,
          7.36,
          7.384,
          7.408,
          7.432,
          7.456,
          7.48,
          7.504,
          7.528,
          7.552,
          7.576,
          7.6,
          7.624,
          7.648,
          7.672,
          7.696,
          7.72,
          7.744,
          7.768,
          7.792,
          7.816,
          7.84,
          7.864,
          7.888,
          7.912,
          7.936,
          7.96,
          7.984,
          8.008,
          8.032,
          8.056000000000001,
          8.08,
          8.104,
          8.128,
          8.152000000000001,
          8.176,
          8.2,
          8.224,
          8.248000000000001,
          8.272,
          8.296,
          8.32,
          8.344000000000001,
          8.368,
          8.392,
          8.416,
          8.440000000000001,
          8.464,
          8.488,
          8.512,
          8.536,
          8.559999999999999,
          8.584,
          8.608,
          8.632,
          8.655999999999999,
          8.68,
          8.704,
          8.728,
          8.751999999999999,
          8.776,
          8.8,
          8.824,
          8.847999999999999,
          8.872,
          8.896,
          8.92,
          8.943999999999999,
          8.968,
          8.992,
          9.016,
          9.04,
          9.064,
          9.088,
          9.112,
          9.136,
          9.16,
          9.184,
          9.208,
          9.232,
          9.256,
          9.28,
          9.304,
          9.328,
          9.352,
          9.376,
          9.4,
          9.424,
          9.448,
          9.472,
          9.496,
          9.52,
          9.544,
          9.568,
          9.592,
          9.616,
          9.64,
          9.664,
          9.688,
          9.712,
          9.736,
          9.76,
          9.784,
          9.808,
          9.832,
          9.856,
          9.88,
          9.904,
          9.928,
          9.952,
          9.976,
          10,
          10.024,
          10.048,
          10.072,
          10.096,
          10.12,
          10.144,
          10.168,
          10.192,
          10.216,
          10.24,
          10.264,
          10.288,
          10.312,
          10.336,
          10.36,
          10.384,
          10.408,
          10.432,
          10.456,
          10.48,
          10.504,
          10.528,
          10.552,
          10.576,
          10.6,
          10.624,
          10.648,
          10.672,
          10.696,
          10.72,
          10.744,
          10.768,
          10.792,
          10.816,
          10.84,
          10.864,
          10.888,
          10.912,
          10.936,
          10.96,
          10.984,
          11.008,
          11.032,
          11.056,
          11.08,
          11.104,
          11.128,
          11.152,
          11.176,
          11.2,
          11.224,
          11.248,
          11.272,
          11.296,
          11.32,
          11.344,
          11.368,
          11.392,
          11.416,
          11.44,
          11.464,
          11.488,
          11.512,
          11.536,
          11.56,
          11.584,
          11.608,
          11.632,
          11.656,
          11.68,
          11.704,
          11.728,
          11.752,
          11.776,
          11.8,
          11.824,
          11.848,
          11.872,
          11.896,
          11.92,
          11.944,
          11.968,
          11.992,
          12.016,
          12.04,
          12.064,
          12.088,
          12.112,
          12.136,
          12.16,
          12.184,
          12.208,
          12.232,
          12.256,
          12.28,
          12.304,
          12.328,
          12.352,
          12.376,
          12.4,
          12.424,
          12.448,
          12.472,
          12.496,
          12.52,
          12.544,
          12.568,
          12.592,
          12.616,
          12.64,
          12.664,
          12.688,
          12.712,
          12.736,
          12.76,
          12.784,
          12.808,
          12.832,
          12.856,
          12.88,
          12.904,
          12.928,
          12.952,
          12.976
         ],
         "xaxis": "x",
         "y": [
          0.428126928061296,
          0.4299584031458429,
          0.43129899418889384,
          0.4321506985389405,
          0.4325175321527933,
          0.43240547634208715,
          0.43182241018425266,
          0.4307780294081563,
          0.429283752706253,
          0.4273526165534168,
          0.4249991597262315,
          0.4222392988135647,
          0.4190901960888114,
          0.41557012117493736,
          0.4116983079751554,
          0.4074948083639167,
          0.4029803441353337,
          0.3981761586889007,
          0.39310386989660473,
          0.38778532554156303,
          0.3822424626476058,
          0.3764971719331765,
          0.3705711685228186,
          0.3644858699375719,
          0.3582622822634558,
          0.3519208952670346,
          0.3454815870910696,
          0.33896353902354437,
          0.33238516069210844,
          0.3257640258955149,
          0.31911681914582435,
          0.31245929286212054,
          0.3058062350300696,
          0.2991714470234806,
          0.29256773117557383,
          0.2860068875902944,
          0.27949971959862924,
          0.2730560471924354,
          0.26668472770915763,
          0.2603936829955602,
          0.2541899322469467,
          0.24807962970042444,
          0.24206810635606135,
          0.23615991490755667,
          0.23035887708376587,
          0.2246681326328454,
          0.2190901892209877,
          0.21362697256638655,
          0.20827987618489707,
          0.20304981018549523,
          0.19793724861962303,
          0.19294227495749033,
          0.18806462533492954,
          0.18330372928516533,
          0.17865874773958976,
          0.17412860814914008,
          0.16971203664206547,
          0.16540758719388488,
          0.1612136678402323,
          0.15712856401255873,
          0.15315045911967012,
          0.1492774525345461,
          0.14550757517558424,
          0.1418388028942645,
          0.1382690678973733,
          0.13479626844148343,
          0.13141827704080947,
          0.12813294742715464,
          0.12493812049308253,
          0.1218316294371744,
          0.11881130431403239,
          0.11587497617215624,
          0.11302048094076211,
          0.110245663202676,
          0.10754837996539927,
          0.10492650451692939,
          0.10237793042765014,
          0.09990057573510377,
          0.09749238732532209,
          0.09515134550305646,
          0.09287546872411656,
          0.09066281844642128,
          0.08851150404250276,
          0.08641968770525753,
          0.08438558927076217,
          0.08240749087697166,
          0.08048374137501478,
          0.078612760410456,
          0.07679304209510109,
          0.07502315819544712,
          0.07330176077140886,
          0.07162758420819512,
          0.06999944659479217,
          0.06841625041410745,
          0.06687698252205439,
          0.06538071340539132,
          0.06392659572060012,
          0.0625138621282174,
          0.06114182244850237,
          0.05980986017489998,
          0.058517428391223585,
          0.05726404514665096,
          0.056049288349390276,
          0.05487279024512253,
          0.053734231550042054,
          0.0526333353104761,
          0.05156986056172958,
          0.0505435958580294,
          0.04955435274336071,
          0.048601959229719015,
          0.047686253345015896,
          0.046807076807750085,
          0.04596426887977267,
          0.04515766044223946,
          0.04438706833334716,
          0.04365228997988107,
          0.04295309834814975,
          0.04228923723370766,
          0.041660416903516885,
          0.041066310099010135,
          0.04050654840398096,
          0.039980718977424404,
          0.039488361648438636,
          0.03902896636808023,
          0.03860197101165705,
          0.03820675952429851,
          0.037842660402710435,
          0.0375089455067307,
          0.03720482919554523,
          0.03692946778510051,
          0.03668195932522955,
          0.03646134369716299,
          0.03626660303429357,
          0.03609666247116171,
          0.035950391227506644,
          0.03582660403575415,
          0.035724062921382596,
          0.03564147934612228,
          0.03557751672382465,
          0.03553079331802594,
          0.035499885528687124,
          0.03548333157330379,
          0.03547963556455196,
          0.03548727198290234,
          0.03550469053824375,
          0.03553032140958782,
          0.03556258084646608,
          0.03559987710979475,
          0.035640616723892266,
          0.03568321100512658,
          0.035726082826488474,
          0.03576767357138109,
          0.03580645022423496,
          0.03584091254034602,
          0.035869600232738136,
          0.03589110010999417,
          0.03590405309600545,
          0.03590716106055833,
          0.035899193388689216,
          0.035878993216866224,
          0.035845483265330026,
          0.03579767119837218,
          0.035734654447937275,
          0.03565562444067608,
          0.0355598701743983,
          0.03544678109669583,
          0.035315849246238415,
          0.035166670625759934,
          0.03499894578492783,
          0.03481247960096749,
          0.03460718025494176,
          0.034383057411793067,
          0.03414021962247294,
          0.03387887097653343,
          0.03359930704327145,
          0.03330191014872885,
          0.03298714404440676,
          0.03265554803130401,
          0.0323077306097086,
          0.03194436273094325,
          0.0315661707319001,
          0.03117392903661953,
          0.03076845271132706,
          0.03035058996020795,
          0.02992121464877178,
          0.029481218939952886,
          0.029031506125150295,
          0.02857298372829375,
          0.028106556955811417,
          0.027633122559170838,
          0.027153563169581677,
          0.026668742156614265,
          0.026179499054045104,
          0.025686645587329745,
          0.025190962327882847,
          0.024693195989964518,
          0.024194057376585906,
          0.023694219971603633,
          0.0231943191662163,
          0.02269495209953884,
          0.022196678084937107,
          0.02170001958646421,
          0.021205463703147315,
          0.020713464113109977,
          0.020224443424641005,
          0.019738795877383135,
          0.019256890333841904,
          0.018779073499414996,
          0.01830567330811189,
          0.017837002411046715,
          0.017373361705609134,
          0.01691504384489547,
          0.016462336669452585,
          0.016015526506576398,
          0.015574901286232803,
          0.01514075342704185,
          0.014713382450594151,
          0.014293097287554098,
          0.013880218244452144,
          0.013475078605682122,
          0.013078025850907988,
          0.012689422473757934,
          0.01230964639326383,
          0.011939090954912919,
          0.011578164523352781,
          0.011227289673671353,
          0.010886901992714132,
          0.010557448506062607,
          0.010239385750052945,
          0.00993317751154461,
          0.009639292261044161,
          0.009358200307250958,
          0.009090370703125435,
          0.008836267935201158,
          0.008596348429090435,
          0.008371056904994317,
          0.008160822617551067,
          0.007966055514574221,
          0.007787142349175828,
          0.007624442779476051,
          0.0074782854895999295,
          0.0073489643649877635,
          0.007236734754225915,
          0.00714180984866616,
          0.007064357210065728,
          0.007004495475365527,
          0.006962291266543479,
          0.006937756332243144,
          0.0069308449465887625,
          0.0069414515892568945,
          0.006969408929478299,
          0.007014486135183913,
          0.007076387526975941,
          0.007154751594986355,
          0.007249150394967113,
          0.007359089338124113,
          0.007484007387246431,
          0.007623277669580209,
          0.007776208514641443,
          0.007942044922745094,
          0.008119970467444013,
          0.008309109632319112,
          0.008508530579644746,
          0.008717248345379491,
          0.008934228451714984,
          0.009158390925073806,
          0.009388614704005753,
          0.0096237424179196,
          0.009862585514039462,
          0.010103929706430021,
          0.010346540717436188,
          0.010589170278476563,
          0.010830562353864957,
          0.011069459548260052,
          0.011304609655511695,
          0.011534772304132145,
          0.011758725652421722,
          0.011975273084466276,
          0.012183249856840935,
          0.012381529644939158,
          0.012569030937429544,
          0.012744723227452024,
          0.012907632949817538,
          0.013056849114683283,
          0.013191528589940799,
          0.013310900986871653,
          0.013414273106480887,
          0.01350103290728821,
          0.013570652959210915,
          0.013622693352470525,
          0.01365680403515074,
          0.013672726558074102,
          0.013670295210988448,
          0.013649437539598285,
          0.013610174238670593,
          0.013552618422218846,
          0.01347697427754941,
          0.01338353511566722,
          0.013272680836110011,
          0.013144874829640966,
          0.013000660347311468,
          0.012840656369143975,
          0.012665553010023,
          0.012476106504266683,
          0.012273133813738788,
          0.01205750690721331,
          0.0118301467609926,
          0.011592017132485729,
          0.01134411815956405,
          0.011087479839025539,
          0.010823155437422308,
          0.010552214886854233,
          0.010275738217127966,
          0.009994809073955472,
          0.009710508370657275,
          0.009423908118186237,
          0.009136065475248032,
          0.008848017056914615,
          0.00856077353646567,
          0.008275314571307273,
          0.007992584079766165,
          0.007713485891400822,
          0.007438879789266158,
          0.007169577958373403,
          0.0069063418504525555,
          0.006649879471103917,
          0.006400843091560919,
          0.006159827383620963,
          0.005927367972869365,
          0.005703940402151521,
          0.005489959494366792,
          0.005285779101078424,
          0.005091692221171601,
          0.004907931471849428,
          0.004734669892636041,
          0.004572022061751021,
          0.004420045503219607,
          0.0042787423623741935,
          0.0041480613269661015,
          0.0040278997709215425,
          0.003918106097816437,
          0.003818482261387833,
          0.003728786440815477,
          0.0036487358490705285,
          0.0035780096533098303,
          0.00351625198706882,
          0.0034630750348469586,
          0.0034180621705640316,
          0.0033807711322713803,
          0.0033507372164104845,
          0.0033274764758055787,
          0.0033104889064441414,
          0.0032992616089282507,
          0.003293271911263995,
          0.0032919904403907255,
          0.003294884130535492,
          0.00330141915711172,
          0.0033110637854684654,
          0.0033232911243433476,
          0.0033375817743857223,
          0.0033534263626059284,
          0.0033703279540811867,
          0.003387804332719813,
          0.003405390143363121,
          0.003422638887999814,
          0.0034391247693904615,
          0.003454444375959208,
          0.0034682182024140915,
          0.003480092001212765,
          0.0034897379607018698,
          0.0034968557065288668,
          0.003501173123755658,
          0.003502446997993028,
          0.0035004634748205805,
          0.0034950383377534405,
          0.0034860171060576866,
          0.0034732749547923152,
          0.0034567164605565194,
          0.0034362751775352156,
          0.003411913049550553,
          0.003383619664928877,
          0.003351411362067097,
          0.0033153301946154696,
          0.003275442766170858,
          0.003231838945282062,
          0.003184630472393056,
          0.0031339494710794073,
          0.0030799468765557135,
          0.003022790794939138,
          0.0029626648071367323,
          0.002899766231477313,
          0.0028343043593265136,
          0.0027664986779053088,
          0.002696577094375967,
          0.0026247741749682836,
          0.002551329412495038,
          0.0024764855350560464,
          0.0024004868680608388,
          0.002323577760920569,
          0.0022460010888805996,
          0.00216799683949727,
          0.0020898007922188207,
          0.0020116432984248426,
          0.001933748168123904,
          0.0018563316683211026,
          0.001779601636858654,
          0.0017037567143194775,
          0.001628985695377935,
          0.0015554669997986798,
          0.0014833682621346095,
          0.0014128460380716593,
          0.0013440456243203837,
          0.0012771009879731638,
          0.0012121348003378107,
          0.0011492585694319341,
          0.0010885728645815232,
          0.001030167625917562,
          0.0009741225510074903,
          0.0009205075503969503,
          0.0008693832634707521,
          0.000820801625770298,
          0.000774806478726074,
          0.0007314342126749493,
          0.0006907144340304988,
          0.0006526706475550999,
          0.0006173209448416424,
          0.0005846786903441615,
          0.0005547531965962331,
          0.0005275503806170278,
          0.0005030733939228168,
          0.0004813232190300015,
          0.00046229922584968097,
          0.0004459996819273602,
          0.0004324222110701216,
          0.00042156419552204363,
          0.00041342311749273245,
          0.0004079968365088019,
          0.0004052837997402884,
          0.00040528318314924587,
          0.0004079949620126908,
          0.0004134199100831462,
          0.00042155952736393654,
          0.0004324158971898542,
          0.0004459914740135563,
          0.00046228880400074114,
          0.00048131018122925235,
          0.0005030572429652977,
          0.0005275305081498472,
          0.000554728863866233,
          0.000584649005171245,
          0.0006172848342524143,
          0.0006526268254182707,
          0.0006906613629315609,
          0.0007313700591516623,
          0.0007747290608569272,
          0.0008207083519639487,
          0.0008692710611439911,
          0.0009203727830505299,
          0.000973960922011608,
          0.0010299740671003777,
          0.0010883414074732295,
          0.0011489821967520652,
          0.0012118052750231647,
          0.0012767086567265161,
          0.0013435791923147751,
          0.0014122923110703068,
          0.001482711851881463,
          0.0015546899880986367,
          0.0016280672518183396,
          0.0017026726620857824,
          0.0017783239605674208,
          0.0018548279572338487,
          0.0019319809875172087,
          0.0020095694812778554,
          0.002087370642741892,
          0.0021651532393687084,
          0.002242678496387417,
          0.002319701092519355,
          0.002395970251193642,
          0.0024712309203815622,
          0.0025452250330370483,
          0.002617692839052074,
          0.0026883742986316644,
          0.0027570105260785968,
          0.0028233452721672255,
          0.0028871264325918185,
          0.002948107569409103,
          0.0030060494319684534,
          0.003060721463543701,
          0.003111903279756067,
          0.0031593861049114855,
          0.0032029741525714858,
          0.003242485937033846,
          0.0032777555029166274,
          0.0033086335607114036,
          0.0033349885169930782,
          0.0033567073889346944,
          0.0033736965938660764,
          0.0033858826058213594,
          0.003393212472328301
         ],
         "yaxis": "y"
        },
        {
         "legendgroup": "Agglomerative Clustering",
         "marker": {
          "color": "magenta"
         },
         "mode": "lines",
         "name": "Agglomerative Clustering",
         "showlegend": false,
         "type": "scatter",
         "x": [
          1,
          1.02,
          1.04,
          1.06,
          1.08,
          1.1,
          1.12,
          1.1400000000000001,
          1.16,
          1.18,
          1.2,
          1.22,
          1.24,
          1.26,
          1.28,
          1.3,
          1.32,
          1.34,
          1.3599999999999999,
          1.38,
          1.4,
          1.42,
          1.44,
          1.46,
          1.48,
          1.5,
          1.52,
          1.54,
          1.56,
          1.58,
          1.6,
          1.62,
          1.6400000000000001,
          1.6600000000000001,
          1.6800000000000002,
          1.7,
          1.72,
          1.74,
          1.76,
          1.78,
          1.8,
          1.8199999999999998,
          1.8399999999999999,
          1.8599999999999999,
          1.88,
          1.9,
          1.92,
          1.94,
          1.96,
          1.98,
          2,
          2.02,
          2.04,
          2.06,
          2.08,
          2.1,
          2.12,
          2.1399999999999997,
          2.16,
          2.1799999999999997,
          2.2,
          2.2199999999999998,
          2.24,
          2.26,
          2.2800000000000002,
          2.3,
          2.3200000000000003,
          2.34,
          2.3600000000000003,
          2.38,
          2.4,
          2.42,
          2.44,
          2.46,
          2.48,
          2.5,
          2.52,
          2.54,
          2.56,
          2.58,
          2.6,
          2.62,
          2.6399999999999997,
          2.66,
          2.6799999999999997,
          2.7,
          2.7199999999999998,
          2.74,
          2.76,
          2.7800000000000002,
          2.8,
          2.8200000000000003,
          2.84,
          2.8600000000000003,
          2.88,
          2.9,
          2.92,
          2.94,
          2.96,
          2.98,
          3,
          3.02,
          3.04,
          3.06,
          3.08,
          3.1,
          3.12,
          3.14,
          3.16,
          3.18,
          3.2,
          3.22,
          3.24,
          3.26,
          3.28,
          3.3,
          3.32,
          3.34,
          3.36,
          3.38,
          3.4,
          3.42,
          3.44,
          3.46,
          3.48,
          3.5,
          3.52,
          3.54,
          3.56,
          3.58,
          3.6,
          3.62,
          3.64,
          3.66,
          3.68,
          3.7,
          3.72,
          3.74,
          3.76,
          3.78,
          3.8,
          3.82,
          3.84,
          3.86,
          3.88,
          3.9,
          3.92,
          3.94,
          3.96,
          3.98,
          4,
          4.02,
          4.04,
          4.0600000000000005,
          4.08,
          4.1,
          4.12,
          4.140000000000001,
          4.16,
          4.18,
          4.2,
          4.220000000000001,
          4.24,
          4.26,
          4.279999999999999,
          4.3,
          4.32,
          4.34,
          4.359999999999999,
          4.38,
          4.4,
          4.42,
          4.4399999999999995,
          4.46,
          4.48,
          4.5,
          4.52,
          4.54,
          4.5600000000000005,
          4.58,
          4.6,
          4.62,
          4.640000000000001,
          4.66,
          4.68,
          4.7,
          4.720000000000001,
          4.74,
          4.76,
          4.779999999999999,
          4.8,
          4.82,
          4.84,
          4.859999999999999,
          4.88,
          4.9,
          4.92,
          4.9399999999999995,
          4.96,
          4.98,
          5,
          5.02,
          5.04,
          5.06,
          5.08,
          5.1,
          5.12,
          5.14,
          5.16,
          5.18,
          5.2,
          5.22,
          5.24,
          5.26,
          5.28,
          5.3,
          5.32,
          5.34,
          5.36,
          5.38,
          5.4,
          5.42,
          5.44,
          5.46,
          5.48,
          5.5,
          5.52,
          5.54,
          5.56,
          5.58,
          5.6,
          5.62,
          5.64,
          5.66,
          5.68,
          5.7,
          5.72,
          5.74,
          5.76,
          5.78,
          5.8,
          5.82,
          5.84,
          5.86,
          5.88,
          5.9,
          5.92,
          5.94,
          5.96,
          5.98,
          6,
          6.02,
          6.04,
          6.06,
          6.08,
          6.1,
          6.12,
          6.14,
          6.16,
          6.18,
          6.2,
          6.22,
          6.24,
          6.26,
          6.28,
          6.3,
          6.32,
          6.34,
          6.36,
          6.38,
          6.4,
          6.42,
          6.44,
          6.46,
          6.48,
          6.5,
          6.52,
          6.54,
          6.56,
          6.58,
          6.6,
          6.62,
          6.64,
          6.66,
          6.68,
          6.7,
          6.72,
          6.74,
          6.76,
          6.78,
          6.8,
          6.82,
          6.84,
          6.86,
          6.88,
          6.9,
          6.92,
          6.94,
          6.96,
          6.98,
          7,
          7.02,
          7.04,
          7.06,
          7.08,
          7.1,
          7.12,
          7.14,
          7.16,
          7.18,
          7.2,
          7.22,
          7.24,
          7.26,
          7.28,
          7.3,
          7.32,
          7.34,
          7.36,
          7.38,
          7.4,
          7.42,
          7.44,
          7.46,
          7.48,
          7.5,
          7.52,
          7.54,
          7.56,
          7.58,
          7.6,
          7.62,
          7.64,
          7.66,
          7.68,
          7.7,
          7.72,
          7.74,
          7.76,
          7.78,
          7.8,
          7.82,
          7.84,
          7.86,
          7.88,
          7.9,
          7.92,
          7.94,
          7.96,
          7.98,
          8,
          8.02,
          8.04,
          8.059999999999999,
          8.08,
          8.1,
          8.120000000000001,
          8.14,
          8.16,
          8.18,
          8.2,
          8.219999999999999,
          8.24,
          8.26,
          8.280000000000001,
          8.3,
          8.32,
          8.34,
          8.36,
          8.379999999999999,
          8.4,
          8.42,
          8.440000000000001,
          8.46,
          8.48,
          8.5,
          8.52,
          8.54,
          8.559999999999999,
          8.58,
          8.6,
          8.620000000000001,
          8.64,
          8.66,
          8.68,
          8.7,
          8.719999999999999,
          8.74,
          8.76,
          8.780000000000001,
          8.8,
          8.82,
          8.84,
          8.86,
          8.879999999999999,
          8.9,
          8.92,
          8.940000000000001,
          8.96,
          8.98,
          9,
          9.02,
          9.04,
          9.06,
          9.08,
          9.1,
          9.12,
          9.14,
          9.16,
          9.18,
          9.2,
          9.22,
          9.24,
          9.26,
          9.28,
          9.3,
          9.32,
          9.34,
          9.36,
          9.38,
          9.4,
          9.42,
          9.44,
          9.46,
          9.48,
          9.5,
          9.52,
          9.54,
          9.56,
          9.58,
          9.6,
          9.62,
          9.64,
          9.66,
          9.68,
          9.7,
          9.72,
          9.74,
          9.76,
          9.78,
          9.8,
          9.82,
          9.84,
          9.86,
          9.88,
          9.9,
          9.92,
          9.94,
          9.96,
          9.98,
          10,
          10.02,
          10.04,
          10.06,
          10.08,
          10.1,
          10.12,
          10.14,
          10.16,
          10.18,
          10.2,
          10.22,
          10.24,
          10.26,
          10.28,
          10.3,
          10.32,
          10.34,
          10.36,
          10.38,
          10.4,
          10.42,
          10.44,
          10.46,
          10.48,
          10.5,
          10.52,
          10.54,
          10.56,
          10.58,
          10.6,
          10.62,
          10.64,
          10.66,
          10.68,
          10.7,
          10.72,
          10.74,
          10.76,
          10.78,
          10.8,
          10.82,
          10.84,
          10.86,
          10.88,
          10.9,
          10.92,
          10.94,
          10.96,
          10.98
         ],
         "xaxis": "x",
         "y": [
          0.6308426042621708,
          0.6310869810747497,
          0.6305108645711467,
          0.629119790086251,
          0.626922650860524,
          0.6239316294002092,
          0.6201621059991793,
          0.6156325453127041,
          0.6103643620855174,
          0.6043817673353413,
          0.5977115964760229,
          0.590383121029663,
          0.5824278457221103,
          0.573879292880079,
          0.5647727761487712,
          0.5551451656259779,
          0.5450346465607541,
          0.5344804737924823,
          0.5235227241085822,
          0.5122020486773128,
          0.5005594276664829,
          0.48863592909040093,
          0.4764724738374597,
          0.46410960872094575,
          0.45158728926787145,
          0.43894467381643015,
          0.4262199303351455,
          0.4134500572072831,
          0.4006707190457277,
          0.3879160984185187,
          0.37521876417624267,
          0.36260955688161634,
          0.35011749165204525,
          0.3377696785391639,
          0.3255912603883189,
          0.3136053679473126,
          0.3018330918295825,
          0.29029347078391027,
          0.2790034955824432,
          0.26797812771216295,
          0.25723033194353434,
          0.24677112175394852,
          0.236609616504042,
          0.226753109201682,
          0.2172071436416979,
          0.20797559967915644,
          0.1990607853795047,
          0.19046353478982914,
          0.18218331009091787,
          0.17421830691882315,
          0.16656556168613923,
          0.15922105978600792,
          0.15217984362462167,
          0.14543611949940385,
          0.13898336241857712,
          0.13281441804221486,
          0.12692160101346078,
          0.12129678904019386,
          0.11593151218045059,
          0.1108170368782385,
          0.10594444438859137,
          0.10130470332084357,
          0.09688873611593254,
          0.09268747935625476,
          0.08869193788433317,
          0.084893232778612,
          0.08128264330051044,
          0.07785164298603178,
          0.0745919301073498,
          0.07149545277477794,
          0.06855442898720002,
          0.06576136196951471,
          0.06310905115900228,
          0.06059059921900925,
          0.05819941546828905,
          0.05592921611810064,
          0.05377402170721516,
          0.051728152117812086,
          0.04978621954339946,
          0.04794311976394424,
          0.04619402206393051,
          0.044534358106682506,
          0.042959810053582625,
          0.0414662981903733,
          0.04004996829512602,
          0.03870717895421388,
          0.03743448900427292,
          0.03622864525011399,
          0.035086570581315944,
          0.034005352584133466,
          0.03298223272075465,
          0.03201459612509288,
          0.031099962043445027,
          0.030235974929654106,
          0.029420396188014664,
          0.028651096543120206,
          0.027926049004213242,
          0.02724332238233384,
          0.02660107531162822,
          0.025997550721472463,
          0.025431070703470598,
          0.024900031716742644,
          0.024402900076053766,
          0.023938207670048946,
          0.02350454786094443,
          0.02310057152225744,
          0.022724983177312925,
          0.022376537208111644,
          0.022054034111460362,
          0.021756316786827858,
          0.021482266847993346,
          0.021230800957997013,
          0.021000867194008496,
          0.020791441455330368,
          0.02060152393371066,
          0.020430135670325256,
          0.020276315228109732,
          0.02013911551149259,
          0.020017600767953055,
          0.019910843807167976,
          0.019817923473810773,
          0.01973792240933909,
          0.019669925136385723,
          0.01961301649670409,
          0.019566280470085073,
          0.01952879939734021,
          0.019499653625436895,
          0.019477921587283252,
          0.019462680322612846,
          0.01945300644003631,
          0.019447977513739195,
          0.019446673901639865,
          0.019448180965212423,
          0.01945159166474995,
          0.019456009497716975,
          0.019460551742130888,
          0.019464352961724198,
          0.019466568725070483,
          0.019466379486985673,
          0.019462994577416314,
          0.019455656240749436,
          0.01944364366706782,
          0.019426276956352274,
          0.019402920957011117,
          0.01937298892138793,
          0.01933594592304339,
          0.01929131198358795,
          0.01923866486061169,
          0.019177642452753572,
          0.019107944783100815,
          0.019029335527827818,
          0.018941643063180053,
          0.018844761010483255,
          0.018738648265707987,
          0.018623328507136362,
          0.018498889181751535,
          0.018365479977994648,
          0.018223310799397357,
          0.018072649260200625,
          0.017913817730311993,
          0.017747189962743267,
          0.01757318734192356,
          0.017392274795927812,
          0.01720495641963089,
          0.017011770859043682,
          0.016813286509566993,
          0.01661009658258562,
          0.016402814095703353,
          0.0161920668419871,
          0.015978492392856716,
          0.01576273318774759,
          0.015545431761422096,
          0.015327226156858484,
          0.015108745568057332,
          0.014890606252942648,
          0.014673407751868548,
          0.014457729442155051,
          0.014244127453650854,
          0.014033131964647878,
          0.013825244891642514,
          0.013620937980544591,
          0.013420651301069786,
          0.013224792140303105,
          0.013033734285879046,
          0.012847817683968338,
          0.012667348452369626,
          0.012492599224544971,
          0.012323809796473462,
          0.012161188044779121,
          0.012004911081761507,
          0.011855126610752359,
          0.011711954443663197,
          0.011575488141688203,
          0.011445796739886278,
          0.011322926516777016,
          0.011206902771128256,
          0.011097731569759661,
          0.010995401432399491,
          0.010899884922364409,
          0.01081114011503083,
          0.0107291119196714,
          0.01065373323417534,
          0.010584925916386732,
          0.01052260156020685,
          0.010466662069139595,
          0.010417000024537283,
          0.010373498850349785,
          0.010336032780621333,
          0.01030446664024115,
          0.010278655453471248,
          0.010258443898481785,
          0.010243665629464854,
          0.010234142490819595,
          0.010229683650361743,
          0.010230084680473053,
          0.010235126617542242,
          0.010244575030940993,
          0.010258179133115292,
          0.010275670962153075,
          0.010296764667421165,
          0.010321155927564383,
          0.010348521528351294,
          0.010378519125567757,
          0.010410787215439319,
          0.010444945331954059,
          0.010480594487009278,
          0.010517317865576059,
          0.010554681784124949,
          0.01059223691644805,
          0.010629519786812485,
          0.010666054526154232,
          0.010701354882835787,
          0.010734926475410262,
          0.010766269270922701,
          0.010794880268593526,
          0.010820256365327678,
          0.010841897376423985,
          0.01085930918216922,
          0.01087200696872831,
          0.010879518529918263,
          0.010881387595102602,
          0.010877177147583815,
          0.010866472697511608,
          0.010848885473467164,
          0.010824055497521905,
          0.010791654509689606,
          0.010751388709273085,
          0.010703001282623206,
          0.01064627468924492,
          0.010581032680963796,
          0.010507142031962246,
          0.010424513960859336,
          0.010333105229590389,
          0.01023291890758795,
          0.01012400479361883,
          0.010006459491536637,
          0.009880426140108894,
          0.00974609380091828,
          0.009603696512064885,
          0.009453512018961285,
          0.009295860196866533,
          0.009131101182908087,
          0.008959633238151767,
          0.008781890362768946,
          0.008598339689487578,
          0.008409478682280602,
          0.008215832168623831,
          0.008017949234639575,
          0.007816400013026572,
          0.007611772393866453,
          0.0074046686882,
          0.00719570227369866,
          0.006985494250836594,
          0.006774670136722997,
          0.006563856622209789,
          0.0063536784160813245,
          0.006144755198094084,
          0.005937698700405213,
          0.0057331099345478585,
          0.005531576578620108,
          0.005333670536794656,
          0.005139945680667955,
          0.004950935779392194,
          0.004767152623008255,
          0.004589084340960762,
          0.00441719391545953,
          0.004251917887188472,
          0.004093665248877724,
          0.003942816520474148,
          0.0037997229980858004,
          0.003664706167555541,
          0.003538057272445744,
          0.0034200370253989506,
          0.0033108754512777916,
          0.0032107718501811263,
          0.003119894868373817,
          0.003038382665345298,
          0.0029663431656118833,
          0.0029038543844823544,
          0.0028509648177941493,
          0.0028076938865756714,
          0.002774032428672185,
          0.0027499432305616326,
          0.0027353615938531185,
          0.0027301959322753,
          0.002734328396294602,
          0.002747615523824043,
          0.002769888916763643,
          0.0028009559443247147,
          0.002840600475206638,
          0.0028885836416914115,
          0.002944644639576539,
          0.0030085015685614013,
          0.0030798523182198187,
          0.0031583755050195545,
          0.00324373146597813,
          0.0033355633144685304,
          0.003433498063405584,
          0.0035371478205566275,
          0.0036461110600336305,
          0.003759973973148395,
          0.0038783119007602244,
          0.004000690848033849,
          0.004126669081173275,
          0.004255798804228308,
          0.004387627912508715,
          0.004521701817515114,
          0.0046575653366334215,
          0.004794764639172736,
          0.004932849238685278,
          0.005071374019923198,
          0.0052099012872924705,
          0.0053480028202884085,
          0.0054852619201710435,
          0.005621275431088051,
          0.005755655718004673,
          0.005888032583175328,
          0.006018055102511404,
          0.006145393363078258,
          0.006269740083105221,
          0.006390812096322091,
          0.006508351683148605,
          0.006622127732257696,
          0.006731936717304278,
          0.006837603475147486,
          0.006938981773681929,
          0.007035954659411964,
          0.007128434577130547,
          0.007216363256471239,
          0.007299711362659679,
          0.007378477911463443,
          0.007452689451091113,
          0.007522399016582958,
          0.007587684865027271,
          0.007648649002686026,
          0.007705415517780479,
          0.0077581287352298176,
          0.007806951212014272,
          0.007852061594010053,
          0.007893652357080718,
          0.007931927456875472,
          0.007967099913150144,
          0.00799938935546529,
          0.008029019557808138,
          0.008056215990014201,
          0.008081203413820603,
          0.008104203550960828,
          0.008125432849910894,
          0.008145100376725983,
          0.008163405853876593,
          0.008180537869122147,
          0.008196672274270709,
          0.008211970791194652,
          0.008226579839736212,
          0.008240629599181927,
          0.008254233311851256,
          0.008267486834076928,
          0.0082804684364989,
          0.00829323885219911,
          0.008305841567819326,
          0.008318303349479528,
          0.008330634992098228,
          0.008342832277656802,
          0.008354877125093672,
          0.008366738911903213,
          0.008378375945189196,
          0.008389737057918446,
          0.008400763304467915,
          0.008411389728284046,
          0.008421547173596397,
          0.008431164112662634,
          0.008440168459977297,
          0.008448489345253336,
          0.008456058817778953,
          0.008462813455951589,
          0.008468695857378292,
          0.008473655986884295,
          0.008477652362060306,
          0.008480653058569468,
          0.008482636520288817,
          0.008483592162434002,
          0.008483520759063947,
          0.008482434609735114,
          0.008480357483521555,
          0.008477324342085544,
          0.008473380846921051,
          0.00846858265924684,
          0.008462994544246715,
          0.008456689294392377,
          0.008449746489393617,
          0.00844225111285845,
          0.008434292047974272,
          0.008425960476406057,
          0.008417348206121365,
          0.008408545954971236,
          0.00839964161756497,
          0.008390718543264638,
          0.008381853852988504,
          0.00837311682195405,
          0.00836456735451998,
          0.008356254575918409,
          0.008348215563924519,
          0.008340474241418904,
          0.008333040448390037,
          0.008325909209238013,
          0.008319060208317687,
          0.008312457483543936,
          0.008306049344622531,
          0.008299768519116072,
          0.008293532526157119,
          0.008287244274231432,
          0.008280792876124318,
          0.008274054670902416,
          0.008266894439740354,
          0.008259166799541555,
          0.008250717755687934,
          0.008241386392922065,
          0.008231006681351478,
          0.008219409372896986,
          0.008206423962208286,
          0.008191880685158219,
          0.008175612527513533,
          0.008157457216269967,
          0.008137259166432396,
          0.008114871356709564,
          0.008090157108664762,
          0.008062991745300027,
          0.008033264106828367,
          0.00800087790347672,
          0.007965752887528975,
          0.007927825829425748,
          0.007887051285545352,
          0.007843402148255088,
          0.007796869971898606,
          0.007747465071527212,
          0.007695216394343629,
          0.007640171166959317,
          0.007582394324625316,
          0.00752196773153757,
          0.0074589892040989834,
          0.007393571351603684,
          0.007325840251157977,
          0.007255933975736752,
          0.007184000996065922,
          0.007110198478499418,
          0.0070346905022051764,
          0.006957646219777578,
          0.0068792379858461615,
          0.00679963947835205,
          0.006719023836917045,
          0.0066375618421461256,
          0.006555420158795039,
          0.00647275966452037,
          0.006389733884431729,
          0.0063064875499120035,
          0.006223155298191223,
          0.006139860526985839,
          0.006056714416182329,
          0.005973815126089351,
          0.005891247179243475,
          0.00580908103016776,
          0.005727372824889075,
          0.005646164349454632,
          0.0055654831641890196,
          0.005485342918032021,
          0.0054057438350287035,
          0.005326673362934194,
          0.005248106971973814,
          0.005170009090086518,
          0.005092334159495949,
          0.005015027798213074,
          0.004938028049089618,
          0.004861266698318597,
          0.00478467064482115,
          0.004708163301765928,
          0.00463166601153441,
          0.004555099455763797,
          0.004478385042657292,
          0.004401446254533809,
          0.004324209939578479
         ],
         "yaxis": "y"
        }
       ],
       "layout": {
        "barmode": "overlay",
        "hovermode": "closest",
        "legend": {
         "traceorder": "reversed"
        },
        "template": {
         "data": {
          "bar": [
           {
            "error_x": {
             "color": "#2a3f5f"
            },
            "error_y": {
             "color": "#2a3f5f"
            },
            "marker": {
             "line": {
              "color": "#E5ECF6",
              "width": 0.5
             },
             "pattern": {
              "fillmode": "overlay",
              "size": 10,
              "solidity": 0.2
             }
            },
            "type": "bar"
           }
          ],
          "barpolar": [
           {
            "marker": {
             "line": {
              "color": "#E5ECF6",
              "width": 0.5
             },
             "pattern": {
              "fillmode": "overlay",
              "size": 10,
              "solidity": 0.2
             }
            },
            "type": "barpolar"
           }
          ],
          "carpet": [
           {
            "aaxis": {
             "endlinecolor": "#2a3f5f",
             "gridcolor": "white",
             "linecolor": "white",
             "minorgridcolor": "white",
             "startlinecolor": "#2a3f5f"
            },
            "baxis": {
             "endlinecolor": "#2a3f5f",
             "gridcolor": "white",
             "linecolor": "white",
             "minorgridcolor": "white",
             "startlinecolor": "#2a3f5f"
            },
            "type": "carpet"
           }
          ],
          "choropleth": [
           {
            "colorbar": {
             "outlinewidth": 0,
             "ticks": ""
            },
            "type": "choropleth"
           }
          ],
          "contour": [
           {
            "colorbar": {
             "outlinewidth": 0,
             "ticks": ""
            },
            "colorscale": [
             [
              0,
              "#0d0887"
             ],
             [
              0.1111111111111111,
              "#46039f"
             ],
             [
              0.2222222222222222,
              "#7201a8"
             ],
             [
              0.3333333333333333,
              "#9c179e"
             ],
             [
              0.4444444444444444,
              "#bd3786"
             ],
             [
              0.5555555555555556,
              "#d8576b"
             ],
             [
              0.6666666666666666,
              "#ed7953"
             ],
             [
              0.7777777777777778,
              "#fb9f3a"
             ],
             [
              0.8888888888888888,
              "#fdca26"
             ],
             [
              1,
              "#f0f921"
             ]
            ],
            "type": "contour"
           }
          ],
          "contourcarpet": [
           {
            "colorbar": {
             "outlinewidth": 0,
             "ticks": ""
            },
            "type": "contourcarpet"
           }
          ],
          "heatmap": [
           {
            "colorbar": {
             "outlinewidth": 0,
             "ticks": ""
            },
            "colorscale": [
             [
              0,
              "#0d0887"
             ],
             [
              0.1111111111111111,
              "#46039f"
             ],
             [
              0.2222222222222222,
              "#7201a8"
             ],
             [
              0.3333333333333333,
              "#9c179e"
             ],
             [
              0.4444444444444444,
              "#bd3786"
             ],
             [
              0.5555555555555556,
              "#d8576b"
             ],
             [
              0.6666666666666666,
              "#ed7953"
             ],
             [
              0.7777777777777778,
              "#fb9f3a"
             ],
             [
              0.8888888888888888,
              "#fdca26"
             ],
             [
              1,
              "#f0f921"
             ]
            ],
            "type": "heatmap"
           }
          ],
          "heatmapgl": [
           {
            "colorbar": {
             "outlinewidth": 0,
             "ticks": ""
            },
            "colorscale": [
             [
              0,
              "#0d0887"
             ],
             [
              0.1111111111111111,
              "#46039f"
             ],
             [
              0.2222222222222222,
              "#7201a8"
             ],
             [
              0.3333333333333333,
              "#9c179e"
             ],
             [
              0.4444444444444444,
              "#bd3786"
             ],
             [
              0.5555555555555556,
              "#d8576b"
             ],
             [
              0.6666666666666666,
              "#ed7953"
             ],
             [
              0.7777777777777778,
              "#fb9f3a"
             ],
             [
              0.8888888888888888,
              "#fdca26"
             ],
             [
              1,
              "#f0f921"
             ]
            ],
            "type": "heatmapgl"
           }
          ],
          "histogram": [
           {
            "marker": {
             "pattern": {
              "fillmode": "overlay",
              "size": 10,
              "solidity": 0.2
             }
            },
            "type": "histogram"
           }
          ],
          "histogram2d": [
           {
            "colorbar": {
             "outlinewidth": 0,
             "ticks": ""
            },
            "colorscale": [
             [
              0,
              "#0d0887"
             ],
             [
              0.1111111111111111,
              "#46039f"
             ],
             [
              0.2222222222222222,
              "#7201a8"
             ],
             [
              0.3333333333333333,
              "#9c179e"
             ],
             [
              0.4444444444444444,
              "#bd3786"
             ],
             [
              0.5555555555555556,
              "#d8576b"
             ],
             [
              0.6666666666666666,
              "#ed7953"
             ],
             [
              0.7777777777777778,
              "#fb9f3a"
             ],
             [
              0.8888888888888888,
              "#fdca26"
             ],
             [
              1,
              "#f0f921"
             ]
            ],
            "type": "histogram2d"
           }
          ],
          "histogram2dcontour": [
           {
            "colorbar": {
             "outlinewidth": 0,
             "ticks": ""
            },
            "colorscale": [
             [
              0,
              "#0d0887"
             ],
             [
              0.1111111111111111,
              "#46039f"
             ],
             [
              0.2222222222222222,
              "#7201a8"
             ],
             [
              0.3333333333333333,
              "#9c179e"
             ],
             [
              0.4444444444444444,
              "#bd3786"
             ],
             [
              0.5555555555555556,
              "#d8576b"
             ],
             [
              0.6666666666666666,
              "#ed7953"
             ],
             [
              0.7777777777777778,
              "#fb9f3a"
             ],
             [
              0.8888888888888888,
              "#fdca26"
             ],
             [
              1,
              "#f0f921"
             ]
            ],
            "type": "histogram2dcontour"
           }
          ],
          "mesh3d": [
           {
            "colorbar": {
             "outlinewidth": 0,
             "ticks": ""
            },
            "type": "mesh3d"
           }
          ],
          "parcoords": [
           {
            "line": {
             "colorbar": {
              "outlinewidth": 0,
              "ticks": ""
             }
            },
            "type": "parcoords"
           }
          ],
          "pie": [
           {
            "automargin": true,
            "type": "pie"
           }
          ],
          "scatter": [
           {
            "fillpattern": {
             "fillmode": "overlay",
             "size": 10,
             "solidity": 0.2
            },
            "type": "scatter"
           }
          ],
          "scatter3d": [
           {
            "line": {
             "colorbar": {
              "outlinewidth": 0,
              "ticks": ""
             }
            },
            "marker": {
             "colorbar": {
              "outlinewidth": 0,
              "ticks": ""
             }
            },
            "type": "scatter3d"
           }
          ],
          "scattercarpet": [
           {
            "marker": {
             "colorbar": {
              "outlinewidth": 0,
              "ticks": ""
             }
            },
            "type": "scattercarpet"
           }
          ],
          "scattergeo": [
           {
            "marker": {
             "colorbar": {
              "outlinewidth": 0,
              "ticks": ""
             }
            },
            "type": "scattergeo"
           }
          ],
          "scattergl": [
           {
            "marker": {
             "colorbar": {
              "outlinewidth": 0,
              "ticks": ""
             }
            },
            "type": "scattergl"
           }
          ],
          "scattermapbox": [
           {
            "marker": {
             "colorbar": {
              "outlinewidth": 0,
              "ticks": ""
             }
            },
            "type": "scattermapbox"
           }
          ],
          "scatterpolar": [
           {
            "marker": {
             "colorbar": {
              "outlinewidth": 0,
              "ticks": ""
             }
            },
            "type": "scatterpolar"
           }
          ],
          "scatterpolargl": [
           {
            "marker": {
             "colorbar": {
              "outlinewidth": 0,
              "ticks": ""
             }
            },
            "type": "scatterpolargl"
           }
          ],
          "scatterternary": [
           {
            "marker": {
             "colorbar": {
              "outlinewidth": 0,
              "ticks": ""
             }
            },
            "type": "scatterternary"
           }
          ],
          "surface": [
           {
            "colorbar": {
             "outlinewidth": 0,
             "ticks": ""
            },
            "colorscale": [
             [
              0,
              "#0d0887"
             ],
             [
              0.1111111111111111,
              "#46039f"
             ],
             [
              0.2222222222222222,
              "#7201a8"
             ],
             [
              0.3333333333333333,
              "#9c179e"
             ],
             [
              0.4444444444444444,
              "#bd3786"
             ],
             [
              0.5555555555555556,
              "#d8576b"
             ],
             [
              0.6666666666666666,
              "#ed7953"
             ],
             [
              0.7777777777777778,
              "#fb9f3a"
             ],
             [
              0.8888888888888888,
              "#fdca26"
             ],
             [
              1,
              "#f0f921"
             ]
            ],
            "type": "surface"
           }
          ],
          "table": [
           {
            "cells": {
             "fill": {
              "color": "#EBF0F8"
             },
             "line": {
              "color": "white"
             }
            },
            "header": {
             "fill": {
              "color": "#C8D4E3"
             },
             "line": {
              "color": "white"
             }
            },
            "type": "table"
           }
          ]
         },
         "layout": {
          "annotationdefaults": {
           "arrowcolor": "#2a3f5f",
           "arrowhead": 0,
           "arrowwidth": 1
          },
          "autotypenumbers": "strict",
          "coloraxis": {
           "colorbar": {
            "outlinewidth": 0,
            "ticks": ""
           }
          },
          "colorscale": {
           "diverging": [
            [
             0,
             "#8e0152"
            ],
            [
             0.1,
             "#c51b7d"
            ],
            [
             0.2,
             "#de77ae"
            ],
            [
             0.3,
             "#f1b6da"
            ],
            [
             0.4,
             "#fde0ef"
            ],
            [
             0.5,
             "#f7f7f7"
            ],
            [
             0.6,
             "#e6f5d0"
            ],
            [
             0.7,
             "#b8e186"
            ],
            [
             0.8,
             "#7fbc41"
            ],
            [
             0.9,
             "#4d9221"
            ],
            [
             1,
             "#276419"
            ]
           ],
           "sequential": [
            [
             0,
             "#0d0887"
            ],
            [
             0.1111111111111111,
             "#46039f"
            ],
            [
             0.2222222222222222,
             "#7201a8"
            ],
            [
             0.3333333333333333,
             "#9c179e"
            ],
            [
             0.4444444444444444,
             "#bd3786"
            ],
            [
             0.5555555555555556,
             "#d8576b"
            ],
            [
             0.6666666666666666,
             "#ed7953"
            ],
            [
             0.7777777777777778,
             "#fb9f3a"
            ],
            [
             0.8888888888888888,
             "#fdca26"
            ],
            [
             1,
             "#f0f921"
            ]
           ],
           "sequentialminus": [
            [
             0,
             "#0d0887"
            ],
            [
             0.1111111111111111,
             "#46039f"
            ],
            [
             0.2222222222222222,
             "#7201a8"
            ],
            [
             0.3333333333333333,
             "#9c179e"
            ],
            [
             0.4444444444444444,
             "#bd3786"
            ],
            [
             0.5555555555555556,
             "#d8576b"
            ],
            [
             0.6666666666666666,
             "#ed7953"
            ],
            [
             0.7777777777777778,
             "#fb9f3a"
            ],
            [
             0.8888888888888888,
             "#fdca26"
            ],
            [
             1,
             "#f0f921"
            ]
           ]
          },
          "colorway": [
           "#636efa",
           "#EF553B",
           "#00cc96",
           "#ab63fa",
           "#FFA15A",
           "#19d3f3",
           "#FF6692",
           "#B6E880",
           "#FF97FF",
           "#FECB52"
          ],
          "font": {
           "color": "#2a3f5f"
          },
          "geo": {
           "bgcolor": "white",
           "lakecolor": "white",
           "landcolor": "#E5ECF6",
           "showlakes": true,
           "showland": true,
           "subunitcolor": "white"
          },
          "hoverlabel": {
           "align": "left"
          },
          "hovermode": "closest",
          "mapbox": {
           "style": "light"
          },
          "paper_bgcolor": "white",
          "plot_bgcolor": "#E5ECF6",
          "polar": {
           "angularaxis": {
            "gridcolor": "white",
            "linecolor": "white",
            "ticks": ""
           },
           "bgcolor": "#E5ECF6",
           "radialaxis": {
            "gridcolor": "white",
            "linecolor": "white",
            "ticks": ""
           }
          },
          "scene": {
           "xaxis": {
            "backgroundcolor": "#E5ECF6",
            "gridcolor": "white",
            "gridwidth": 2,
            "linecolor": "white",
            "showbackground": true,
            "ticks": "",
            "zerolinecolor": "white"
           },
           "yaxis": {
            "backgroundcolor": "#E5ECF6",
            "gridcolor": "white",
            "gridwidth": 2,
            "linecolor": "white",
            "showbackground": true,
            "ticks": "",
            "zerolinecolor": "white"
           },
           "zaxis": {
            "backgroundcolor": "#E5ECF6",
            "gridcolor": "white",
            "gridwidth": 2,
            "linecolor": "white",
            "showbackground": true,
            "ticks": "",
            "zerolinecolor": "white"
           }
          },
          "shapedefaults": {
           "line": {
            "color": "#2a3f5f"
           }
          },
          "ternary": {
           "aaxis": {
            "gridcolor": "white",
            "linecolor": "white",
            "ticks": ""
           },
           "baxis": {
            "gridcolor": "white",
            "linecolor": "white",
            "ticks": ""
           },
           "bgcolor": "#E5ECF6",
           "caxis": {
            "gridcolor": "white",
            "linecolor": "white",
            "ticks": ""
           }
          },
          "title": {
           "x": 0.05
          },
          "xaxis": {
           "automargin": true,
           "gridcolor": "white",
           "linecolor": "white",
           "ticks": "",
           "title": {
            "standoff": 15
           },
           "zerolinecolor": "white",
           "zerolinewidth": 2
          },
          "yaxis": {
           "automargin": true,
           "gridcolor": "white",
           "linecolor": "white",
           "ticks": "",
           "title": {
            "standoff": 15
           },
           "zerolinecolor": "white",
           "zerolinewidth": 2
          }
         }
        },
        "title": {
         "text": ""
        },
        "xaxis": {
         "anchor": "y2",
         "domain": [
          0,
          1
         ],
         "zeroline": false
        },
        "yaxis": {
         "anchor": "free",
         "domain": [
          0,
          1
         ],
         "position": 0
        }
       }
      },
      "text/html": [
       "<div>                            <div id=\"4cd96d30-ab58-44e1-bd98-117cc3d728b7\" class=\"plotly-graph-div\" style=\"height:525px; width:100%;\"></div>            <script type=\"text/javascript\">                require([\"plotly\"], function(Plotly) {                    window.PLOTLYENV=window.PLOTLYENV || {};                                    if (document.getElementById(\"4cd96d30-ab58-44e1-bd98-117cc3d728b7\")) {                    Plotly.newPlot(                        \"4cd96d30-ab58-44e1-bd98-117cc3d728b7\",                        [{\"autobinx\":false,\"histnorm\":\"probability density\",\"legendgroup\":\"Standard\",\"marker\":{\"color\":\"slategray\"},\"name\":\"Standard\",\"opacity\":0.7,\"x\":[1,1,1,1,1,1,1,1,1,1,1,1,1,1,1,1,1,1,1,1,1,1,1,1,1,1,1,1,1,1,1,1,1,1,1,1,1,1,1,1,1,1,1,1,1,1,1,1,1,1,1,1,1,1,1,1,1,1,1,1,1,1,1,1,1,1,1,1,1,1,1,1,1,1,1,1,1,1,1,1,1,1,1,1,1,1,1,1,1,1,1,1,1,1,1,1,1,1,1,1,1,1,1,1,1,1,1,1,1,1,1,1,1,1,1,1,2,2,2,2,2,2,2,2,2,2,2,2,2,2,2,2,2,2,2,2,2,2,2,2,2,2,2,2,2,2,2,2,2,2,2,3,3,3,3,3,3,3,3,3,3,3,3,3,4,4,4,4,4,5,5,5,5,5,5,5,5,6,6,6,8,8,8,8,10,13],\"xaxis\":\"x\",\"xbins\":{\"end\":13.0,\"size\":1,\"start\":1.0},\"yaxis\":\"y\",\"type\":\"histogram\"},{\"autobinx\":false,\"histnorm\":\"probability density\",\"legendgroup\":\"Agglomerative Clustering\",\"marker\":{\"color\":\"magenta\"},\"name\":\"Agglomerative Clustering\",\"opacity\":0.7,\"x\":[1,1,1,1,1,1,1,1,1,1,1,1,1,1,1,1,1,1,1,1,1,1,1,1,1,1,1,1,1,1,1,1,1,1,1,1,1,1,1,1,1,1,1,1,1,1,1,1,1,1,1,1,1,1,1,1,1,1,1,1,1,1,1,1,1,1,1,1,1,1,1,1,1,1,1,1,1,1,1,1,1,1,1,1,1,1,1,1,1,1,1,1,1,1,1,1,1,1,1,1,1,1,1,1,1,1,1,1,1,1,1,1,1,1,1,1,1,1,1,1,1,1,1,1,1,1,1,1,1,1,1,1,1,1,1,1,1,1,1,1,1,1,1,1,1,1,1,1,1,1,1,1,1,1,1,1,1,1,1,1,1,1,1,1,1,1,1,1,1,1,1,1,1,1,1,1,1,1,1,1,1,1,1,1,1,1,1,1,1,1,1,1,1,1,1,1,1,1,1,2,2,2,2,2,2,2,2,2,2,2,2,2,2,2,2,2,3,3,3,3,4,4,4,4,4,5,5,6,6,6,8,8,9,9,10,10,11],\"xaxis\":\"x\",\"xbins\":{\"end\":11.0,\"size\":1,\"start\":1.0},\"yaxis\":\"y\",\"type\":\"histogram\"},{\"legendgroup\":\"Standard\",\"marker\":{\"color\":\"slategray\"},\"mode\":\"lines\",\"name\":\"Standard\",\"showlegend\":false,\"x\":[1.0,1.024,1.048,1.072,1.096,1.12,1.144,1.168,1.192,1.216,1.24,1.264,1.288,1.312,1.336,1.3599999999999999,1.384,1.408,1.432,1.456,1.48,1.504,1.528,1.552,1.576,1.6,1.624,1.6480000000000001,1.6720000000000002,1.696,1.72,1.744,1.768,1.792,1.8159999999999998,1.8399999999999999,1.8639999999999999,1.888,1.912,1.936,1.96,1.984,2.008,2.032,2.056,2.08,2.104,2.128,2.152,2.176,2.2,2.224,2.248,2.2720000000000002,2.2960000000000003,2.3200000000000003,2.3440000000000003,2.3680000000000003,2.392,2.416,2.44,2.464,2.488,2.512,2.536,2.56,2.584,2.608,2.6319999999999997,2.6559999999999997,2.6799999999999997,2.7039999999999997,2.7279999999999998,2.752,2.776,2.8,2.824,2.848,2.872,2.896,2.92,2.944,2.968,2.992,3.016,3.04,3.064,3.088,3.112,3.136,3.16,3.184,3.208,3.232,3.256,3.28,3.304,3.328,3.352,3.376,3.4,3.424,3.448,3.472,3.496,3.52,3.544,3.568,3.592,3.616,3.64,3.664,3.688,3.712,3.736,3.76,3.784,3.808,3.832,3.856,3.88,3.904,3.928,3.952,3.976,4.0,4.024,4.048,4.072,4.096,4.12,4.144,4.168,4.192,4.216,4.24,4.263999999999999,4.288,4.311999999999999,4.336,4.359999999999999,4.384,4.4079999999999995,4.432,4.4559999999999995,4.48,4.504,4.5280000000000005,4.552,4.5760000000000005,4.6,4.6240000000000006,4.648,4.672000000000001,4.696,4.720000000000001,4.744,4.768,4.792,4.816,4.84,4.864,4.888,4.912,4.936,4.96,4.984,5.008,5.032,5.056,5.08,5.104,5.128,5.152,5.176,5.2,5.224,5.248,5.272,5.296,5.32,5.344,5.368,5.392,5.416,5.44,5.464,5.488,5.512,5.536,5.56,5.584,5.608,5.632,5.656,5.68,5.704,5.728,5.752,5.776,5.8,5.824,5.848,5.872,5.896,5.92,5.944,5.968,5.992,6.016,6.04,6.064,6.088,6.112,6.136,6.16,6.184,6.208,6.232,6.256,6.28,6.304,6.328,6.352,6.376,6.4,6.424,6.448,6.472,6.496,6.52,6.544,6.568,6.592,6.616,6.64,6.664,6.688,6.712,6.736,6.76,6.784,6.808,6.832,6.856,6.88,6.904,6.928,6.952,6.976,7.0,7.024,7.048,7.072,7.096,7.12,7.144,7.168,7.192,7.216,7.24,7.264,7.288,7.312,7.336,7.36,7.384,7.408,7.432,7.456,7.48,7.504,7.528,7.552,7.576,7.6,7.624,7.648,7.672,7.696,7.72,7.744,7.768,7.792,7.816,7.84,7.864,7.888,7.912,7.936,7.96,7.984,8.008,8.032,8.056000000000001,8.08,8.104,8.128,8.152000000000001,8.176,8.2,8.224,8.248000000000001,8.272,8.296,8.32,8.344000000000001,8.368,8.392,8.416,8.440000000000001,8.464,8.488,8.512,8.536,8.559999999999999,8.584,8.608,8.632,8.655999999999999,8.68,8.704,8.728,8.751999999999999,8.776,8.8,8.824,8.847999999999999,8.872,8.896,8.92,8.943999999999999,8.968,8.992,9.016,9.04,9.064,9.088,9.112,9.136,9.16,9.184,9.208,9.232,9.256,9.28,9.304,9.328,9.352,9.376,9.4,9.424,9.448,9.472,9.496,9.52,9.544,9.568,9.592,9.616,9.64,9.664,9.688,9.712,9.736,9.76,9.784,9.808,9.832,9.856,9.88,9.904,9.928,9.952,9.976,10.0,10.024,10.048,10.072,10.096,10.12,10.144,10.168,10.192,10.216,10.24,10.264,10.288,10.312,10.336,10.36,10.384,10.408,10.432,10.456,10.48,10.504,10.528,10.552,10.576,10.6,10.624,10.648,10.672,10.696,10.72,10.744,10.768,10.792,10.816,10.84,10.864,10.888,10.912,10.936,10.96,10.984,11.008,11.032,11.056,11.08,11.104,11.128,11.152,11.176,11.2,11.224,11.248,11.272,11.296,11.32,11.344,11.368,11.392,11.416,11.44,11.464,11.488,11.512,11.536,11.56,11.584,11.608,11.632,11.656,11.68,11.704,11.728,11.752,11.776,11.8,11.824,11.848,11.872,11.896,11.92,11.944,11.968,11.992,12.016,12.04,12.064,12.088,12.112,12.136,12.16,12.184,12.208,12.232,12.256,12.28,12.304,12.328,12.352,12.376,12.4,12.424,12.448,12.472,12.496,12.52,12.544,12.568,12.592,12.616,12.64,12.664,12.688,12.712,12.736,12.76,12.784,12.808,12.832,12.856,12.88,12.904,12.928,12.952,12.976],\"xaxis\":\"x\",\"y\":[0.428126928061296,0.4299584031458429,0.43129899418889384,0.4321506985389405,0.4325175321527933,0.43240547634208715,0.43182241018425266,0.4307780294081563,0.429283752706253,0.4273526165534168,0.4249991597262315,0.4222392988135647,0.4190901960888114,0.41557012117493736,0.4116983079751554,0.4074948083639167,0.4029803441353337,0.3981761586889007,0.39310386989660473,0.38778532554156303,0.3822424626476058,0.3764971719331765,0.3705711685228186,0.3644858699375719,0.3582622822634558,0.3519208952670346,0.3454815870910696,0.33896353902354437,0.33238516069210844,0.3257640258955149,0.31911681914582435,0.31245929286212054,0.3058062350300696,0.2991714470234806,0.29256773117557383,0.2860068875902944,0.27949971959862924,0.2730560471924354,0.26668472770915763,0.2603936829955602,0.2541899322469467,0.24807962970042444,0.24206810635606135,0.23615991490755667,0.23035887708376587,0.2246681326328454,0.2190901892209877,0.21362697256638655,0.20827987618489707,0.20304981018549523,0.19793724861962303,0.19294227495749033,0.18806462533492954,0.18330372928516533,0.17865874773958976,0.17412860814914008,0.16971203664206547,0.16540758719388488,0.1612136678402323,0.15712856401255873,0.15315045911967012,0.1492774525345461,0.14550757517558424,0.1418388028942645,0.1382690678973733,0.13479626844148343,0.13141827704080947,0.12813294742715464,0.12493812049308253,0.1218316294371744,0.11881130431403239,0.11587497617215624,0.11302048094076211,0.110245663202676,0.10754837996539927,0.10492650451692939,0.10237793042765014,0.09990057573510377,0.09749238732532209,0.09515134550305646,0.09287546872411656,0.09066281844642128,0.08851150404250276,0.08641968770525753,0.08438558927076217,0.08240749087697166,0.08048374137501478,0.078612760410456,0.07679304209510109,0.07502315819544712,0.07330176077140886,0.07162758420819512,0.06999944659479217,0.06841625041410745,0.06687698252205439,0.06538071340539132,0.06392659572060012,0.0625138621282174,0.06114182244850237,0.05980986017489998,0.058517428391223585,0.05726404514665096,0.056049288349390276,0.05487279024512253,0.053734231550042054,0.0526333353104761,0.05156986056172958,0.0505435958580294,0.04955435274336071,0.048601959229719015,0.047686253345015896,0.046807076807750085,0.04596426887977267,0.04515766044223946,0.04438706833334716,0.04365228997988107,0.04295309834814975,0.04228923723370766,0.041660416903516885,0.041066310099010135,0.04050654840398096,0.039980718977424404,0.039488361648438636,0.03902896636808023,0.03860197101165705,0.03820675952429851,0.037842660402710435,0.0375089455067307,0.03720482919554523,0.03692946778510051,0.03668195932522955,0.03646134369716299,0.03626660303429357,0.03609666247116171,0.035950391227506644,0.03582660403575415,0.035724062921382596,0.03564147934612228,0.03557751672382465,0.03553079331802594,0.035499885528687124,0.03548333157330379,0.03547963556455196,0.03548727198290234,0.03550469053824375,0.03553032140958782,0.03556258084646608,0.03559987710979475,0.035640616723892266,0.03568321100512658,0.035726082826488474,0.03576767357138109,0.03580645022423496,0.03584091254034602,0.035869600232738136,0.03589110010999417,0.03590405309600545,0.03590716106055833,0.035899193388689216,0.035878993216866224,0.035845483265330026,0.03579767119837218,0.035734654447937275,0.03565562444067608,0.0355598701743983,0.03544678109669583,0.035315849246238415,0.035166670625759934,0.03499894578492783,0.03481247960096749,0.03460718025494176,0.034383057411793067,0.03414021962247294,0.03387887097653343,0.03359930704327145,0.03330191014872885,0.03298714404440676,0.03265554803130401,0.0323077306097086,0.03194436273094325,0.0315661707319001,0.03117392903661953,0.03076845271132706,0.03035058996020795,0.02992121464877178,0.029481218939952886,0.029031506125150295,0.02857298372829375,0.028106556955811417,0.027633122559170838,0.027153563169581677,0.026668742156614265,0.026179499054045104,0.025686645587329745,0.025190962327882847,0.024693195989964518,0.024194057376585906,0.023694219971603633,0.0231943191662163,0.02269495209953884,0.022196678084937107,0.02170001958646421,0.021205463703147315,0.020713464113109977,0.020224443424641005,0.019738795877383135,0.019256890333841904,0.018779073499414996,0.01830567330811189,0.017837002411046715,0.017373361705609134,0.01691504384489547,0.016462336669452585,0.016015526506576398,0.015574901286232803,0.01514075342704185,0.014713382450594151,0.014293097287554098,0.013880218244452144,0.013475078605682122,0.013078025850907988,0.012689422473757934,0.01230964639326383,0.011939090954912919,0.011578164523352781,0.011227289673671353,0.010886901992714132,0.010557448506062607,0.010239385750052945,0.00993317751154461,0.009639292261044161,0.009358200307250958,0.009090370703125435,0.008836267935201158,0.008596348429090435,0.008371056904994317,0.008160822617551067,0.007966055514574221,0.007787142349175828,0.007624442779476051,0.0074782854895999295,0.0073489643649877635,0.007236734754225915,0.00714180984866616,0.007064357210065728,0.007004495475365527,0.006962291266543479,0.006937756332243144,0.0069308449465887625,0.0069414515892568945,0.006969408929478299,0.007014486135183913,0.007076387526975941,0.007154751594986355,0.007249150394967113,0.007359089338124113,0.007484007387246431,0.007623277669580209,0.007776208514641443,0.007942044922745094,0.008119970467444013,0.008309109632319112,0.008508530579644746,0.008717248345379491,0.008934228451714984,0.009158390925073806,0.009388614704005753,0.0096237424179196,0.009862585514039462,0.010103929706430021,0.010346540717436188,0.010589170278476563,0.010830562353864957,0.011069459548260052,0.011304609655511695,0.011534772304132145,0.011758725652421722,0.011975273084466276,0.012183249856840935,0.012381529644939158,0.012569030937429544,0.012744723227452024,0.012907632949817538,0.013056849114683283,0.013191528589940799,0.013310900986871653,0.013414273106480887,0.01350103290728821,0.013570652959210915,0.013622693352470525,0.01365680403515074,0.013672726558074102,0.013670295210988448,0.013649437539598285,0.013610174238670593,0.013552618422218846,0.01347697427754941,0.01338353511566722,0.013272680836110011,0.013144874829640966,0.013000660347311468,0.012840656369143975,0.012665553010023,0.012476106504266683,0.012273133813738788,0.01205750690721331,0.0118301467609926,0.011592017132485729,0.01134411815956405,0.011087479839025539,0.010823155437422308,0.010552214886854233,0.010275738217127966,0.009994809073955472,0.009710508370657275,0.009423908118186237,0.009136065475248032,0.008848017056914615,0.00856077353646567,0.008275314571307273,0.007992584079766165,0.007713485891400822,0.007438879789266158,0.007169577958373403,0.0069063418504525555,0.006649879471103917,0.006400843091560919,0.006159827383620963,0.005927367972869365,0.005703940402151521,0.005489959494366792,0.005285779101078424,0.005091692221171601,0.004907931471849428,0.004734669892636041,0.004572022061751021,0.004420045503219607,0.0042787423623741935,0.0041480613269661015,0.0040278997709215425,0.003918106097816437,0.003818482261387833,0.003728786440815477,0.0036487358490705285,0.0035780096533098303,0.00351625198706882,0.0034630750348469586,0.0034180621705640316,0.0033807711322713803,0.0033507372164104845,0.0033274764758055787,0.0033104889064441414,0.0032992616089282507,0.003293271911263995,0.0032919904403907255,0.003294884130535492,0.00330141915711172,0.0033110637854684654,0.0033232911243433476,0.0033375817743857223,0.0033534263626059284,0.0033703279540811867,0.003387804332719813,0.003405390143363121,0.003422638887999814,0.0034391247693904615,0.003454444375959208,0.0034682182024140915,0.003480092001212765,0.0034897379607018698,0.0034968557065288668,0.003501173123755658,0.003502446997993028,0.0035004634748205805,0.0034950383377534405,0.0034860171060576866,0.0034732749547923152,0.0034567164605565194,0.0034362751775352156,0.003411913049550553,0.003383619664928877,0.003351411362067097,0.0033153301946154696,0.003275442766170858,0.003231838945282062,0.003184630472393056,0.0031339494710794073,0.0030799468765557135,0.003022790794939138,0.0029626648071367323,0.002899766231477313,0.0028343043593265136,0.0027664986779053088,0.002696577094375967,0.0026247741749682836,0.002551329412495038,0.0024764855350560464,0.0024004868680608388,0.002323577760920569,0.0022460010888805996,0.00216799683949727,0.0020898007922188207,0.0020116432984248426,0.001933748168123904,0.0018563316683211026,0.001779601636858654,0.0017037567143194775,0.001628985695377935,0.0015554669997986798,0.0014833682621346095,0.0014128460380716593,0.0013440456243203837,0.0012771009879731638,0.0012121348003378107,0.0011492585694319341,0.0010885728645815232,0.001030167625917562,0.0009741225510074903,0.0009205075503969503,0.0008693832634707521,0.000820801625770298,0.000774806478726074,0.0007314342126749493,0.0006907144340304988,0.0006526706475550999,0.0006173209448416424,0.0005846786903441615,0.0005547531965962331,0.0005275503806170278,0.0005030733939228168,0.0004813232190300015,0.00046229922584968097,0.0004459996819273602,0.0004324222110701216,0.00042156419552204363,0.00041342311749273245,0.0004079968365088019,0.0004052837997402884,0.00040528318314924587,0.0004079949620126908,0.0004134199100831462,0.00042155952736393654,0.0004324158971898542,0.0004459914740135563,0.00046228880400074114,0.00048131018122925235,0.0005030572429652977,0.0005275305081498472,0.000554728863866233,0.000584649005171245,0.0006172848342524143,0.0006526268254182707,0.0006906613629315609,0.0007313700591516623,0.0007747290608569272,0.0008207083519639487,0.0008692710611439911,0.0009203727830505299,0.000973960922011608,0.0010299740671003777,0.0010883414074732295,0.0011489821967520652,0.0012118052750231647,0.0012767086567265161,0.0013435791923147751,0.0014122923110703068,0.001482711851881463,0.0015546899880986367,0.0016280672518183396,0.0017026726620857824,0.0017783239605674208,0.0018548279572338487,0.0019319809875172087,0.0020095694812778554,0.002087370642741892,0.0021651532393687084,0.002242678496387417,0.002319701092519355,0.002395970251193642,0.0024712309203815622,0.0025452250330370483,0.002617692839052074,0.0026883742986316644,0.0027570105260785968,0.0028233452721672255,0.0028871264325918185,0.002948107569409103,0.0030060494319684534,0.003060721463543701,0.003111903279756067,0.0031593861049114855,0.0032029741525714858,0.003242485937033846,0.0032777555029166274,0.0033086335607114036,0.0033349885169930782,0.0033567073889346944,0.0033736965938660764,0.0033858826058213594,0.003393212472328301],\"yaxis\":\"y\",\"type\":\"scatter\"},{\"legendgroup\":\"Agglomerative Clustering\",\"marker\":{\"color\":\"magenta\"},\"mode\":\"lines\",\"name\":\"Agglomerative Clustering\",\"showlegend\":false,\"x\":[1.0,1.02,1.04,1.06,1.08,1.1,1.12,1.1400000000000001,1.16,1.18,1.2,1.22,1.24,1.26,1.28,1.3,1.32,1.34,1.3599999999999999,1.38,1.4,1.42,1.44,1.46,1.48,1.5,1.52,1.54,1.56,1.58,1.6,1.62,1.6400000000000001,1.6600000000000001,1.6800000000000002,1.7,1.72,1.74,1.76,1.78,1.8,1.8199999999999998,1.8399999999999999,1.8599999999999999,1.88,1.9,1.92,1.94,1.96,1.98,2.0,2.02,2.04,2.06,2.08,2.1,2.12,2.1399999999999997,2.16,2.1799999999999997,2.2,2.2199999999999998,2.24,2.26,2.2800000000000002,2.3,2.3200000000000003,2.34,2.3600000000000003,2.38,2.4,2.42,2.44,2.46,2.48,2.5,2.52,2.54,2.56,2.58,2.6,2.62,2.6399999999999997,2.66,2.6799999999999997,2.7,2.7199999999999998,2.74,2.76,2.7800000000000002,2.8,2.8200000000000003,2.84,2.8600000000000003,2.88,2.9,2.92,2.94,2.96,2.98,3.0,3.02,3.04,3.06,3.08,3.1,3.12,3.14,3.16,3.18,3.2,3.22,3.24,3.26,3.28,3.3,3.32,3.34,3.36,3.38,3.4,3.42,3.44,3.46,3.48,3.5,3.52,3.54,3.56,3.58,3.6,3.62,3.64,3.66,3.68,3.7,3.72,3.74,3.76,3.78,3.8,3.82,3.84,3.86,3.88,3.9,3.92,3.94,3.96,3.98,4.0,4.02,4.04,4.0600000000000005,4.08,4.1,4.12,4.140000000000001,4.16,4.18,4.2,4.220000000000001,4.24,4.26,4.279999999999999,4.3,4.32,4.34,4.359999999999999,4.38,4.4,4.42,4.4399999999999995,4.46,4.48,4.5,4.52,4.54,4.5600000000000005,4.58,4.6,4.62,4.640000000000001,4.66,4.68,4.7,4.720000000000001,4.74,4.76,4.779999999999999,4.8,4.82,4.84,4.859999999999999,4.88,4.9,4.92,4.9399999999999995,4.96,4.98,5.0,5.02,5.04,5.06,5.08,5.1,5.12,5.14,5.16,5.18,5.2,5.22,5.24,5.26,5.28,5.3,5.32,5.34,5.36,5.38,5.4,5.42,5.44,5.46,5.48,5.5,5.52,5.54,5.56,5.58,5.6,5.62,5.64,5.66,5.68,5.7,5.72,5.74,5.76,5.78,5.8,5.82,5.84,5.86,5.88,5.9,5.92,5.94,5.96,5.98,6.0,6.02,6.04,6.06,6.08,6.1,6.12,6.14,6.16,6.18,6.2,6.22,6.24,6.26,6.28,6.3,6.32,6.34,6.36,6.38,6.4,6.42,6.44,6.46,6.48,6.5,6.52,6.54,6.56,6.58,6.6,6.62,6.64,6.66,6.68,6.7,6.72,6.74,6.76,6.78,6.8,6.82,6.84,6.86,6.88,6.9,6.92,6.94,6.96,6.98,7.0,7.02,7.04,7.06,7.08,7.1,7.12,7.14,7.16,7.18,7.2,7.22,7.24,7.26,7.28,7.3,7.32,7.34,7.36,7.38,7.4,7.42,7.44,7.46,7.48,7.5,7.52,7.54,7.56,7.58,7.6,7.62,7.64,7.66,7.68,7.7,7.72,7.74,7.76,7.78,7.8,7.82,7.84,7.86,7.88,7.9,7.92,7.94,7.96,7.98,8.0,8.02,8.04,8.059999999999999,8.08,8.1,8.120000000000001,8.14,8.16,8.18,8.2,8.219999999999999,8.24,8.26,8.280000000000001,8.3,8.32,8.34,8.36,8.379999999999999,8.4,8.42,8.440000000000001,8.46,8.48,8.5,8.52,8.54,8.559999999999999,8.58,8.6,8.620000000000001,8.64,8.66,8.68,8.7,8.719999999999999,8.74,8.76,8.780000000000001,8.8,8.82,8.84,8.86,8.879999999999999,8.9,8.92,8.940000000000001,8.96,8.98,9.0,9.02,9.04,9.06,9.08,9.1,9.12,9.14,9.16,9.18,9.2,9.22,9.24,9.26,9.28,9.3,9.32,9.34,9.36,9.38,9.4,9.42,9.44,9.46,9.48,9.5,9.52,9.54,9.56,9.58,9.6,9.62,9.64,9.66,9.68,9.7,9.72,9.74,9.76,9.78,9.8,9.82,9.84,9.86,9.88,9.9,9.92,9.94,9.96,9.98,10.0,10.02,10.04,10.06,10.08,10.1,10.12,10.14,10.16,10.18,10.2,10.22,10.24,10.26,10.28,10.3,10.32,10.34,10.36,10.38,10.4,10.42,10.44,10.46,10.48,10.5,10.52,10.54,10.56,10.58,10.6,10.62,10.64,10.66,10.68,10.7,10.72,10.74,10.76,10.78,10.8,10.82,10.84,10.86,10.88,10.9,10.92,10.94,10.96,10.98],\"xaxis\":\"x\",\"y\":[0.6308426042621708,0.6310869810747497,0.6305108645711467,0.629119790086251,0.626922650860524,0.6239316294002092,0.6201621059991793,0.6156325453127041,0.6103643620855174,0.6043817673353413,0.5977115964760229,0.590383121029663,0.5824278457221103,0.573879292880079,0.5647727761487712,0.5551451656259779,0.5450346465607541,0.5344804737924823,0.5235227241085822,0.5122020486773128,0.5005594276664829,0.48863592909040093,0.4764724738374597,0.46410960872094575,0.45158728926787145,0.43894467381643015,0.4262199303351455,0.4134500572072831,0.4006707190457277,0.3879160984185187,0.37521876417624267,0.36260955688161634,0.35011749165204525,0.3377696785391639,0.3255912603883189,0.3136053679473126,0.3018330918295825,0.29029347078391027,0.2790034955824432,0.26797812771216295,0.25723033194353434,0.24677112175394852,0.236609616504042,0.226753109201682,0.2172071436416979,0.20797559967915644,0.1990607853795047,0.19046353478982914,0.18218331009091787,0.17421830691882315,0.16656556168613923,0.15922105978600792,0.15217984362462167,0.14543611949940385,0.13898336241857712,0.13281441804221486,0.12692160101346078,0.12129678904019386,0.11593151218045059,0.1108170368782385,0.10594444438859137,0.10130470332084357,0.09688873611593254,0.09268747935625476,0.08869193788433317,0.084893232778612,0.08128264330051044,0.07785164298603178,0.0745919301073498,0.07149545277477794,0.06855442898720002,0.06576136196951471,0.06310905115900228,0.06059059921900925,0.05819941546828905,0.05592921611810064,0.05377402170721516,0.051728152117812086,0.04978621954339946,0.04794311976394424,0.04619402206393051,0.044534358106682506,0.042959810053582625,0.0414662981903733,0.04004996829512602,0.03870717895421388,0.03743448900427292,0.03622864525011399,0.035086570581315944,0.034005352584133466,0.03298223272075465,0.03201459612509288,0.031099962043445027,0.030235974929654106,0.029420396188014664,0.028651096543120206,0.027926049004213242,0.02724332238233384,0.02660107531162822,0.025997550721472463,0.025431070703470598,0.024900031716742644,0.024402900076053766,0.023938207670048946,0.02350454786094443,0.02310057152225744,0.022724983177312925,0.022376537208111644,0.022054034111460362,0.021756316786827858,0.021482266847993346,0.021230800957997013,0.021000867194008496,0.020791441455330368,0.02060152393371066,0.020430135670325256,0.020276315228109732,0.02013911551149259,0.020017600767953055,0.019910843807167976,0.019817923473810773,0.01973792240933909,0.019669925136385723,0.01961301649670409,0.019566280470085073,0.01952879939734021,0.019499653625436895,0.019477921587283252,0.019462680322612846,0.01945300644003631,0.019447977513739195,0.019446673901639865,0.019448180965212423,0.01945159166474995,0.019456009497716975,0.019460551742130888,0.019464352961724198,0.019466568725070483,0.019466379486985673,0.019462994577416314,0.019455656240749436,0.01944364366706782,0.019426276956352274,0.019402920957011117,0.01937298892138793,0.01933594592304339,0.01929131198358795,0.01923866486061169,0.019177642452753572,0.019107944783100815,0.019029335527827818,0.018941643063180053,0.018844761010483255,0.018738648265707987,0.018623328507136362,0.018498889181751535,0.018365479977994648,0.018223310799397357,0.018072649260200625,0.017913817730311993,0.017747189962743267,0.01757318734192356,0.017392274795927812,0.01720495641963089,0.017011770859043682,0.016813286509566993,0.01661009658258562,0.016402814095703353,0.0161920668419871,0.015978492392856716,0.01576273318774759,0.015545431761422096,0.015327226156858484,0.015108745568057332,0.014890606252942648,0.014673407751868548,0.014457729442155051,0.014244127453650854,0.014033131964647878,0.013825244891642514,0.013620937980544591,0.013420651301069786,0.013224792140303105,0.013033734285879046,0.012847817683968338,0.012667348452369626,0.012492599224544971,0.012323809796473462,0.012161188044779121,0.012004911081761507,0.011855126610752359,0.011711954443663197,0.011575488141688203,0.011445796739886278,0.011322926516777016,0.011206902771128256,0.011097731569759661,0.010995401432399491,0.010899884922364409,0.01081114011503083,0.0107291119196714,0.01065373323417534,0.010584925916386732,0.01052260156020685,0.010466662069139595,0.010417000024537283,0.010373498850349785,0.010336032780621333,0.01030446664024115,0.010278655453471248,0.010258443898481785,0.010243665629464854,0.010234142490819595,0.010229683650361743,0.010230084680473053,0.010235126617542242,0.010244575030940993,0.010258179133115292,0.010275670962153075,0.010296764667421165,0.010321155927564383,0.010348521528351294,0.010378519125567757,0.010410787215439319,0.010444945331954059,0.010480594487009278,0.010517317865576059,0.010554681784124949,0.01059223691644805,0.010629519786812485,0.010666054526154232,0.010701354882835787,0.010734926475410262,0.010766269270922701,0.010794880268593526,0.010820256365327678,0.010841897376423985,0.01085930918216922,0.01087200696872831,0.010879518529918263,0.010881387595102602,0.010877177147583815,0.010866472697511608,0.010848885473467164,0.010824055497521905,0.010791654509689606,0.010751388709273085,0.010703001282623206,0.01064627468924492,0.010581032680963796,0.010507142031962246,0.010424513960859336,0.010333105229590389,0.01023291890758795,0.01012400479361883,0.010006459491536637,0.009880426140108894,0.00974609380091828,0.009603696512064885,0.009453512018961285,0.009295860196866533,0.009131101182908087,0.008959633238151767,0.008781890362768946,0.008598339689487578,0.008409478682280602,0.008215832168623831,0.008017949234639575,0.007816400013026572,0.007611772393866453,0.0074046686882,0.00719570227369866,0.006985494250836594,0.006774670136722997,0.006563856622209789,0.0063536784160813245,0.006144755198094084,0.005937698700405213,0.0057331099345478585,0.005531576578620108,0.005333670536794656,0.005139945680667955,0.004950935779392194,0.004767152623008255,0.004589084340960762,0.00441719391545953,0.004251917887188472,0.004093665248877724,0.003942816520474148,0.0037997229980858004,0.003664706167555541,0.003538057272445744,0.0034200370253989506,0.0033108754512777916,0.0032107718501811263,0.003119894868373817,0.003038382665345298,0.0029663431656118833,0.0029038543844823544,0.0028509648177941493,0.0028076938865756714,0.002774032428672185,0.0027499432305616326,0.0027353615938531185,0.0027301959322753,0.002734328396294602,0.002747615523824043,0.002769888916763643,0.0028009559443247147,0.002840600475206638,0.0028885836416914115,0.002944644639576539,0.0030085015685614013,0.0030798523182198187,0.0031583755050195545,0.00324373146597813,0.0033355633144685304,0.003433498063405584,0.0035371478205566275,0.0036461110600336305,0.003759973973148395,0.0038783119007602244,0.004000690848033849,0.004126669081173275,0.004255798804228308,0.004387627912508715,0.004521701817515114,0.0046575653366334215,0.004794764639172736,0.004932849238685278,0.005071374019923198,0.0052099012872924705,0.0053480028202884085,0.0054852619201710435,0.005621275431088051,0.005755655718004673,0.005888032583175328,0.006018055102511404,0.006145393363078258,0.006269740083105221,0.006390812096322091,0.006508351683148605,0.006622127732257696,0.006731936717304278,0.006837603475147486,0.006938981773681929,0.007035954659411964,0.007128434577130547,0.007216363256471239,0.007299711362659679,0.007378477911463443,0.007452689451091113,0.007522399016582958,0.007587684865027271,0.007648649002686026,0.007705415517780479,0.0077581287352298176,0.007806951212014272,0.007852061594010053,0.007893652357080718,0.007931927456875472,0.007967099913150144,0.00799938935546529,0.008029019557808138,0.008056215990014201,0.008081203413820603,0.008104203550960828,0.008125432849910894,0.008145100376725983,0.008163405853876593,0.008180537869122147,0.008196672274270709,0.008211970791194652,0.008226579839736212,0.008240629599181927,0.008254233311851256,0.008267486834076928,0.0082804684364989,0.00829323885219911,0.008305841567819326,0.008318303349479528,0.008330634992098228,0.008342832277656802,0.008354877125093672,0.008366738911903213,0.008378375945189196,0.008389737057918446,0.008400763304467915,0.008411389728284046,0.008421547173596397,0.008431164112662634,0.008440168459977297,0.008448489345253336,0.008456058817778953,0.008462813455951589,0.008468695857378292,0.008473655986884295,0.008477652362060306,0.008480653058569468,0.008482636520288817,0.008483592162434002,0.008483520759063947,0.008482434609735114,0.008480357483521555,0.008477324342085544,0.008473380846921051,0.00846858265924684,0.008462994544246715,0.008456689294392377,0.008449746489393617,0.00844225111285845,0.008434292047974272,0.008425960476406057,0.008417348206121365,0.008408545954971236,0.00839964161756497,0.008390718543264638,0.008381853852988504,0.00837311682195405,0.00836456735451998,0.008356254575918409,0.008348215563924519,0.008340474241418904,0.008333040448390037,0.008325909209238013,0.008319060208317687,0.008312457483543936,0.008306049344622531,0.008299768519116072,0.008293532526157119,0.008287244274231432,0.008280792876124318,0.008274054670902416,0.008266894439740354,0.008259166799541555,0.008250717755687934,0.008241386392922065,0.008231006681351478,0.008219409372896986,0.008206423962208286,0.008191880685158219,0.008175612527513533,0.008157457216269967,0.008137259166432396,0.008114871356709564,0.008090157108664762,0.008062991745300027,0.008033264106828367,0.00800087790347672,0.007965752887528975,0.007927825829425748,0.007887051285545352,0.007843402148255088,0.007796869971898606,0.007747465071527212,0.007695216394343629,0.007640171166959317,0.007582394324625316,0.00752196773153757,0.0074589892040989834,0.007393571351603684,0.007325840251157977,0.007255933975736752,0.007184000996065922,0.007110198478499418,0.0070346905022051764,0.006957646219777578,0.0068792379858461615,0.00679963947835205,0.006719023836917045,0.0066375618421461256,0.006555420158795039,0.00647275966452037,0.006389733884431729,0.0063064875499120035,0.006223155298191223,0.006139860526985839,0.006056714416182329,0.005973815126089351,0.005891247179243475,0.00580908103016776,0.005727372824889075,0.005646164349454632,0.0055654831641890196,0.005485342918032021,0.0054057438350287035,0.005326673362934194,0.005248106971973814,0.005170009090086518,0.005092334159495949,0.005015027798213074,0.004938028049089618,0.004861266698318597,0.00478467064482115,0.004708163301765928,0.00463166601153441,0.004555099455763797,0.004478385042657292,0.004401446254533809,0.004324209939578479],\"yaxis\":\"y\",\"type\":\"scatter\"}],                        {\"barmode\":\"overlay\",\"hovermode\":\"closest\",\"legend\":{\"traceorder\":\"reversed\"},\"xaxis\":{\"anchor\":\"y2\",\"domain\":[0.0,1.0],\"zeroline\":false},\"yaxis\":{\"anchor\":\"free\",\"domain\":[0.0,1],\"position\":0.0},\"template\":{\"data\":{\"histogram2dcontour\":[{\"type\":\"histogram2dcontour\",\"colorbar\":{\"outlinewidth\":0,\"ticks\":\"\"},\"colorscale\":[[0.0,\"#0d0887\"],[0.1111111111111111,\"#46039f\"],[0.2222222222222222,\"#7201a8\"],[0.3333333333333333,\"#9c179e\"],[0.4444444444444444,\"#bd3786\"],[0.5555555555555556,\"#d8576b\"],[0.6666666666666666,\"#ed7953\"],[0.7777777777777778,\"#fb9f3a\"],[0.8888888888888888,\"#fdca26\"],[1.0,\"#f0f921\"]]}],\"choropleth\":[{\"type\":\"choropleth\",\"colorbar\":{\"outlinewidth\":0,\"ticks\":\"\"}}],\"histogram2d\":[{\"type\":\"histogram2d\",\"colorbar\":{\"outlinewidth\":0,\"ticks\":\"\"},\"colorscale\":[[0.0,\"#0d0887\"],[0.1111111111111111,\"#46039f\"],[0.2222222222222222,\"#7201a8\"],[0.3333333333333333,\"#9c179e\"],[0.4444444444444444,\"#bd3786\"],[0.5555555555555556,\"#d8576b\"],[0.6666666666666666,\"#ed7953\"],[0.7777777777777778,\"#fb9f3a\"],[0.8888888888888888,\"#fdca26\"],[1.0,\"#f0f921\"]]}],\"heatmap\":[{\"type\":\"heatmap\",\"colorbar\":{\"outlinewidth\":0,\"ticks\":\"\"},\"colorscale\":[[0.0,\"#0d0887\"],[0.1111111111111111,\"#46039f\"],[0.2222222222222222,\"#7201a8\"],[0.3333333333333333,\"#9c179e\"],[0.4444444444444444,\"#bd3786\"],[0.5555555555555556,\"#d8576b\"],[0.6666666666666666,\"#ed7953\"],[0.7777777777777778,\"#fb9f3a\"],[0.8888888888888888,\"#fdca26\"],[1.0,\"#f0f921\"]]}],\"heatmapgl\":[{\"type\":\"heatmapgl\",\"colorbar\":{\"outlinewidth\":0,\"ticks\":\"\"},\"colorscale\":[[0.0,\"#0d0887\"],[0.1111111111111111,\"#46039f\"],[0.2222222222222222,\"#7201a8\"],[0.3333333333333333,\"#9c179e\"],[0.4444444444444444,\"#bd3786\"],[0.5555555555555556,\"#d8576b\"],[0.6666666666666666,\"#ed7953\"],[0.7777777777777778,\"#fb9f3a\"],[0.8888888888888888,\"#fdca26\"],[1.0,\"#f0f921\"]]}],\"contourcarpet\":[{\"type\":\"contourcarpet\",\"colorbar\":{\"outlinewidth\":0,\"ticks\":\"\"}}],\"contour\":[{\"type\":\"contour\",\"colorbar\":{\"outlinewidth\":0,\"ticks\":\"\"},\"colorscale\":[[0.0,\"#0d0887\"],[0.1111111111111111,\"#46039f\"],[0.2222222222222222,\"#7201a8\"],[0.3333333333333333,\"#9c179e\"],[0.4444444444444444,\"#bd3786\"],[0.5555555555555556,\"#d8576b\"],[0.6666666666666666,\"#ed7953\"],[0.7777777777777778,\"#fb9f3a\"],[0.8888888888888888,\"#fdca26\"],[1.0,\"#f0f921\"]]}],\"surface\":[{\"type\":\"surface\",\"colorbar\":{\"outlinewidth\":0,\"ticks\":\"\"},\"colorscale\":[[0.0,\"#0d0887\"],[0.1111111111111111,\"#46039f\"],[0.2222222222222222,\"#7201a8\"],[0.3333333333333333,\"#9c179e\"],[0.4444444444444444,\"#bd3786\"],[0.5555555555555556,\"#d8576b\"],[0.6666666666666666,\"#ed7953\"],[0.7777777777777778,\"#fb9f3a\"],[0.8888888888888888,\"#fdca26\"],[1.0,\"#f0f921\"]]}],\"mesh3d\":[{\"type\":\"mesh3d\",\"colorbar\":{\"outlinewidth\":0,\"ticks\":\"\"}}],\"scatter\":[{\"fillpattern\":{\"fillmode\":\"overlay\",\"size\":10,\"solidity\":0.2},\"type\":\"scatter\"}],\"parcoords\":[{\"type\":\"parcoords\",\"line\":{\"colorbar\":{\"outlinewidth\":0,\"ticks\":\"\"}}}],\"scatterpolargl\":[{\"type\":\"scatterpolargl\",\"marker\":{\"colorbar\":{\"outlinewidth\":0,\"ticks\":\"\"}}}],\"bar\":[{\"error_x\":{\"color\":\"#2a3f5f\"},\"error_y\":{\"color\":\"#2a3f5f\"},\"marker\":{\"line\":{\"color\":\"#E5ECF6\",\"width\":0.5},\"pattern\":{\"fillmode\":\"overlay\",\"size\":10,\"solidity\":0.2}},\"type\":\"bar\"}],\"scattergeo\":[{\"type\":\"scattergeo\",\"marker\":{\"colorbar\":{\"outlinewidth\":0,\"ticks\":\"\"}}}],\"scatterpolar\":[{\"type\":\"scatterpolar\",\"marker\":{\"colorbar\":{\"outlinewidth\":0,\"ticks\":\"\"}}}],\"histogram\":[{\"marker\":{\"pattern\":{\"fillmode\":\"overlay\",\"size\":10,\"solidity\":0.2}},\"type\":\"histogram\"}],\"scattergl\":[{\"type\":\"scattergl\",\"marker\":{\"colorbar\":{\"outlinewidth\":0,\"ticks\":\"\"}}}],\"scatter3d\":[{\"type\":\"scatter3d\",\"line\":{\"colorbar\":{\"outlinewidth\":0,\"ticks\":\"\"}},\"marker\":{\"colorbar\":{\"outlinewidth\":0,\"ticks\":\"\"}}}],\"scattermapbox\":[{\"type\":\"scattermapbox\",\"marker\":{\"colorbar\":{\"outlinewidth\":0,\"ticks\":\"\"}}}],\"scatterternary\":[{\"type\":\"scatterternary\",\"marker\":{\"colorbar\":{\"outlinewidth\":0,\"ticks\":\"\"}}}],\"scattercarpet\":[{\"type\":\"scattercarpet\",\"marker\":{\"colorbar\":{\"outlinewidth\":0,\"ticks\":\"\"}}}],\"carpet\":[{\"aaxis\":{\"endlinecolor\":\"#2a3f5f\",\"gridcolor\":\"white\",\"linecolor\":\"white\",\"minorgridcolor\":\"white\",\"startlinecolor\":\"#2a3f5f\"},\"baxis\":{\"endlinecolor\":\"#2a3f5f\",\"gridcolor\":\"white\",\"linecolor\":\"white\",\"minorgridcolor\":\"white\",\"startlinecolor\":\"#2a3f5f\"},\"type\":\"carpet\"}],\"table\":[{\"cells\":{\"fill\":{\"color\":\"#EBF0F8\"},\"line\":{\"color\":\"white\"}},\"header\":{\"fill\":{\"color\":\"#C8D4E3\"},\"line\":{\"color\":\"white\"}},\"type\":\"table\"}],\"barpolar\":[{\"marker\":{\"line\":{\"color\":\"#E5ECF6\",\"width\":0.5},\"pattern\":{\"fillmode\":\"overlay\",\"size\":10,\"solidity\":0.2}},\"type\":\"barpolar\"}],\"pie\":[{\"automargin\":true,\"type\":\"pie\"}]},\"layout\":{\"autotypenumbers\":\"strict\",\"colorway\":[\"#636efa\",\"#EF553B\",\"#00cc96\",\"#ab63fa\",\"#FFA15A\",\"#19d3f3\",\"#FF6692\",\"#B6E880\",\"#FF97FF\",\"#FECB52\"],\"font\":{\"color\":\"#2a3f5f\"},\"hovermode\":\"closest\",\"hoverlabel\":{\"align\":\"left\"},\"paper_bgcolor\":\"white\",\"plot_bgcolor\":\"#E5ECF6\",\"polar\":{\"bgcolor\":\"#E5ECF6\",\"angularaxis\":{\"gridcolor\":\"white\",\"linecolor\":\"white\",\"ticks\":\"\"},\"radialaxis\":{\"gridcolor\":\"white\",\"linecolor\":\"white\",\"ticks\":\"\"}},\"ternary\":{\"bgcolor\":\"#E5ECF6\",\"aaxis\":{\"gridcolor\":\"white\",\"linecolor\":\"white\",\"ticks\":\"\"},\"baxis\":{\"gridcolor\":\"white\",\"linecolor\":\"white\",\"ticks\":\"\"},\"caxis\":{\"gridcolor\":\"white\",\"linecolor\":\"white\",\"ticks\":\"\"}},\"coloraxis\":{\"colorbar\":{\"outlinewidth\":0,\"ticks\":\"\"}},\"colorscale\":{\"sequential\":[[0.0,\"#0d0887\"],[0.1111111111111111,\"#46039f\"],[0.2222222222222222,\"#7201a8\"],[0.3333333333333333,\"#9c179e\"],[0.4444444444444444,\"#bd3786\"],[0.5555555555555556,\"#d8576b\"],[0.6666666666666666,\"#ed7953\"],[0.7777777777777778,\"#fb9f3a\"],[0.8888888888888888,\"#fdca26\"],[1.0,\"#f0f921\"]],\"sequentialminus\":[[0.0,\"#0d0887\"],[0.1111111111111111,\"#46039f\"],[0.2222222222222222,\"#7201a8\"],[0.3333333333333333,\"#9c179e\"],[0.4444444444444444,\"#bd3786\"],[0.5555555555555556,\"#d8576b\"],[0.6666666666666666,\"#ed7953\"],[0.7777777777777778,\"#fb9f3a\"],[0.8888888888888888,\"#fdca26\"],[1.0,\"#f0f921\"]],\"diverging\":[[0,\"#8e0152\"],[0.1,\"#c51b7d\"],[0.2,\"#de77ae\"],[0.3,\"#f1b6da\"],[0.4,\"#fde0ef\"],[0.5,\"#f7f7f7\"],[0.6,\"#e6f5d0\"],[0.7,\"#b8e186\"],[0.8,\"#7fbc41\"],[0.9,\"#4d9221\"],[1,\"#276419\"]]},\"xaxis\":{\"gridcolor\":\"white\",\"linecolor\":\"white\",\"ticks\":\"\",\"title\":{\"standoff\":15},\"zerolinecolor\":\"white\",\"automargin\":true,\"zerolinewidth\":2},\"yaxis\":{\"gridcolor\":\"white\",\"linecolor\":\"white\",\"ticks\":\"\",\"title\":{\"standoff\":15},\"zerolinecolor\":\"white\",\"automargin\":true,\"zerolinewidth\":2},\"scene\":{\"xaxis\":{\"backgroundcolor\":\"#E5ECF6\",\"gridcolor\":\"white\",\"linecolor\":\"white\",\"showbackground\":true,\"ticks\":\"\",\"zerolinecolor\":\"white\",\"gridwidth\":2},\"yaxis\":{\"backgroundcolor\":\"#E5ECF6\",\"gridcolor\":\"white\",\"linecolor\":\"white\",\"showbackground\":true,\"ticks\":\"\",\"zerolinecolor\":\"white\",\"gridwidth\":2},\"zaxis\":{\"backgroundcolor\":\"#E5ECF6\",\"gridcolor\":\"white\",\"linecolor\":\"white\",\"showbackground\":true,\"ticks\":\"\",\"zerolinecolor\":\"white\",\"gridwidth\":2}},\"shapedefaults\":{\"line\":{\"color\":\"#2a3f5f\"}},\"annotationdefaults\":{\"arrowcolor\":\"#2a3f5f\",\"arrowhead\":0,\"arrowwidth\":1},\"geo\":{\"bgcolor\":\"white\",\"landcolor\":\"#E5ECF6\",\"subunitcolor\":\"white\",\"showland\":true,\"showlakes\":true,\"lakecolor\":\"white\"},\"title\":{\"x\":0.05},\"mapbox\":{\"style\":\"light\"}}},\"title\":{\"text\":\"\"}},                        {\"responsive\": true}                    ).then(function(){\n",
       "                            \n",
       "var gd = document.getElementById('4cd96d30-ab58-44e1-bd98-117cc3d728b7');\n",
       "var x = new MutationObserver(function (mutations, observer) {{\n",
       "        var display = window.getComputedStyle(gd).display;\n",
       "        if (!display || display === 'none') {{\n",
       "            console.log([gd, 'removed!']);\n",
       "            Plotly.purge(gd);\n",
       "            observer.disconnect();\n",
       "        }}\n",
       "}});\n",
       "\n",
       "// Listen for the removal of the full notebook cells\n",
       "var notebookContainer = gd.closest('#notebook-container');\n",
       "if (notebookContainer) {{\n",
       "    x.observe(notebookContainer, {childList: true});\n",
       "}}\n",
       "\n",
       "// Listen for the clearing of the current output cell\n",
       "var outputEl = gd.closest('.output');\n",
       "if (outputEl) {{\n",
       "    x.observe(outputEl, {childList: true});\n",
       "}}\n",
       "\n",
       "                        })                };                });            </script>        </div>"
      ]
     },
     "metadata": {},
     "output_type": "display_data"
    }
   ],
   "source": [
    "import plotly.figure_factory as ff\n",
    "import numpy as np\n",
    "\n",
    "x1 = D\n",
    "x2 = G\n",
    "\n",
    "group_labels = ['Standard', 'Agglomerative Clustering']\n",
    "\n",
    "colors = ['slategray', 'magenta']\n",
    "\n",
    "# Create distplot with curve_type set to 'normal'\n",
    "fig = ff.create_distplot([x1, x2], group_labels, bin_size=1,\n",
    "                         curve_type='kde', show_rug=False, # override default 'kde'\n",
    "                         colors=colors)\n",
    "\n",
    "# Add title\n",
    "fig.update_layout(title_text='')\n",
    "fig.show()"
   ]
  },
  {
   "cell_type": "code",
   "execution_count": null,
   "metadata": {},
   "outputs": [],
   "source": []
  }
 ],
 "metadata": {
  "kernelspec": {
   "display_name": "Python 3",
   "language": "python",
   "name": "python3"
  },
  "language_info": {
   "codemirror_mode": {
    "name": "ipython",
    "version": 3
   },
   "file_extension": ".py",
   "mimetype": "text/x-python",
   "name": "python",
   "nbconvert_exporter": "python",
   "pygments_lexer": "ipython3",
   "version": "3.11.6"
  }
 },
 "nbformat": 4,
 "nbformat_minor": 2
}
